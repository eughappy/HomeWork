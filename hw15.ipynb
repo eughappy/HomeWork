{
  "nbformat": 4,
  "nbformat_minor": 0,
  "metadata": {
    "colab": {
      "provenance": [],
      "authorship_tag": "ABX9TyN5kQ9cREQzJbK5MRXHUmp1",
      "include_colab_link": true
    },
    "kernelspec": {
      "name": "python3",
      "display_name": "Python 3"
    },
    "language_info": {
      "name": "python"
    }
  },
  "cells": [
    {
      "cell_type": "markdown",
      "metadata": {
        "id": "view-in-github",
        "colab_type": "text"
      },
      "source": [
        "<a href=\"https://colab.research.google.com/github/eughappy/HomeWork/blob/NLP/hw15.ipynb\" target=\"_parent\"><img src=\"https://colab.research.google.com/assets/colab-badge.svg\" alt=\"Open In Colab\"/></a>"
      ]
    },
    {
      "cell_type": "markdown",
      "source": [
        "# **Почтаковий текст**\n",
        "\n",
        "\n",
        "The Orbiter Discovery, OV-103, is considered eligible for listing in the National Register of Historic Places (NRHP) in the context of the U.S. Space Shuttle Program (1969-2011) under Criterion A in the areas of Space Exploration and Transportation and under Criterion C in the area of Engineering. Because it has achieved significance within the past fifty years, Criteria Consideration G applies. Under Criterion A, Discovery is significant as the oldest of the three extant orbiter vehicles constructed for the Space Shuttle Program (SSP), the longest running American space program to date; she was the third of five orbiters built by NASA. Unlike the Mercury, Gemini, and Apollo programs, the SSP’s emphasis was on cost effectiveness and reusability, and eventually the construction of a space station. Including her maiden voyage (launched August 30, 1984), Discovery flew to space thirty-nine times, more than any of the other four orbiters; she was also the first orbiter to fly twenty missions. She had the honor of being chosen as the Return to Flight vehicle after both the Challenger and Columbia accidents. Discovery was the first shuttle to fly with the redesigned SRBs, a result of the Challenger accident, and the first shuttle to fly with the Phase II and Block I SSME. Discovery also carried the Hubble Space Telescope to orbit and performed two of the five servicing missions to the observatory. She flew the first and last dedicated Department of Defense (DoD) missions, as well as the first unclassified defense-related mission. In addition, Discovery was vital to the construction of the International Space Station (ISS); she flew thirteen of the thirty-seven total missions flown to the station by a U.S. Space Shuttle. She was the first orbiter to dock to the ISS, and the first to perform an exchange of a resident crew. Under Criterion C, Discovery is significant as a feat of engineering. According to Wayne Hale, a flight director from Johnson Space Center, the Space Shuttle orbiter represents a “huge technological leap from expendable rockets and capsules to a reusable, winged, hypersonic, cargo-carrying spacecraft.” Although her base structure followed a conventional aircraft design, she used advanced materials that both minimized her weight for cargo-carrying purposes and featured low thermal expansion ratios, which provided a stable base for her Thermal Protection System (TPS) materials. The Space Shuttle orbiter also featured the first reusable TPS; all previous spaceflight vehicles had a single-use, ablative heat shield. Other notable engineering achievements of the orbiter included the first reusable orbital propulsion system, and the first two-fault-tolerant Integrated Avionics System. As Hale stated, the Space Shuttle remains “the largest, fastest, winged hypersonic aircraft in history,” having regularly flown at twenty-five times the speed of sound.\n"
      ],
      "metadata": {
        "id": "FmLW2VnAUg0A"
      }
    },
    {
      "cell_type": "code",
      "execution_count": 2,
      "metadata": {
        "id": "y1P-VkzmpWHe"
      },
      "outputs": [],
      "source": [
        "import spacy\n",
        "from spacy.lang.en.stop_words import STOP_WORDS\n",
        "from string import punctuation\n",
        "from heapq import nlargest"
      ]
    },
    {
      "cell_type": "code",
      "source": [
        "nlp = spacy.load(\"en_core_web_sm\")"
      ],
      "metadata": {
        "id": "mscUNOHtfX9_"
      },
      "execution_count": 3,
      "outputs": []
    },
    {
      "cell_type": "code",
      "source": [
        "# Текст\n",
        "text = '''\n",
        "The Orbiter Discovery, OV-103, is considered eligible for listing in the National Register of Historic Places (NRHP) in the context of the U.S. Space Shuttle Program (1969-2011) under Criterion A in the areas of Space Exploration and Transportation and under Criterion C in the area of Engineering. Because it has achieved significance within the past fifty years, Criteria Consideration G applies. Under Criterion A, Discovery is significant as the oldest of the three extant orbiter vehicles constructed for the Space Shuttle Program (SSP), the longest running American space program to date; she was the third of five orbiters built by NASA. Unlike the Mercury, Gemini, and Apollo programs, the SSP’s emphasis was on cost effectiveness and reusability, and eventually the construction of a space station. Including her maiden voyage (launched August 30, 1984), Discovery flew to space thirty-nine times, more than any of the other four orbiters; she was also the first orbiter to fly twenty missions. She had the honor of being chosen as the Return to Flight vehicle after both the Challenger and Columbia accidents. Discovery was the first shuttle to fly with the redesigned SRBs, a result of the Challenger accident, and the first shuttle to fly with the Phase II and Block I SSME. Discovery also carried the Hubble Space Telescope to orbit and performed two of the five servicing missions to the observatory. She flew the first and last dedicated Department of Defense (DoD) missions, as well as the first unclassified defense-related mission. In addition, Discovery was vital to the construction of the International Space Station (ISS); she flew thirteen of the thirty-seven total missions flown to the station by a U.S. Space Shuttle. She was the first orbiter to dock to the ISS, and the first to perform an exchange of a resident crew. Under Criterion C, Discovery is significant as a feat of engineering. According to Wayne Hale, a flight director from Johnson Space Center, the Space Shuttle orbiter represents a “huge technological leap from expendable rockets and capsules to a reusable, winged, hypersonic, cargo-carrying spacecraft.” Although her base structure followed a conventional aircraft design, she used advanced materials that both minimized her weight for cargo-carrying purposes and featured low thermal expansion ratios, which provided a stable base for her Thermal Protection System (TPS) materials. The Space Shuttle orbiter also featured the first reusable TPS; all previous spaceflight vehicles had a single-use, ablative heat shield. Other notable engineering achievements of the orbiter included the first reusable orbital propulsion system, and the first two-fault-tolerant Integrated Avionics System. As Hale stated, the Space Shuttle remains “the largest, fastest, winged hypersonic aircraft in history,” having regularly flown at twenty\n",
        "'''"
      ],
      "metadata": {
        "id": "NxFeAJJpfOgN"
      },
      "execution_count": 4,
      "outputs": []
    },
    {
      "cell_type": "code",
      "source": [
        "stop_words = list(STOP_WORDS)\n",
        "doc = nlp(text)\n",
        "tokens = [token.text for token in doc]# Токени без підготовки\n",
        "print(tokens)"
      ],
      "metadata": {
        "colab": {
          "base_uri": "https://localhost:8080/"
        },
        "id": "gD8S-A96fQep",
        "outputId": "1d2d0f4c-01be-46c8-fc77-b101e8cfdfe7"
      },
      "execution_count": 9,
      "outputs": [
        {
          "output_type": "stream",
          "name": "stdout",
          "text": [
            "['\\n', 'The', 'Orbiter', 'Discovery', ',', 'OV-103', ',', 'is', 'considered', 'eligible', 'for', 'listing', 'in', 'the', 'National', 'Register', 'of', 'Historic', 'Places', '(', 'NRHP', ')', 'in', 'the', 'context', 'of', 'the', 'U.S.', 'Space', 'Shuttle', 'Program', '(', '1969', '-', '2011', ')', 'under', 'Criterion', 'A', 'in', 'the', 'areas', 'of', 'Space', 'Exploration', 'and', 'Transportation', 'and', 'under', 'Criterion', 'C', 'in', 'the', 'area', 'of', 'Engineering', '.', 'Because', 'it', 'has', 'achieved', 'significance', 'within', 'the', 'past', 'fifty', 'years', ',', 'Criteria', 'Consideration', 'G', 'applies', '.', 'Under', 'Criterion', 'A', ',', 'Discovery', 'is', 'significant', 'as', 'the', 'oldest', 'of', 'the', 'three', 'extant', 'orbiter', 'vehicles', 'constructed', 'for', 'the', 'Space', 'Shuttle', 'Program', '(', 'SSP', ')', ',', 'the', 'longest', 'running', 'American', 'space', 'program', 'to', 'date', ';', 'she', 'was', 'the', 'third', 'of', 'five', 'orbiters', 'built', 'by', 'NASA', '.', 'Unlike', 'the', 'Mercury', ',', 'Gemini', ',', 'and', 'Apollo', 'programs', ',', 'the', 'SSP', '’s', 'emphasis', 'was', 'on', 'cost', 'effectiveness', 'and', 'reusability', ',', 'and', 'eventually', 'the', 'construction', 'of', 'a', 'space', 'station', '.', 'Including', 'her', 'maiden', 'voyage', '(', 'launched', 'August', '30', ',', '1984', ')', ',', 'Discovery', 'flew', 'to', 'space', 'thirty', '-', 'nine', 'times', ',', 'more', 'than', 'any', 'of', 'the', 'other', 'four', 'orbiters', ';', 'she', 'was', 'also', 'the', 'first', 'orbiter', 'to', 'fly', 'twenty', 'missions', '.', 'She', 'had', 'the', 'honor', 'of', 'being', 'chosen', 'as', 'the', 'Return', 'to', 'Flight', 'vehicle', 'after', 'both', 'the', 'Challenger', 'and', 'Columbia', 'accidents', '.', 'Discovery', 'was', 'the', 'first', 'shuttle', 'to', 'fly', 'with', 'the', 'redesigned', 'SRBs', ',', 'a', 'result', 'of', 'the', 'Challenger', 'accident', ',', 'and', 'the', 'first', 'shuttle', 'to', 'fly', 'with', 'the', 'Phase', 'II', 'and', 'Block', 'I', 'SSME', '.', 'Discovery', 'also', 'carried', 'the', 'Hubble', 'Space', 'Telescope', 'to', 'orbit', 'and', 'performed', 'two', 'of', 'the', 'five', 'servicing', 'missions', 'to', 'the', 'observatory', '.', 'She', 'flew', 'the', 'first', 'and', 'last', 'dedicated', 'Department', 'of', 'Defense', '(', 'DoD', ')', 'missions', ',', 'as', 'well', 'as', 'the', 'first', 'unclassified', 'defense', '-', 'related', 'mission', '.', 'In', 'addition', ',', 'Discovery', 'was', 'vital', 'to', 'the', 'construction', 'of', 'the', 'International', 'Space', 'Station', '(', 'ISS', ')', ';', 'she', 'flew', 'thirteen', 'of', 'the', 'thirty', '-', 'seven', 'total', 'missions', 'flown', 'to', 'the', 'station', 'by', 'a', 'U.S.', 'Space', 'Shuttle', '.', 'She', 'was', 'the', 'first', 'orbiter', 'to', 'dock', 'to', 'the', 'ISS', ',', 'and', 'the', 'first', 'to', 'perform', 'an', 'exchange', 'of', 'a', 'resident', 'crew', '.', 'Under', 'Criterion', 'C', ',', 'Discovery', 'is', 'significant', 'as', 'a', 'feat', 'of', 'engineering', '.', 'According', 'to', 'Wayne', 'Hale', ',', 'a', 'flight', 'director', 'from', 'Johnson', 'Space', 'Center', ',', 'the', 'Space', 'Shuttle', 'orbiter', 'represents', 'a', '“', 'huge', 'technological', 'leap', 'from', 'expendable', 'rockets', 'and', 'capsules', 'to', 'a', 'reusable', ',', 'winged', ',', 'hypersonic', ',', 'cargo', '-', 'carrying', 'spacecraft', '.', '”', 'Although', 'her', 'base', 'structure', 'followed', 'a', 'conventional', 'aircraft', 'design', ',', 'she', 'used', 'advanced', 'materials', 'that', 'both', 'minimized', 'her', 'weight', 'for', 'cargo', '-', 'carrying', 'purposes', 'and', 'featured', 'low', 'thermal', 'expansion', 'ratios', ',', 'which', 'provided', 'a', 'stable', 'base', 'for', 'her', 'Thermal', 'Protection', 'System', '(', 'TPS', ')', 'materials', '.', 'The', 'Space', 'Shuttle', 'orbiter', 'also', 'featured', 'the', 'first', 'reusable', 'TPS', ';', 'all', 'previous', 'spaceflight', 'vehicles', 'had', 'a', 'single', '-', 'use', ',', 'ablative', 'heat', 'shield', '.', 'Other', 'notable', 'engineering', 'achievements', 'of', 'the', 'orbiter', 'included', 'the', 'first', 'reusable', 'orbital', 'propulsion', 'system', ',', 'and', 'the', 'first', 'two', '-', 'fault', '-', 'tolerant', 'Integrated', 'Avionics', 'System', '.', 'As', 'Hale', 'stated', ',', 'the', 'Space', 'Shuttle', 'remains', '“', 'the', 'largest', ',', 'fastest', ',', 'winged', 'hypersonic', 'aircraft', 'in', 'history', ',', '”', 'having', 'regularly', 'flown', 'at', 'twenty', '\\n']\n"
          ]
        }
      ]
    },
    {
      "cell_type": "code",
      "source": [
        "#Підготовка тексту\n",
        "processed_text = [token.text for token in doc if not token.is_punct and token.text != '\\n' and token.text not in stop_words]# Токени після підготовки\n",
        "print(processed_text)"
      ],
      "metadata": {
        "colab": {
          "base_uri": "https://localhost:8080/"
        },
        "id": "bmoimSKIf4iO",
        "outputId": "1a1376a2-9f72-4c80-8cb8-cf34605ff204"
      },
      "execution_count": 10,
      "outputs": [
        {
          "output_type": "stream",
          "name": "stdout",
          "text": [
            "['The', 'Orbiter', 'Discovery', 'OV-103', 'considered', 'eligible', 'listing', 'National', 'Register', 'Historic', 'Places', 'NRHP', 'context', 'U.S.', 'Space', 'Shuttle', 'Program', '1969', '2011', 'Criterion', 'A', 'areas', 'Space', 'Exploration', 'Transportation', 'Criterion', 'C', 'area', 'Engineering', 'Because', 'achieved', 'significance', 'past', 'years', 'Criteria', 'Consideration', 'G', 'applies', 'Under', 'Criterion', 'A', 'Discovery', 'significant', 'oldest', 'extant', 'orbiter', 'vehicles', 'constructed', 'Space', 'Shuttle', 'Program', 'SSP', 'longest', 'running', 'American', 'space', 'program', 'date', 'orbiters', 'built', 'NASA', 'Unlike', 'Mercury', 'Gemini', 'Apollo', 'programs', 'SSP', 'emphasis', 'cost', 'effectiveness', 'reusability', 'eventually', 'construction', 'space', 'station', 'Including', 'maiden', 'voyage', 'launched', 'August', '30', '1984', 'Discovery', 'flew', 'space', 'thirty', 'times', 'orbiters', 'orbiter', 'fly', 'missions', 'She', 'honor', 'chosen', 'Return', 'Flight', 'vehicle', 'Challenger', 'Columbia', 'accidents', 'Discovery', 'shuttle', 'fly', 'redesigned', 'SRBs', 'result', 'Challenger', 'accident', 'shuttle', 'fly', 'Phase', 'II', 'Block', 'I', 'SSME', 'Discovery', 'carried', 'Hubble', 'Space', 'Telescope', 'orbit', 'performed', 'servicing', 'missions', 'observatory', 'She', 'flew', 'dedicated', 'Department', 'Defense', 'DoD', 'missions', 'unclassified', 'defense', 'related', 'mission', 'In', 'addition', 'Discovery', 'vital', 'construction', 'International', 'Space', 'Station', 'ISS', 'flew', 'thirteen', 'thirty', 'seven', 'total', 'missions', 'flown', 'station', 'U.S.', 'Space', 'Shuttle', 'She', 'orbiter', 'dock', 'ISS', 'perform', 'exchange', 'resident', 'crew', 'Under', 'Criterion', 'C', 'Discovery', 'significant', 'feat', 'engineering', 'According', 'Wayne', 'Hale', 'flight', 'director', 'Johnson', 'Space', 'Center', 'Space', 'Shuttle', 'orbiter', 'represents', 'huge', 'technological', 'leap', 'expendable', 'rockets', 'capsules', 'reusable', 'winged', 'hypersonic', 'cargo', 'carrying', 'spacecraft', 'Although', 'base', 'structure', 'followed', 'conventional', 'aircraft', 'design', 'advanced', 'materials', 'minimized', 'weight', 'cargo', 'carrying', 'purposes', 'featured', 'low', 'thermal', 'expansion', 'ratios', 'provided', 'stable', 'base', 'Thermal', 'Protection', 'System', 'TPS', 'materials', 'The', 'Space', 'Shuttle', 'orbiter', 'featured', 'reusable', 'TPS', 'previous', 'spaceflight', 'vehicles', 'single', 'use', 'ablative', 'heat', 'shield', 'Other', 'notable', 'engineering', 'achievements', 'orbiter', 'included', 'reusable', 'orbital', 'propulsion', 'system', 'fault', 'tolerant', 'Integrated', 'Avionics', 'System', 'As', 'Hale', 'stated', 'Space', 'Shuttle', 'remains', 'largest', 'fastest', 'winged', 'hypersonic', 'aircraft', 'history', 'having', 'regularly', 'flown']\n"
          ]
        }
      ]
    },
    {
      "cell_type": "code",
      "source": [
        "word_frequencies = {}\n",
        "for word in processed_text:\n",
        "    if word not in word_frequencies.keys():\n",
        "        word_frequencies[word] = 1\n",
        "    else:\n",
        "        word_frequencies[word] += 1"
      ],
      "metadata": {
        "id": "9sjhms70jSJL"
      },
      "execution_count": 20,
      "outputs": []
    },
    {
      "cell_type": "code",
      "source": [
        "max_freq = max(word_frequencies.values())"
      ],
      "metadata": {
        "id": "Y2mbPOgfQS3B"
      },
      "execution_count": 21,
      "outputs": []
    },
    {
      "cell_type": "code",
      "source": [
        "for word in word_frequencies.keys():\n",
        "    word_frequencies[word]=word_frequencies[word]/max_freq #Нормалізуємо словник частоти слів"
      ],
      "metadata": {
        "id": "4ym_jp91pNqF"
      },
      "execution_count": 22,
      "outputs": []
    },
    {
      "cell_type": "code",
      "source": [
        "word_frequencies"
      ],
      "metadata": {
        "id": "gwVUQgbRpR1z",
        "outputId": "a111b419-b505-4793-9031-9ceefd5ba6ca",
        "colab": {
          "base_uri": "https://localhost:8080/"
        }
      },
      "execution_count": 23,
      "outputs": [
        {
          "output_type": "execute_result",
          "data": {
            "text/plain": [
              "{'The': 0.2,\n",
              " 'Orbiter': 0.1,\n",
              " 'Discovery': 0.7,\n",
              " 'OV-103': 0.1,\n",
              " 'considered': 0.1,\n",
              " 'eligible': 0.1,\n",
              " 'listing': 0.1,\n",
              " 'National': 0.1,\n",
              " 'Register': 0.1,\n",
              " 'Historic': 0.1,\n",
              " 'Places': 0.1,\n",
              " 'NRHP': 0.1,\n",
              " 'context': 0.1,\n",
              " 'U.S.': 0.2,\n",
              " 'Space': 1.0,\n",
              " 'Shuttle': 0.6,\n",
              " 'Program': 0.2,\n",
              " '1969': 0.1,\n",
              " '2011': 0.1,\n",
              " 'Criterion': 0.4,\n",
              " 'A': 0.2,\n",
              " 'areas': 0.1,\n",
              " 'Exploration': 0.1,\n",
              " 'Transportation': 0.1,\n",
              " 'C': 0.2,\n",
              " 'area': 0.1,\n",
              " 'Engineering': 0.1,\n",
              " 'Because': 0.1,\n",
              " 'achieved': 0.1,\n",
              " 'significance': 0.1,\n",
              " 'past': 0.1,\n",
              " 'years': 0.1,\n",
              " 'Criteria': 0.1,\n",
              " 'Consideration': 0.1,\n",
              " 'G': 0.1,\n",
              " 'applies': 0.1,\n",
              " 'Under': 0.2,\n",
              " 'significant': 0.2,\n",
              " 'oldest': 0.1,\n",
              " 'extant': 0.1,\n",
              " 'orbiter': 0.6,\n",
              " 'vehicles': 0.2,\n",
              " 'constructed': 0.1,\n",
              " 'SSP': 0.2,\n",
              " 'longest': 0.1,\n",
              " 'running': 0.1,\n",
              " 'American': 0.1,\n",
              " 'space': 0.3,\n",
              " 'program': 0.1,\n",
              " 'date': 0.1,\n",
              " 'orbiters': 0.2,\n",
              " 'built': 0.1,\n",
              " 'NASA': 0.1,\n",
              " 'Unlike': 0.1,\n",
              " 'Mercury': 0.1,\n",
              " 'Gemini': 0.1,\n",
              " 'Apollo': 0.1,\n",
              " 'programs': 0.1,\n",
              " 'emphasis': 0.1,\n",
              " 'cost': 0.1,\n",
              " 'effectiveness': 0.1,\n",
              " 'reusability': 0.1,\n",
              " 'eventually': 0.1,\n",
              " 'construction': 0.2,\n",
              " 'station': 0.2,\n",
              " 'Including': 0.1,\n",
              " 'maiden': 0.1,\n",
              " 'voyage': 0.1,\n",
              " 'launched': 0.1,\n",
              " 'August': 0.1,\n",
              " '30': 0.1,\n",
              " '1984': 0.1,\n",
              " 'flew': 0.3,\n",
              " 'thirty': 0.2,\n",
              " 'times': 0.1,\n",
              " 'fly': 0.3,\n",
              " 'missions': 0.4,\n",
              " 'She': 0.3,\n",
              " 'honor': 0.1,\n",
              " 'chosen': 0.1,\n",
              " 'Return': 0.1,\n",
              " 'Flight': 0.1,\n",
              " 'vehicle': 0.1,\n",
              " 'Challenger': 0.2,\n",
              " 'Columbia': 0.1,\n",
              " 'accidents': 0.1,\n",
              " 'shuttle': 0.2,\n",
              " 'redesigned': 0.1,\n",
              " 'SRBs': 0.1,\n",
              " 'result': 0.1,\n",
              " 'accident': 0.1,\n",
              " 'Phase': 0.1,\n",
              " 'II': 0.1,\n",
              " 'Block': 0.1,\n",
              " 'I': 0.1,\n",
              " 'SSME': 0.1,\n",
              " 'carried': 0.1,\n",
              " 'Hubble': 0.1,\n",
              " 'Telescope': 0.1,\n",
              " 'orbit': 0.1,\n",
              " 'performed': 0.1,\n",
              " 'servicing': 0.1,\n",
              " 'observatory': 0.1,\n",
              " 'dedicated': 0.1,\n",
              " 'Department': 0.1,\n",
              " 'Defense': 0.1,\n",
              " 'DoD': 0.1,\n",
              " 'unclassified': 0.1,\n",
              " 'defense': 0.1,\n",
              " 'related': 0.1,\n",
              " 'mission': 0.1,\n",
              " 'In': 0.1,\n",
              " 'addition': 0.1,\n",
              " 'vital': 0.1,\n",
              " 'International': 0.1,\n",
              " 'Station': 0.1,\n",
              " 'ISS': 0.2,\n",
              " 'thirteen': 0.1,\n",
              " 'seven': 0.1,\n",
              " 'total': 0.1,\n",
              " 'flown': 0.2,\n",
              " 'dock': 0.1,\n",
              " 'perform': 0.1,\n",
              " 'exchange': 0.1,\n",
              " 'resident': 0.1,\n",
              " 'crew': 0.1,\n",
              " 'feat': 0.1,\n",
              " 'engineering': 0.2,\n",
              " 'According': 0.1,\n",
              " 'Wayne': 0.1,\n",
              " 'Hale': 0.2,\n",
              " 'flight': 0.1,\n",
              " 'director': 0.1,\n",
              " 'Johnson': 0.1,\n",
              " 'Center': 0.1,\n",
              " 'represents': 0.1,\n",
              " 'huge': 0.1,\n",
              " 'technological': 0.1,\n",
              " 'leap': 0.1,\n",
              " 'expendable': 0.1,\n",
              " 'rockets': 0.1,\n",
              " 'capsules': 0.1,\n",
              " 'reusable': 0.3,\n",
              " 'winged': 0.2,\n",
              " 'hypersonic': 0.2,\n",
              " 'cargo': 0.2,\n",
              " 'carrying': 0.2,\n",
              " 'spacecraft': 0.1,\n",
              " 'Although': 0.1,\n",
              " 'base': 0.2,\n",
              " 'structure': 0.1,\n",
              " 'followed': 0.1,\n",
              " 'conventional': 0.1,\n",
              " 'aircraft': 0.2,\n",
              " 'design': 0.1,\n",
              " 'advanced': 0.1,\n",
              " 'materials': 0.2,\n",
              " 'minimized': 0.1,\n",
              " 'weight': 0.1,\n",
              " 'purposes': 0.1,\n",
              " 'featured': 0.2,\n",
              " 'low': 0.1,\n",
              " 'thermal': 0.1,\n",
              " 'expansion': 0.1,\n",
              " 'ratios': 0.1,\n",
              " 'provided': 0.1,\n",
              " 'stable': 0.1,\n",
              " 'Thermal': 0.1,\n",
              " 'Protection': 0.1,\n",
              " 'System': 0.2,\n",
              " 'TPS': 0.2,\n",
              " 'previous': 0.1,\n",
              " 'spaceflight': 0.1,\n",
              " 'single': 0.1,\n",
              " 'use': 0.1,\n",
              " 'ablative': 0.1,\n",
              " 'heat': 0.1,\n",
              " 'shield': 0.1,\n",
              " 'Other': 0.1,\n",
              " 'notable': 0.1,\n",
              " 'achievements': 0.1,\n",
              " 'included': 0.1,\n",
              " 'orbital': 0.1,\n",
              " 'propulsion': 0.1,\n",
              " 'system': 0.1,\n",
              " 'fault': 0.1,\n",
              " 'tolerant': 0.1,\n",
              " 'Integrated': 0.1,\n",
              " 'Avionics': 0.1,\n",
              " 'As': 0.1,\n",
              " 'stated': 0.1,\n",
              " 'remains': 0.1,\n",
              " 'largest': 0.1,\n",
              " 'fastest': 0.1,\n",
              " 'history': 0.1,\n",
              " 'having': 0.1,\n",
              " 'regularly': 0.1}"
            ]
          },
          "metadata": {},
          "execution_count": 23
        }
      ]
    },
    {
      "cell_type": "code",
      "source": [
        "# Отримання оцінки речень\n",
        "def sentence_ranking(sentences):\n",
        "    ranking = {}\n",
        "    for sent in sentences:\n",
        "        for word in sent:\n",
        "            if word.text in word_frequencies.keys():\n",
        "                if sent not in ranking:\n",
        "                    ranking[sent] = word_frequencies[word.text]\n",
        "                else:\n",
        "                    ranking[sent] += word_frequencies[word.text]\n",
        "    return ranking"
      ],
      "metadata": {
        "id": "yhsrACEdfTK7"
      },
      "execution_count": 34,
      "outputs": []
    },
    {
      "cell_type": "code",
      "source": [
        "sentence_ranking(doc.sents)"
      ],
      "metadata": {
        "colab": {
          "base_uri": "https://localhost:8080/"
        },
        "id": "JuUZu10TTm6L",
        "outputId": "61ab2911-727f-4d31-c6f5-bb53dc4845d0"
      },
      "execution_count": 38,
      "outputs": [
        {
          "output_type": "execute_result",
          "data": {
            "text/plain": [
              "{\n",
              " The Orbiter Discovery, OV-103, is considered eligible for listing in the National Register of Historic Places (NRHP) in the context of the U.S. Space Shuttle Program (1969-2011) under Criterion A in the areas of Space Exploration and Transportation and under Criterion C in the area of Engineering.: 6.8999999999999995,\n",
              " Because it has achieved significance within the past fifty years, Criteria Consideration G applies.: 0.8999999999999999,\n",
              " Under Criterion A, Discovery is significant as the oldest of the three extant orbiter vehicles constructed for the Space Shuttle Program (SSP), the longest running American space program to date; she was the third of five orbiters built by NASA.: 5.999999999999998,\n",
              " Unlike the Mercury, Gemini, and Apollo programs, the SSP’s emphasis was on cost effectiveness and reusability, and eventually the construction of a space station.: 1.9,\n",
              " Including her maiden voyage (launched August 30, 1984), Discovery flew to space thirty-nine times, more than any of the other four orbiters; she was also the first orbiter to fly twenty missions.: 3.8000000000000003,\n",
              " She had the honor of being chosen as the Return to Flight vehicle after both the Challenger and Columbia accidents.: 1.2000000000000002,\n",
              " Discovery was the first shuttle to fly with the redesigned SRBs, a result of the Challenger accident, and the first shuttle to fly with the Phase II and Block I SSME.: 2.8000000000000007,\n",
              " Discovery also carried the Hubble Space Telescope to orbit and performed two of the five servicing missions to the observatory.: 2.8000000000000003,\n",
              " She flew the first and last dedicated Department of Defense (DoD) missions, as well as the first unclassified defense-related mission.: 1.8000000000000003,\n",
              " In addition, Discovery was vital to the construction of the International Space Station (ISS); she flew thirteen of the thirty-seven total missions flown to the station by a U.S. Space Shuttle.: 6.0,\n",
              " She was the first orbiter to dock to the ISS, and the first to perform an exchange of a resident crew.: 1.6000000000000003,\n",
              " Under Criterion C, Discovery is significant as a feat of engineering.: 2.0,\n",
              " According to Wayne Hale, a flight director from Johnson Space Center, the Space Shuttle orbiter represents a “huge technological leap from expendable rockets and capsules to a reusable, winged, hypersonic, cargo-carrying spacecraft.”: 5.899999999999998,\n",
              " Although her base structure followed a conventional aircraft design, she used advanced materials that both minimized her weight for cargo-carrying purposes and featured low thermal expansion ratios, which provided a stable base for her Thermal Protection System (TPS) materials.: 3.7000000000000015,\n",
              " The Space Shuttle orbiter also featured the first reusable TPS; all previous spaceflight vehicles had a single-use, ablative heat shield.: 4.000000000000001,\n",
              " Other notable engineering achievements of the orbiter included the first reusable orbital propulsion system, and the first two-fault-tolerant Integrated Avionics System.: 2.400000000000001,\n",
              " As Hale stated, the Space Shuttle remains “the largest, fastest, winged hypersonic aircraft in history,” having regularly flown at twenty: 3.4000000000000012}"
            ]
          },
          "metadata": {},
          "execution_count": 38
        }
      ]
    },
    {
      "cell_type": "code",
      "source": [
        "nlargest(5, sentence_ranking(doc.sents), sentence_ranking(doc.sents).get)"
      ],
      "metadata": {
        "colab": {
          "base_uri": "https://localhost:8080/"
        },
        "id": "zmfTj7__fUVQ",
        "outputId": "89ac4138-1e3b-46cb-fd7e-85b460a1a4e1"
      },
      "execution_count": 37,
      "outputs": [
        {
          "output_type": "execute_result",
          "data": {
            "text/plain": [
              "[\n",
              " The Orbiter Discovery, OV-103, is considered eligible for listing in the National Register of Historic Places (NRHP) in the context of the U.S. Space Shuttle Program (1969-2011) under Criterion A in the areas of Space Exploration and Transportation and under Criterion C in the area of Engineering.,\n",
              " In addition, Discovery was vital to the construction of the International Space Station (ISS); she flew thirteen of the thirty-seven total missions flown to the station by a U.S. Space Shuttle.,\n",
              " Under Criterion A, Discovery is significant as the oldest of the three extant orbiter vehicles constructed for the Space Shuttle Program (SSP), the longest running American space program to date; she was the third of five orbiters built by NASA.,\n",
              " According to Wayne Hale, a flight director from Johnson Space Center, the Space Shuttle orbiter represents a “huge technological leap from expendable rockets and capsules to a reusable, winged, hypersonic, cargo-carrying spacecraft.”,\n",
              " The Space Shuttle orbiter also featured the first reusable TPS; all previous spaceflight vehicles had a single-use, ablative heat shield.]"
            ]
          },
          "metadata": {},
          "execution_count": 37
        }
      ]
    },
    {
      "cell_type": "markdown",
      "source": [
        "# **Як висновок маємо такий текст:**\n",
        "\n",
        "The Orbiter Discovery, OV-103, is considered eligible for listing in the National Register of Historic Places (NRHP) in the context of the U.S. Space Shuttle Program (1969-2011) under Criterion A in the areas of Space Exploration and Transportation and under Criterion C in the area of Engineering.,\n",
        " In addition, Discovery was vital to the construction of the International Space Station (ISS); she flew thirteen of the thirty-seven total missions flown to the station by a U.S. Space Shuttle.,\n",
        " Under Criterion A, Discovery is significant as the oldest of the three extant orbiter vehicles constructed for the Space Shuttle Program (SSP), the longest running American space program to date; she was the third of five orbiters built by NASA.,\n",
        " According to Wayne Hale, a flight director from Johnson Space Center, the Space Shuttle orbiter represents a “huge technological leap from expendable rockets and capsules to a reusable, winged, hypersonic, cargo-carrying spacecraft.”,\n",
        " The Space Shuttle orbiter also featured the first reusable TPS; all previous spaceflight vehicles had a single-use, ablative heat shield."
      ],
      "metadata": {
        "id": "-vWiDiZ6UXd7"
      }
    }
  ]
}