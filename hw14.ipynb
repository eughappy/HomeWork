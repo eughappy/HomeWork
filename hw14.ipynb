{
  "nbformat": 4,
  "nbformat_minor": 0,
  "metadata": {
    "colab": {
      "provenance": [],
      "authorship_tag": "ABX9TyMwEVUmsLIbNsgIfq63aJ2f",
      "include_colab_link": true
    },
    "kernelspec": {
      "name": "python3",
      "display_name": "Python 3"
    },
    "language_info": {
      "name": "python"
    }
  },
  "cells": [
    {
      "cell_type": "markdown",
      "metadata": {
        "id": "view-in-github",
        "colab_type": "text"
      },
      "source": [
        "<a href=\"https://colab.research.google.com/github/eughappy/HomeWork/blob/RNN/hw14.ipynb\" target=\"_parent\"><img src=\"https://colab.research.google.com/assets/colab-badge.svg\" alt=\"Open In Colab\"/></a>"
      ]
    },
    {
      "cell_type": "code",
      "execution_count": 2,
      "metadata": {
        "id": "OZFFP2gdfgdL"
      },
      "outputs": [],
      "source": [
        "import numpy as np\n",
        "from keras.datasets import imdb\n",
        "from keras.preprocessing import sequence\n",
        "from keras.models import Sequential\n",
        "from keras.layers import Embedding, SimpleRNN, LSTM, Dense, Bidirectional\n",
        "\n",
        "max_features = 10000\n",
        "maxlen = 500\n",
        "batch_size = 32"
      ]
    },
    {
      "cell_type": "code",
      "source": [
        "(x_train, y_train), (x_test, y_test) = imdb.load_data(num_words=max_features)\n",
        "x_train = sequence.pad_sequences(x_train, maxlen=maxlen)\n",
        "x_test = sequence.pad_sequences(x_test, maxlen=maxlen)"
      ],
      "metadata": {
        "colab": {
          "base_uri": "https://localhost:8080/"
        },
        "id": "Wlx7q0hXftiJ",
        "outputId": "996c51b4-1a8d-4a12-f1f2-e04976bab651"
      },
      "execution_count": 3,
      "outputs": [
        {
          "output_type": "stream",
          "name": "stdout",
          "text": [
            "Downloading data from https://storage.googleapis.com/tensorflow/tf-keras-datasets/imdb.npz\n",
            "17464789/17464789 [==============================] - 0s 0us/step\n"
          ]
        }
      ]
    },
    {
      "cell_type": "code",
      "source": [
        "model = Sequential()\n",
        "model.add(Embedding(max_features, 32, input_length=maxlen))\n",
        "model.add(SimpleRNN(32))\n",
        "model.add(Dense(1, activation='sigmoid'))\n",
        "model.compile(optimizer='adam', loss='binary_crossentropy', metrics=['accuracy'])\n",
        "history = model.fit(x_train, y_train, validation_data=(x_test,y_test), epochs=5, batch_size=64)\n",
        "score, acc = model.evaluate(x_test, y_test, batch_size=batch_size)\n",
        "print(f'Test accuracy of RNN model: {acc:.4f}\\n')"
      ],
      "metadata": {
        "colab": {
          "base_uri": "https://localhost:8080/"
        },
        "id": "0XHIM05O1Co4",
        "outputId": "6165aa73-5a8e-427f-ddce-d706c7d2cb52"
      },
      "execution_count": 6,
      "outputs": [
        {
          "output_type": "stream",
          "name": "stdout",
          "text": [
            "Epoch 1/5\n",
            "391/391 [==============================] - 57s 144ms/step - loss: 0.5955 - accuracy: 0.6571 - val_loss: 0.4180 - val_accuracy: 0.8207\n",
            "Epoch 2/5\n",
            "391/391 [==============================] - 61s 157ms/step - loss: 0.3753 - accuracy: 0.8417 - val_loss: 0.4298 - val_accuracy: 0.8114\n",
            "Epoch 3/5\n",
            "391/391 [==============================] - 62s 158ms/step - loss: 0.2339 - accuracy: 0.9088 - val_loss: 0.4370 - val_accuracy: 0.8380\n",
            "Epoch 4/5\n",
            "391/391 [==============================] - 57s 146ms/step - loss: 0.1145 - accuracy: 0.9618 - val_loss: 0.4719 - val_accuracy: 0.8301\n",
            "Epoch 5/5\n",
            "391/391 [==============================] - 58s 149ms/step - loss: 0.0531 - accuracy: 0.9850 - val_loss: 0.5806 - val_accuracy: 0.8130\n",
            "782/782 [==============================] - 19s 25ms/step - loss: 0.5806 - accuracy: 0.8130\n",
            "Test accuracy of RNN model: 0.8130\n",
            "\n"
          ]
        }
      ]
    },
    {
      "cell_type": "code",
      "source": [
        "model = Sequential()\n",
        "model.add(Embedding(max_features, 32, input_length=maxlen))\n",
        "model.add(LSTM(32))\n",
        "model.add(Dense(1, activation='sigmoid'))\n",
        "model.compile(optimizer='adam', loss='binary_crossentropy', metrics=['accuracy'])\n",
        "history = model.fit(x_train, y_train, validation_data=(x_test,y_test), epochs=5, batch_size=64)\n",
        "score, acc = model.evaluate(x_test, y_test, batch_size=batch_size)\n",
        "print(f'Test accuracy of LTSM model: {acc:.4f}\\n')"
      ],
      "metadata": {
        "colab": {
          "base_uri": "https://localhost:8080/"
        },
        "id": "n5IzSBoQf4iJ",
        "outputId": "7906e497-2eb9-4133-9d25-7293ef3ab08c"
      },
      "execution_count": 7,
      "outputs": [
        {
          "output_type": "stream",
          "name": "stdout",
          "text": [
            "Epoch 1/5\n",
            "391/391 [==============================] - 111s 279ms/step - loss: 0.4083 - accuracy: 0.8118 - val_loss: 0.3013 - val_accuracy: 0.8745\n",
            "Epoch 2/5\n",
            "391/391 [==============================] - 134s 343ms/step - loss: 0.2337 - accuracy: 0.9108 - val_loss: 0.3217 - val_accuracy: 0.8671\n",
            "Epoch 3/5\n",
            "391/391 [==============================] - 109s 278ms/step - loss: 0.1783 - accuracy: 0.9333 - val_loss: 0.3581 - val_accuracy: 0.8713\n",
            "Epoch 4/5\n",
            "391/391 [==============================] - 131s 334ms/step - loss: 0.1529 - accuracy: 0.9444 - val_loss: 0.3735 - val_accuracy: 0.8567\n",
            "Epoch 5/5\n",
            "391/391 [==============================] - 129s 329ms/step - loss: 0.1227 - accuracy: 0.9573 - val_loss: 0.3561 - val_accuracy: 0.8593\n",
            "782/782 [==============================] - 34s 43ms/step - loss: 0.3561 - accuracy: 0.8593\n",
            "Test accuracy of LTSM model: 0.8593\n",
            "\n"
          ]
        }
      ]
    },
    {
      "cell_type": "code",
      "source": [
        "model = Sequential()\n",
        "model.add(Embedding(max_features, 32, input_length=maxlen))\n",
        "model.add(Bidirectional(LSTM(32)))\n",
        "model.add(Dense(1, activation='sigmoid'))\n",
        "model.compile(optimizer='adam', loss='binary_crossentropy', metrics=['accuracy'])\n",
        "history = model.fit(x_train, y_train, validation_data=(x_test,y_test), epochs=5, batch_size=64)\n",
        "score, acc = model.evaluate(x_test, y_test, batch_size=batch_size)\n",
        "print(f'Test accuracy of biderectional LTSM model: {acc:.4f}\\n')"
      ],
      "metadata": {
        "colab": {
          "base_uri": "https://localhost:8080/"
        },
        "id": "pgSwrfu61lY8",
        "outputId": "c7ac6672-baa8-4113-e164-a0075d329eed"
      },
      "execution_count": 8,
      "outputs": [
        {
          "output_type": "stream",
          "name": "stdout",
          "text": [
            "Epoch 1/5\n",
            "391/391 [==============================] - 202s 505ms/step - loss: 0.4677 - accuracy: 0.7740 - val_loss: 0.3684 - val_accuracy: 0.8540\n",
            "Epoch 2/5\n",
            "391/391 [==============================] - 199s 508ms/step - loss: 0.2666 - accuracy: 0.8960 - val_loss: 0.3337 - val_accuracy: 0.8658\n",
            "Epoch 3/5\n",
            "391/391 [==============================] - 201s 514ms/step - loss: 0.1896 - accuracy: 0.9310 - val_loss: 0.3114 - val_accuracy: 0.8730\n",
            "Epoch 4/5\n",
            "391/391 [==============================] - 200s 512ms/step - loss: 0.1473 - accuracy: 0.9486 - val_loss: 0.3478 - val_accuracy: 0.8634\n",
            "Epoch 5/5\n",
            "391/391 [==============================] - 199s 511ms/step - loss: 0.1147 - accuracy: 0.9605 - val_loss: 0.3826 - val_accuracy: 0.8648\n",
            "782/782 [==============================] - 57s 73ms/step - loss: 0.3826 - accuracy: 0.8648\n",
            "Test accuracy of biderectional LTSM model: 0.8648\n",
            "\n"
          ]
        }
      ]
    },
    {
      "cell_type": "code",
      "source": [
        "model = Sequential()\n",
        "model.add(Embedding(max_features, 32, input_length=maxlen))\n",
        "model.add(LSTM(32, return_sequences=True))\n",
        "model.add(LSTM(32))\n",
        "model.add(Dense(1, activation='sigmoid'))\n",
        "model.compile(optimizer='adam', loss='binary_crossentropy', metrics=['accuracy'])\n",
        "history = model.fit(x_train, y_train, validation_data=(x_test,y_test), epochs=5, batch_size=64)\n",
        "score, acc = model.evaluate(x_test, y_test, batch_size=batch_size)\n",
        "print(f'Test accuracy of deep LTSM model: {acc:.4f}\\n')"
      ],
      "metadata": {
        "colab": {
          "base_uri": "https://localhost:8080/"
        },
        "id": "qrEkTsS_1nR8",
        "outputId": "90bad021-3719-4e32-cce0-d47a85204d3c"
      },
      "execution_count": 9,
      "outputs": [
        {
          "output_type": "stream",
          "name": "stdout",
          "text": [
            "Epoch 1/5\n",
            "391/391 [==============================] - 268s 674ms/step - loss: 0.4088 - accuracy: 0.8074 - val_loss: 0.3262 - val_accuracy: 0.8661\n",
            "Epoch 2/5\n",
            "391/391 [==============================] - 225s 576ms/step - loss: 0.2285 - accuracy: 0.9141 - val_loss: 0.3252 - val_accuracy: 0.8615\n",
            "Epoch 3/5\n",
            "391/391 [==============================] - 263s 673ms/step - loss: 0.1676 - accuracy: 0.9401 - val_loss: 0.3205 - val_accuracy: 0.8697\n",
            "Epoch 4/5\n",
            "391/391 [==============================] - 263s 673ms/step - loss: 0.1283 - accuracy: 0.9549 - val_loss: 0.4596 - val_accuracy: 0.8548\n",
            "Epoch 5/5\n",
            "391/391 [==============================] - 263s 674ms/step - loss: 0.1037 - accuracy: 0.9642 - val_loss: 0.4675 - val_accuracy: 0.8627\n",
            "782/782 [==============================] - 71s 90ms/step - loss: 0.4675 - accuracy: 0.8627\n",
            "Test accuracy of deep LTSM model: 0.8627\n",
            "\n"
          ]
        }
      ]
    },
    {
      "cell_type": "markdown",
      "source": [
        "Найкращі результати показала BRNN з LTSM шаром. Вона має точність 0.8648 та втрати 0.3826. Вона гарна, отримує доступ до ознак вхідних даних, як минулих, так і майбутніх, а на наших даних це виявилося найбільш ефективним методом.\n",
        "На другомі місці виявилась глипока рекурентна мережа, з точністю 0.8627 та втратами 0.4675, що свідчить, що модель не дуже точна. На третьому місці за точністю є звичайна GRU модель з шаром LTSM з точністю 0.8593 та втратами 0.3561, а на останньому місці звиччайна RNN ,яка має точність 0.8130 та втратами 0.5806. На цьому наборі даних, як ми бачимо, запам'ятовування минулих ознак показало свою ефективність. Модель з багатьма шарами не виявилася ефективною, проте модель GRU звичайна, якщо її підлаштувати під задані дані, покаже кращий результат. Загалом GRU моделі мають більш кращу точність для роботи з послідовностями."
      ],
      "metadata": {
        "id": "0C27DsOAXsFP"
      }
    }
  ]
}