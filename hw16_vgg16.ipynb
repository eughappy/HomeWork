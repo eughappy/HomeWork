{
  "nbformat": 4,
  "nbformat_minor": 0,
  "metadata": {
    "colab": {
      "provenance": []
    },
    "kernelspec": {
      "name": "python3",
      "display_name": "Python 3"
    },
    "language_info": {
      "name": "python"
    }
  },
  "cells": [
    {
      "cell_type": "code",
      "source": [
        "import numpy as np\n",
        "import tensorflow as tf\n",
        "from tensorflow.keras.datasets import fashion_mnist\n",
        "from tensorflow.keras.models import Model\n",
        "from tensorflow.keras.layers import Dense, Dropout, GlobalAveragePooling2D\n",
        "from tensorflow.keras.applications import VGG16"
      ],
      "metadata": {
        "id": "sYmc-AH_Ic4B"
      },
      "execution_count": 5,
      "outputs": []
    },
    {
      "cell_type": "code",
      "source": [
        "(x_train, y_train), (x_test, y_test) = fashion_mnist.load_data()\n",
        "\n",
        "\n",
        "# Перетворення даних\n",
        "x_train = np.expand_dims(x_train, -1)\n",
        "x_test = np.expand_dims(x_test, -1)\n",
        "\n",
        "# Розширення каналів з 1 до 3, щоб відповідати очікуванням VGG16\n",
        "x_train = np.repeat(x_train, 3, axis=3)\n",
        "x_test = np.repeat(x_test, 3, axis=3)\n",
        "\n",
        "# Зміна розміру зображень до 32x32 пікселів\n",
        "x_train = tf.image.resize(x_train, [32, 32])\n",
        "x_test = tf.image.resize(x_test, [32, 32])\n",
        "\n",
        "# Нормалізація даних\n",
        "x_train, x_test = x_train / 255.0, x_test / 255.0"
      ],
      "metadata": {
        "colab": {
          "base_uri": "https://localhost:8080/"
        },
        "id": "zmrbZGniJuoz",
        "outputId": "4f6c2aa0-c05c-40ab-cf63-5659522770f7"
      },
      "execution_count": 6,
      "outputs": [
        {
          "output_type": "stream",
          "name": "stdout",
          "text": [
            "Downloading data from https://storage.googleapis.com/tensorflow/tf-keras-datasets/train-labels-idx1-ubyte.gz\n",
            "29515/29515 [==============================] - 0s 0us/step\n",
            "Downloading data from https://storage.googleapis.com/tensorflow/tf-keras-datasets/train-images-idx3-ubyte.gz\n",
            "26421880/26421880 [==============================] - 0s 0us/step\n",
            "Downloading data from https://storage.googleapis.com/tensorflow/tf-keras-datasets/t10k-labels-idx1-ubyte.gz\n",
            "5148/5148 [==============================] - 0s 0us/step\n",
            "Downloading data from https://storage.googleapis.com/tensorflow/tf-keras-datasets/t10k-images-idx3-ubyte.gz\n",
            "4422102/4422102 [==============================] - 0s 0us/step\n"
          ]
        }
      ]
    },
    {
      "cell_type": "code",
      "source": [
        "# Завантаження базової моделі VGG16 без верхніх шарів\n",
        "vgg16_base = VGG16(weights='imagenet', include_top=False, input_shape=(32, 32, 3))\n",
        "\n",
        "# Замороження ваг базової моделі\n",
        "vgg16_base.trainable = False\n",
        "\n",
        "# Додавання нових шарів до базової моделі\n",
        "x = GlobalAveragePooling2D()(vgg16_base.output)\n",
        "x = Dense(128, activation='relu')(x)\n",
        "x = Dropout(0.5)(x)\n",
        "output = Dense(10, activation='softmax')(x)\n"
      ],
      "metadata": {
        "colab": {
          "base_uri": "https://localhost:8080/"
        },
        "id": "J6RD27BwJyXo",
        "outputId": "398bd7a9-4bed-4d4b-abf5-61a38eecede9"
      },
      "execution_count": 7,
      "outputs": [
        {
          "output_type": "stream",
          "name": "stdout",
          "text": [
            "Downloading data from https://storage.googleapis.com/tensorflow/keras-applications/vgg16/vgg16_weights_tf_dim_ordering_tf_kernels_notop.h5\n",
            "58889256/58889256 [==============================] - 0s 0us/step\n"
          ]
        }
      ]
    },
    {
      "cell_type": "code",
      "source": [
        "# Створення нової моделі\n",
        "vgg16_model = Model(inputs=vgg16_base.input, outputs=output)\n",
        "\n",
        "# Компіляція моделі\n",
        "vgg16_model.compile(optimizer='adam',\n",
        "                    loss='sparse_categorical_crossentropy',\n",
        "                    metrics=['accuracy'])\n",
        "\n",
        "# Початкове навчання моделі\n",
        "vgg16_history = vgg16_model.fit(x_train, y_train, epochs=10, batch_size=256, validation_split=0.2)\n",
        "\n",
        "# Збереження моделі та історії навчання\n",
        "vgg16_model.save('vgg16_model.h5')\n",
        "np.save('vgg16_history.npy', vgg16_history.history)"
      ],
      "metadata": {
        "colab": {
          "base_uri": "https://localhost:8080/"
        },
        "id": "tE1ub7axJ0d4",
        "outputId": "529b29fe-f524-481a-c46c-27db9775721f"
      },
      "execution_count": 8,
      "outputs": [
        {
          "output_type": "stream",
          "name": "stdout",
          "text": [
            "Epoch 1/10\n",
            "188/188 [==============================] - 658s 4s/step - loss: 0.9732 - accuracy: 0.6675 - val_loss: 0.5808 - val_accuracy: 0.7958\n",
            "Epoch 2/10\n",
            "188/188 [==============================] - 656s 3s/step - loss: 0.6086 - accuracy: 0.7881 - val_loss: 0.5007 - val_accuracy: 0.8179\n",
            "Epoch 3/10\n",
            "188/188 [==============================] - 654s 3s/step - loss: 0.5325 - accuracy: 0.8131 - val_loss: 0.4750 - val_accuracy: 0.8267\n",
            "Epoch 4/10\n",
            "188/188 [==============================] - 640s 3s/step - loss: 0.4956 - accuracy: 0.8240 - val_loss: 0.4436 - val_accuracy: 0.8362\n",
            "Epoch 5/10\n",
            "188/188 [==============================] - 655s 3s/step - loss: 0.4722 - accuracy: 0.8317 - val_loss: 0.4308 - val_accuracy: 0.8421\n",
            "Epoch 6/10\n",
            "188/188 [==============================] - 654s 3s/step - loss: 0.4507 - accuracy: 0.8385 - val_loss: 0.4180 - val_accuracy: 0.8447\n",
            "Epoch 7/10\n",
            "188/188 [==============================] - 629s 3s/step - loss: 0.4383 - accuracy: 0.8433 - val_loss: 0.4063 - val_accuracy: 0.8481\n",
            "Epoch 8/10\n",
            "188/188 [==============================] - 645s 3s/step - loss: 0.4259 - accuracy: 0.8469 - val_loss: 0.3986 - val_accuracy: 0.8520\n",
            "Epoch 9/10\n",
            "188/188 [==============================] - 645s 3s/step - loss: 0.4159 - accuracy: 0.8503 - val_loss: 0.3937 - val_accuracy: 0.8516\n",
            "Epoch 10/10\n",
            "188/188 [==============================] - 648s 3s/step - loss: 0.4076 - accuracy: 0.8523 - val_loss: 0.3902 - val_accuracy: 0.8563\n"
          ]
        },
        {
          "output_type": "stream",
          "name": "stderr",
          "text": [
            "/usr/local/lib/python3.10/dist-packages/keras/src/engine/training.py:3103: UserWarning: You are saving your model as an HDF5 file via `model.save()`. This file format is considered legacy. We recommend using instead the native Keras format, e.g. `model.save('my_model.keras')`.\n",
            "  saving_api.save_model(\n"
          ]
        }
      ]
    }
  ]
}