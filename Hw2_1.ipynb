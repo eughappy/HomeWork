{
  "nbformat": 4,
  "nbformat_minor": 0,
  "metadata": {
    "colab": {
      "provenance": [],
      "authorship_tag": "ABX9TyMZguoyWRA+rwyKWjMplbAh",
      "include_colab_link": true
    },
    "kernelspec": {
      "name": "python3",
      "display_name": "Python 3"
    },
    "language_info": {
      "name": "python"
    }
  },
  "cells": [
    {
      "cell_type": "markdown",
      "metadata": {
        "id": "view-in-github",
        "colab_type": "text"
      },
      "source": [
        "<a href=\"https://colab.research.google.com/github/eughappy/HomeWork/blob/analyse_data/Hw2_1.ipynb\" target=\"_parent\"><img src=\"https://colab.research.google.com/assets/colab-badge.svg\" alt=\"Open In Colab\"/></a>"
      ]
    },
    {
      "cell_type": "markdown",
      "source": [
        "# 1 **PART**"
      ],
      "metadata": {
        "id": "S8XCxbqar7Fx"
      }
    },
    {
      "cell_type": "code",
      "source": [
        "import matplotlib.pyplot as plt\n",
        "from mpl_toolkits.mplot3d import Axes3D"
      ],
      "metadata": {
        "id": "nsRz8PJhWlmy"
      },
      "execution_count": 1,
      "outputs": []
    },
    {
      "cell_type": "code",
      "execution_count": 2,
      "metadata": {
        "id": "qYnzHlsBVSpt"
      },
      "outputs": [],
      "source": [
        "import pandas as pd\n",
        "import numpy as np\n",
        "import matplotlib.pyplot as plt\n",
        "\n",
        "url = 'https://uk.wikipedia.org/wiki/%D0%9D%D0%B0%D1%81%D0%B5%D0%BB%D0%B5%D0%BD%D0%BD%D1%8F_%D0%A3%D0%BA%D1%80%D0%B0%D1%97%D0%BD%D0%B8'\n",
        "\n",
        "table = pd.read_html(url, match='Коефіцієнт народжуваності в регіонах України', decimal=',', thousands='.')\n",
        "df = table[0]"
      ]
    },
    {
      "cell_type": "markdown",
      "source": [
        "**1**"
      ],
      "metadata": {
        "id": "AAU8qsw8Zp8e"
      }
    },
    {
      "cell_type": "code",
      "source": [
        "print(\"df.head():\\n\",df.head())"
      ],
      "metadata": {
        "colab": {
          "base_uri": "https://localhost:8080/"
        },
        "id": "-UBwOK03ZrTF",
        "outputId": "8db8f57a-0bc1-411d-e52e-7e100f1e80b3"
      },
      "execution_count": 3,
      "outputs": [
        {
          "output_type": "stream",
          "name": "stdout",
          "text": [
            "df.head():\n",
            "              Регіон  1950  1960  1970  1990  2000  2012  2014  2019\n",
            "0              Крим  23.0  20.6  16.0  13.0   7.3  12.6     —     —\n",
            "1         Вінницька  22.4  19.2  14.2  12.4   8.4  11.2  10.9   7.6\n",
            "2         Волинська  24.7  25.0  17.9  15.3  11.2  14.8  14.1  10.1\n",
            "3  Дніпропетровська  20.4  20.4  15.1  12.3   7.1  11.2  11.1   7.1\n",
            "4          Донецька  27.1  21.4  14.0  10.9   6.1   9.8   8.2     —\n"
          ]
        }
      ]
    },
    {
      "cell_type": "markdown",
      "source": [
        "**2**"
      ],
      "metadata": {
        "id": "7_rF5H9IZtVE"
      }
    },
    {
      "cell_type": "code",
      "source": [
        "print(\"df.shape: \",df.shape)"
      ],
      "metadata": {
        "colab": {
          "base_uri": "https://localhost:8080/"
        },
        "id": "TeS7XWb8ZuVs",
        "outputId": "0cd9c966-fb9e-4a95-a8ec-c2f8492a55b4"
      },
      "execution_count": 4,
      "outputs": [
        {
          "output_type": "stream",
          "name": "stdout",
          "text": [
            "df.shape:  (28, 9)\n"
          ]
        }
      ]
    },
    {
      "cell_type": "markdown",
      "source": [
        "**3**"
      ],
      "metadata": {
        "id": "-fjhudDYaGE1"
      }
    },
    {
      "cell_type": "code",
      "source": [
        "df"
      ],
      "metadata": {
        "colab": {
          "base_uri": "https://localhost:8080/",
          "height": 927
        },
        "id": "CoIB7l8q4t0S",
        "outputId": "4707dc9d-0a4b-4ae4-a772-e2215caa7d76"
      },
      "execution_count": 5,
      "outputs": [
        {
          "output_type": "execute_result",
          "data": {
            "text/plain": [
              "               Регіон  1950  1960  1970  1990  2000  2012  2014  2019\n",
              "0                Крим  23.0  20.6  16.0  13.0   7.3  12.6     —     —\n",
              "1           Вінницька  22.4  19.2  14.2  12.4   8.4  11.2  10.9   7.6\n",
              "2           Волинська  24.7  25.0  17.9  15.3  11.2  14.8  14.1  10.1\n",
              "3    Дніпропетровська  20.4  20.4  15.1  12.3   7.1  11.2  11.1   7.1\n",
              "4            Донецька  27.1  21.4  14.0  10.9   6.1   9.8   8.2     —\n",
              "5         Житомирська  26.1  22.3  15.9  12.9   8.9  12.2  12.0   7.9\n",
              "6        Закарпатська  31.4  27.3  20.7  16.8  11.5  15.1  14.6  10.4\n",
              "7          Запорізька  21.9  19.7  15.0  12.4   7.1  10.6  10.6   6.8\n",
              "8   Івано-Франківська  24.3  24.8  18.2  15.5  10.3  12.4  12.2   8.8\n",
              "9            Київська  20.4  18.9  15.6  12.3   7.3  12.2  12.1   8.0\n",
              "10     Кіровоградська  21.6  17.1  14.5  12.6   7.9  11.0  10.8   6.8\n",
              "11          Луганська  26.2  23.5  14.4  11.6   6.2   9.6   5.1     —\n",
              "12          Львівська  23.4  24.0  17.1  14.0   9.1  11.9  11.9   8.7\n",
              "13       Миколаївська  21.1  19.4  15.5  13.7   8.0  11.5  11.2   7.1\n",
              "14            Одеська  24.1  19.2  14.8  12.6   8.0  12.7  12.3   8.8\n",
              "15         Полтавська  18.6  16.3  13.1  11.8   7.0   9.9  10.0   6.5\n",
              "16         Рівненська  26.9  26.7  19.3  15.8  11.8  15.9  14.8  10.7\n",
              "17            Сумська  21.6  18.4  13.2  11.5   7.0   9.7   9.2   6.0\n",
              "18      Тернопільська  21.3  21.6  15.7  14.2   9.2  11.3  10.9   7.6\n",
              "19         Харківська  19.7  17.3  14.0  11.4   6.8   9.9  10.1   6.8\n",
              "20         Херсонська  20.8  21.4  16.6  14.3   8.5  11.7  11.5   8.1\n",
              "21        Хмельницька  23.4  19.8  14.8  12.9   8.5  11.3  11.2   7.9\n",
              "22          Черкаська  20.5  17.9  14.4  12.3   7.5  10.0   9.8   6.4\n",
              "23        Чернівецька  24.7  21.8  17.0  14.8  10.1  12.8  12.9   9.2\n",
              "24       Чернігівська  22.0  18.3  12.7  10.8   6.9   9.4   9.0   6.1\n",
              "25               Київ   NaN  17.4  15.9  12.0   7.3  12.0  12.1  11.0\n",
              "26        Севастополь   NaN   NaN   NaN  12.5   7.0  12.0     —     —\n",
              "27            Україна  22.8  20.5  15.2  12.6   7.8  11.4  11.1   8.1"
            ],
            "text/html": [
              "\n",
              "  <div id=\"df-b4838e67-206c-43f9-9c7f-2cdb157c4ee6\" class=\"colab-df-container\">\n",
              "    <div>\n",
              "<style scoped>\n",
              "    .dataframe tbody tr th:only-of-type {\n",
              "        vertical-align: middle;\n",
              "    }\n",
              "\n",
              "    .dataframe tbody tr th {\n",
              "        vertical-align: top;\n",
              "    }\n",
              "\n",
              "    .dataframe thead th {\n",
              "        text-align: right;\n",
              "    }\n",
              "</style>\n",
              "<table border=\"1\" class=\"dataframe\">\n",
              "  <thead>\n",
              "    <tr style=\"text-align: right;\">\n",
              "      <th></th>\n",
              "      <th>Регіон</th>\n",
              "      <th>1950</th>\n",
              "      <th>1960</th>\n",
              "      <th>1970</th>\n",
              "      <th>1990</th>\n",
              "      <th>2000</th>\n",
              "      <th>2012</th>\n",
              "      <th>2014</th>\n",
              "      <th>2019</th>\n",
              "    </tr>\n",
              "  </thead>\n",
              "  <tbody>\n",
              "    <tr>\n",
              "      <th>0</th>\n",
              "      <td>Крим</td>\n",
              "      <td>23.0</td>\n",
              "      <td>20.6</td>\n",
              "      <td>16.0</td>\n",
              "      <td>13.0</td>\n",
              "      <td>7.3</td>\n",
              "      <td>12.6</td>\n",
              "      <td>—</td>\n",
              "      <td>—</td>\n",
              "    </tr>\n",
              "    <tr>\n",
              "      <th>1</th>\n",
              "      <td>Вінницька</td>\n",
              "      <td>22.4</td>\n",
              "      <td>19.2</td>\n",
              "      <td>14.2</td>\n",
              "      <td>12.4</td>\n",
              "      <td>8.4</td>\n",
              "      <td>11.2</td>\n",
              "      <td>10.9</td>\n",
              "      <td>7.6</td>\n",
              "    </tr>\n",
              "    <tr>\n",
              "      <th>2</th>\n",
              "      <td>Волинська</td>\n",
              "      <td>24.7</td>\n",
              "      <td>25.0</td>\n",
              "      <td>17.9</td>\n",
              "      <td>15.3</td>\n",
              "      <td>11.2</td>\n",
              "      <td>14.8</td>\n",
              "      <td>14.1</td>\n",
              "      <td>10.1</td>\n",
              "    </tr>\n",
              "    <tr>\n",
              "      <th>3</th>\n",
              "      <td>Дніпропетровська</td>\n",
              "      <td>20.4</td>\n",
              "      <td>20.4</td>\n",
              "      <td>15.1</td>\n",
              "      <td>12.3</td>\n",
              "      <td>7.1</td>\n",
              "      <td>11.2</td>\n",
              "      <td>11.1</td>\n",
              "      <td>7.1</td>\n",
              "    </tr>\n",
              "    <tr>\n",
              "      <th>4</th>\n",
              "      <td>Донецька</td>\n",
              "      <td>27.1</td>\n",
              "      <td>21.4</td>\n",
              "      <td>14.0</td>\n",
              "      <td>10.9</td>\n",
              "      <td>6.1</td>\n",
              "      <td>9.8</td>\n",
              "      <td>8.2</td>\n",
              "      <td>—</td>\n",
              "    </tr>\n",
              "    <tr>\n",
              "      <th>5</th>\n",
              "      <td>Житомирська</td>\n",
              "      <td>26.1</td>\n",
              "      <td>22.3</td>\n",
              "      <td>15.9</td>\n",
              "      <td>12.9</td>\n",
              "      <td>8.9</td>\n",
              "      <td>12.2</td>\n",
              "      <td>12.0</td>\n",
              "      <td>7.9</td>\n",
              "    </tr>\n",
              "    <tr>\n",
              "      <th>6</th>\n",
              "      <td>Закарпатська</td>\n",
              "      <td>31.4</td>\n",
              "      <td>27.3</td>\n",
              "      <td>20.7</td>\n",
              "      <td>16.8</td>\n",
              "      <td>11.5</td>\n",
              "      <td>15.1</td>\n",
              "      <td>14.6</td>\n",
              "      <td>10.4</td>\n",
              "    </tr>\n",
              "    <tr>\n",
              "      <th>7</th>\n",
              "      <td>Запорізька</td>\n",
              "      <td>21.9</td>\n",
              "      <td>19.7</td>\n",
              "      <td>15.0</td>\n",
              "      <td>12.4</td>\n",
              "      <td>7.1</td>\n",
              "      <td>10.6</td>\n",
              "      <td>10.6</td>\n",
              "      <td>6.8</td>\n",
              "    </tr>\n",
              "    <tr>\n",
              "      <th>8</th>\n",
              "      <td>Івано-Франківська</td>\n",
              "      <td>24.3</td>\n",
              "      <td>24.8</td>\n",
              "      <td>18.2</td>\n",
              "      <td>15.5</td>\n",
              "      <td>10.3</td>\n",
              "      <td>12.4</td>\n",
              "      <td>12.2</td>\n",
              "      <td>8.8</td>\n",
              "    </tr>\n",
              "    <tr>\n",
              "      <th>9</th>\n",
              "      <td>Київська</td>\n",
              "      <td>20.4</td>\n",
              "      <td>18.9</td>\n",
              "      <td>15.6</td>\n",
              "      <td>12.3</td>\n",
              "      <td>7.3</td>\n",
              "      <td>12.2</td>\n",
              "      <td>12.1</td>\n",
              "      <td>8.0</td>\n",
              "    </tr>\n",
              "    <tr>\n",
              "      <th>10</th>\n",
              "      <td>Кіровоградська</td>\n",
              "      <td>21.6</td>\n",
              "      <td>17.1</td>\n",
              "      <td>14.5</td>\n",
              "      <td>12.6</td>\n",
              "      <td>7.9</td>\n",
              "      <td>11.0</td>\n",
              "      <td>10.8</td>\n",
              "      <td>6.8</td>\n",
              "    </tr>\n",
              "    <tr>\n",
              "      <th>11</th>\n",
              "      <td>Луганська</td>\n",
              "      <td>26.2</td>\n",
              "      <td>23.5</td>\n",
              "      <td>14.4</td>\n",
              "      <td>11.6</td>\n",
              "      <td>6.2</td>\n",
              "      <td>9.6</td>\n",
              "      <td>5.1</td>\n",
              "      <td>—</td>\n",
              "    </tr>\n",
              "    <tr>\n",
              "      <th>12</th>\n",
              "      <td>Львівська</td>\n",
              "      <td>23.4</td>\n",
              "      <td>24.0</td>\n",
              "      <td>17.1</td>\n",
              "      <td>14.0</td>\n",
              "      <td>9.1</td>\n",
              "      <td>11.9</td>\n",
              "      <td>11.9</td>\n",
              "      <td>8.7</td>\n",
              "    </tr>\n",
              "    <tr>\n",
              "      <th>13</th>\n",
              "      <td>Миколаївська</td>\n",
              "      <td>21.1</td>\n",
              "      <td>19.4</td>\n",
              "      <td>15.5</td>\n",
              "      <td>13.7</td>\n",
              "      <td>8.0</td>\n",
              "      <td>11.5</td>\n",
              "      <td>11.2</td>\n",
              "      <td>7.1</td>\n",
              "    </tr>\n",
              "    <tr>\n",
              "      <th>14</th>\n",
              "      <td>Одеська</td>\n",
              "      <td>24.1</td>\n",
              "      <td>19.2</td>\n",
              "      <td>14.8</td>\n",
              "      <td>12.6</td>\n",
              "      <td>8.0</td>\n",
              "      <td>12.7</td>\n",
              "      <td>12.3</td>\n",
              "      <td>8.8</td>\n",
              "    </tr>\n",
              "    <tr>\n",
              "      <th>15</th>\n",
              "      <td>Полтавська</td>\n",
              "      <td>18.6</td>\n",
              "      <td>16.3</td>\n",
              "      <td>13.1</td>\n",
              "      <td>11.8</td>\n",
              "      <td>7.0</td>\n",
              "      <td>9.9</td>\n",
              "      <td>10.0</td>\n",
              "      <td>6.5</td>\n",
              "    </tr>\n",
              "    <tr>\n",
              "      <th>16</th>\n",
              "      <td>Рівненська</td>\n",
              "      <td>26.9</td>\n",
              "      <td>26.7</td>\n",
              "      <td>19.3</td>\n",
              "      <td>15.8</td>\n",
              "      <td>11.8</td>\n",
              "      <td>15.9</td>\n",
              "      <td>14.8</td>\n",
              "      <td>10.7</td>\n",
              "    </tr>\n",
              "    <tr>\n",
              "      <th>17</th>\n",
              "      <td>Сумська</td>\n",
              "      <td>21.6</td>\n",
              "      <td>18.4</td>\n",
              "      <td>13.2</td>\n",
              "      <td>11.5</td>\n",
              "      <td>7.0</td>\n",
              "      <td>9.7</td>\n",
              "      <td>9.2</td>\n",
              "      <td>6.0</td>\n",
              "    </tr>\n",
              "    <tr>\n",
              "      <th>18</th>\n",
              "      <td>Тернопільська</td>\n",
              "      <td>21.3</td>\n",
              "      <td>21.6</td>\n",
              "      <td>15.7</td>\n",
              "      <td>14.2</td>\n",
              "      <td>9.2</td>\n",
              "      <td>11.3</td>\n",
              "      <td>10.9</td>\n",
              "      <td>7.6</td>\n",
              "    </tr>\n",
              "    <tr>\n",
              "      <th>19</th>\n",
              "      <td>Харківська</td>\n",
              "      <td>19.7</td>\n",
              "      <td>17.3</td>\n",
              "      <td>14.0</td>\n",
              "      <td>11.4</td>\n",
              "      <td>6.8</td>\n",
              "      <td>9.9</td>\n",
              "      <td>10.1</td>\n",
              "      <td>6.8</td>\n",
              "    </tr>\n",
              "    <tr>\n",
              "      <th>20</th>\n",
              "      <td>Херсонська</td>\n",
              "      <td>20.8</td>\n",
              "      <td>21.4</td>\n",
              "      <td>16.6</td>\n",
              "      <td>14.3</td>\n",
              "      <td>8.5</td>\n",
              "      <td>11.7</td>\n",
              "      <td>11.5</td>\n",
              "      <td>8.1</td>\n",
              "    </tr>\n",
              "    <tr>\n",
              "      <th>21</th>\n",
              "      <td>Хмельницька</td>\n",
              "      <td>23.4</td>\n",
              "      <td>19.8</td>\n",
              "      <td>14.8</td>\n",
              "      <td>12.9</td>\n",
              "      <td>8.5</td>\n",
              "      <td>11.3</td>\n",
              "      <td>11.2</td>\n",
              "      <td>7.9</td>\n",
              "    </tr>\n",
              "    <tr>\n",
              "      <th>22</th>\n",
              "      <td>Черкаська</td>\n",
              "      <td>20.5</td>\n",
              "      <td>17.9</td>\n",
              "      <td>14.4</td>\n",
              "      <td>12.3</td>\n",
              "      <td>7.5</td>\n",
              "      <td>10.0</td>\n",
              "      <td>9.8</td>\n",
              "      <td>6.4</td>\n",
              "    </tr>\n",
              "    <tr>\n",
              "      <th>23</th>\n",
              "      <td>Чернівецька</td>\n",
              "      <td>24.7</td>\n",
              "      <td>21.8</td>\n",
              "      <td>17.0</td>\n",
              "      <td>14.8</td>\n",
              "      <td>10.1</td>\n",
              "      <td>12.8</td>\n",
              "      <td>12.9</td>\n",
              "      <td>9.2</td>\n",
              "    </tr>\n",
              "    <tr>\n",
              "      <th>24</th>\n",
              "      <td>Чернігівська</td>\n",
              "      <td>22.0</td>\n",
              "      <td>18.3</td>\n",
              "      <td>12.7</td>\n",
              "      <td>10.8</td>\n",
              "      <td>6.9</td>\n",
              "      <td>9.4</td>\n",
              "      <td>9.0</td>\n",
              "      <td>6.1</td>\n",
              "    </tr>\n",
              "    <tr>\n",
              "      <th>25</th>\n",
              "      <td>Київ</td>\n",
              "      <td>NaN</td>\n",
              "      <td>17.4</td>\n",
              "      <td>15.9</td>\n",
              "      <td>12.0</td>\n",
              "      <td>7.3</td>\n",
              "      <td>12.0</td>\n",
              "      <td>12.1</td>\n",
              "      <td>11.0</td>\n",
              "    </tr>\n",
              "    <tr>\n",
              "      <th>26</th>\n",
              "      <td>Севастополь</td>\n",
              "      <td>NaN</td>\n",
              "      <td>NaN</td>\n",
              "      <td>NaN</td>\n",
              "      <td>12.5</td>\n",
              "      <td>7.0</td>\n",
              "      <td>12.0</td>\n",
              "      <td>—</td>\n",
              "      <td>—</td>\n",
              "    </tr>\n",
              "    <tr>\n",
              "      <th>27</th>\n",
              "      <td>Україна</td>\n",
              "      <td>22.8</td>\n",
              "      <td>20.5</td>\n",
              "      <td>15.2</td>\n",
              "      <td>12.6</td>\n",
              "      <td>7.8</td>\n",
              "      <td>11.4</td>\n",
              "      <td>11.1</td>\n",
              "      <td>8.1</td>\n",
              "    </tr>\n",
              "  </tbody>\n",
              "</table>\n",
              "</div>\n",
              "    <div class=\"colab-df-buttons\">\n",
              "\n",
              "  <div class=\"colab-df-container\">\n",
              "    <button class=\"colab-df-convert\" onclick=\"convertToInteractive('df-b4838e67-206c-43f9-9c7f-2cdb157c4ee6')\"\n",
              "            title=\"Convert this dataframe to an interactive table.\"\n",
              "            style=\"display:none;\">\n",
              "\n",
              "  <svg xmlns=\"http://www.w3.org/2000/svg\" height=\"24px\" viewBox=\"0 -960 960 960\">\n",
              "    <path d=\"M120-120v-720h720v720H120Zm60-500h600v-160H180v160Zm220 220h160v-160H400v160Zm0 220h160v-160H400v160ZM180-400h160v-160H180v160Zm440 0h160v-160H620v160ZM180-180h160v-160H180v160Zm440 0h160v-160H620v160Z\"/>\n",
              "  </svg>\n",
              "    </button>\n",
              "\n",
              "  <style>\n",
              "    .colab-df-container {\n",
              "      display:flex;\n",
              "      gap: 12px;\n",
              "    }\n",
              "\n",
              "    .colab-df-convert {\n",
              "      background-color: #E8F0FE;\n",
              "      border: none;\n",
              "      border-radius: 50%;\n",
              "      cursor: pointer;\n",
              "      display: none;\n",
              "      fill: #1967D2;\n",
              "      height: 32px;\n",
              "      padding: 0 0 0 0;\n",
              "      width: 32px;\n",
              "    }\n",
              "\n",
              "    .colab-df-convert:hover {\n",
              "      background-color: #E2EBFA;\n",
              "      box-shadow: 0px 1px 2px rgba(60, 64, 67, 0.3), 0px 1px 3px 1px rgba(60, 64, 67, 0.15);\n",
              "      fill: #174EA6;\n",
              "    }\n",
              "\n",
              "    .colab-df-buttons div {\n",
              "      margin-bottom: 4px;\n",
              "    }\n",
              "\n",
              "    [theme=dark] .colab-df-convert {\n",
              "      background-color: #3B4455;\n",
              "      fill: #D2E3FC;\n",
              "    }\n",
              "\n",
              "    [theme=dark] .colab-df-convert:hover {\n",
              "      background-color: #434B5C;\n",
              "      box-shadow: 0px 1px 3px 1px rgba(0, 0, 0, 0.15);\n",
              "      filter: drop-shadow(0px 1px 2px rgba(0, 0, 0, 0.3));\n",
              "      fill: #FFFFFF;\n",
              "    }\n",
              "  </style>\n",
              "\n",
              "    <script>\n",
              "      const buttonEl =\n",
              "        document.querySelector('#df-b4838e67-206c-43f9-9c7f-2cdb157c4ee6 button.colab-df-convert');\n",
              "      buttonEl.style.display =\n",
              "        google.colab.kernel.accessAllowed ? 'block' : 'none';\n",
              "\n",
              "      async function convertToInteractive(key) {\n",
              "        const element = document.querySelector('#df-b4838e67-206c-43f9-9c7f-2cdb157c4ee6');\n",
              "        const dataTable =\n",
              "          await google.colab.kernel.invokeFunction('convertToInteractive',\n",
              "                                                    [key], {});\n",
              "        if (!dataTable) return;\n",
              "\n",
              "        const docLinkHtml = 'Like what you see? Visit the ' +\n",
              "          '<a target=\"_blank\" href=https://colab.research.google.com/notebooks/data_table.ipynb>data table notebook</a>'\n",
              "          + ' to learn more about interactive tables.';\n",
              "        element.innerHTML = '';\n",
              "        dataTable['output_type'] = 'display_data';\n",
              "        await google.colab.output.renderOutput(dataTable, element);\n",
              "        const docLink = document.createElement('div');\n",
              "        docLink.innerHTML = docLinkHtml;\n",
              "        element.appendChild(docLink);\n",
              "      }\n",
              "    </script>\n",
              "  </div>\n",
              "\n",
              "\n",
              "<div id=\"df-7a2dda65-76db-4739-b8d2-cd2cb59ec9bc\">\n",
              "  <button class=\"colab-df-quickchart\" onclick=\"quickchart('df-7a2dda65-76db-4739-b8d2-cd2cb59ec9bc')\"\n",
              "            title=\"Suggest charts\"\n",
              "            style=\"display:none;\">\n",
              "\n",
              "<svg xmlns=\"http://www.w3.org/2000/svg\" height=\"24px\"viewBox=\"0 0 24 24\"\n",
              "     width=\"24px\">\n",
              "    <g>\n",
              "        <path d=\"M19 3H5c-1.1 0-2 .9-2 2v14c0 1.1.9 2 2 2h14c1.1 0 2-.9 2-2V5c0-1.1-.9-2-2-2zM9 17H7v-7h2v7zm4 0h-2V7h2v10zm4 0h-2v-4h2v4z\"/>\n",
              "    </g>\n",
              "</svg>\n",
              "  </button>\n",
              "\n",
              "<style>\n",
              "  .colab-df-quickchart {\n",
              "      --bg-color: #E8F0FE;\n",
              "      --fill-color: #1967D2;\n",
              "      --hover-bg-color: #E2EBFA;\n",
              "      --hover-fill-color: #174EA6;\n",
              "      --disabled-fill-color: #AAA;\n",
              "      --disabled-bg-color: #DDD;\n",
              "  }\n",
              "\n",
              "  [theme=dark] .colab-df-quickchart {\n",
              "      --bg-color: #3B4455;\n",
              "      --fill-color: #D2E3FC;\n",
              "      --hover-bg-color: #434B5C;\n",
              "      --hover-fill-color: #FFFFFF;\n",
              "      --disabled-bg-color: #3B4455;\n",
              "      --disabled-fill-color: #666;\n",
              "  }\n",
              "\n",
              "  .colab-df-quickchart {\n",
              "    background-color: var(--bg-color);\n",
              "    border: none;\n",
              "    border-radius: 50%;\n",
              "    cursor: pointer;\n",
              "    display: none;\n",
              "    fill: var(--fill-color);\n",
              "    height: 32px;\n",
              "    padding: 0;\n",
              "    width: 32px;\n",
              "  }\n",
              "\n",
              "  .colab-df-quickchart:hover {\n",
              "    background-color: var(--hover-bg-color);\n",
              "    box-shadow: 0 1px 2px rgba(60, 64, 67, 0.3), 0 1px 3px 1px rgba(60, 64, 67, 0.15);\n",
              "    fill: var(--button-hover-fill-color);\n",
              "  }\n",
              "\n",
              "  .colab-df-quickchart-complete:disabled,\n",
              "  .colab-df-quickchart-complete:disabled:hover {\n",
              "    background-color: var(--disabled-bg-color);\n",
              "    fill: var(--disabled-fill-color);\n",
              "    box-shadow: none;\n",
              "  }\n",
              "\n",
              "  .colab-df-spinner {\n",
              "    border: 2px solid var(--fill-color);\n",
              "    border-color: transparent;\n",
              "    border-bottom-color: var(--fill-color);\n",
              "    animation:\n",
              "      spin 1s steps(1) infinite;\n",
              "  }\n",
              "\n",
              "  @keyframes spin {\n",
              "    0% {\n",
              "      border-color: transparent;\n",
              "      border-bottom-color: var(--fill-color);\n",
              "      border-left-color: var(--fill-color);\n",
              "    }\n",
              "    20% {\n",
              "      border-color: transparent;\n",
              "      border-left-color: var(--fill-color);\n",
              "      border-top-color: var(--fill-color);\n",
              "    }\n",
              "    30% {\n",
              "      border-color: transparent;\n",
              "      border-left-color: var(--fill-color);\n",
              "      border-top-color: var(--fill-color);\n",
              "      border-right-color: var(--fill-color);\n",
              "    }\n",
              "    40% {\n",
              "      border-color: transparent;\n",
              "      border-right-color: var(--fill-color);\n",
              "      border-top-color: var(--fill-color);\n",
              "    }\n",
              "    60% {\n",
              "      border-color: transparent;\n",
              "      border-right-color: var(--fill-color);\n",
              "    }\n",
              "    80% {\n",
              "      border-color: transparent;\n",
              "      border-right-color: var(--fill-color);\n",
              "      border-bottom-color: var(--fill-color);\n",
              "    }\n",
              "    90% {\n",
              "      border-color: transparent;\n",
              "      border-bottom-color: var(--fill-color);\n",
              "    }\n",
              "  }\n",
              "</style>\n",
              "\n",
              "  <script>\n",
              "    async function quickchart(key) {\n",
              "      const quickchartButtonEl =\n",
              "        document.querySelector('#' + key + ' button');\n",
              "      quickchartButtonEl.disabled = true;  // To prevent multiple clicks.\n",
              "      quickchartButtonEl.classList.add('colab-df-spinner');\n",
              "      try {\n",
              "        const charts = await google.colab.kernel.invokeFunction(\n",
              "            'suggestCharts', [key], {});\n",
              "      } catch (error) {\n",
              "        console.error('Error during call to suggestCharts:', error);\n",
              "      }\n",
              "      quickchartButtonEl.classList.remove('colab-df-spinner');\n",
              "      quickchartButtonEl.classList.add('colab-df-quickchart-complete');\n",
              "    }\n",
              "    (() => {\n",
              "      let quickchartButtonEl =\n",
              "        document.querySelector('#df-7a2dda65-76db-4739-b8d2-cd2cb59ec9bc button');\n",
              "      quickchartButtonEl.style.display =\n",
              "        google.colab.kernel.accessAllowed ? 'block' : 'none';\n",
              "    })();\n",
              "  </script>\n",
              "</div>\n",
              "    </div>\n",
              "  </div>\n"
            ],
            "application/vnd.google.colaboratory.intrinsic+json": {
              "type": "dataframe",
              "variable_name": "df",
              "summary": "{\n  \"name\": \"df\",\n  \"rows\": 28,\n  \"fields\": [\n    {\n      \"column\": \"\\u0420\\u0435\\u0433\\u0456\\u043e\\u043d\",\n      \"properties\": {\n        \"dtype\": \"string\",\n        \"num_unique_values\": 28,\n        \"samples\": [\n          \"\\u041a\\u0438\\u0457\\u0432\\u0441\\u044c\\u043a\\u0430\",\n          \"\\u041a\\u0438\\u0457\\u0432\",\n          \"\\u0406\\u0432\\u0430\\u043d\\u043e-\\u0424\\u0440\\u0430\\u043d\\u043a\\u0456\\u0432\\u0441\\u044c\\u043a\\u0430\"\n        ],\n        \"semantic_type\": \"\",\n        \"description\": \"\"\n      }\n    },\n    {\n      \"column\": \"1950\",\n      \"properties\": {\n        \"dtype\": \"number\",\n        \"std\": 2.8220450849585057,\n        \"min\": 18.6,\n        \"max\": 31.4,\n        \"num_unique_values\": 22,\n        \"samples\": [\n          23.0,\n          24.1,\n          24.3\n        ],\n        \"semantic_type\": \"\",\n        \"description\": \"\"\n      }\n    },\n    {\n      \"column\": \"1960\",\n      \"properties\": {\n        \"dtype\": \"number\",\n        \"std\": 2.936032169490808,\n        \"min\": 16.3,\n        \"max\": 27.3,\n        \"num_unique_values\": 25,\n        \"samples\": [\n          24.8,\n          18.4,\n          20.6\n        ],\n        \"semantic_type\": \"\",\n        \"description\": \"\"\n      }\n    },\n    {\n      \"column\": \"1970\",\n      \"properties\": {\n        \"dtype\": \"number\",\n        \"std\": 1.8703565484242886,\n        \"min\": 12.7,\n        \"max\": 20.7,\n        \"num_unique_values\": 23,\n        \"samples\": [\n          13.1,\n          15.6,\n          16.0\n        ],\n        \"semantic_type\": \"\",\n        \"description\": \"\"\n      }\n    },\n    {\n      \"column\": \"1990\",\n      \"properties\": {\n        \"dtype\": \"number\",\n        \"std\": 1.5278715699925616,\n        \"min\": 10.8,\n        \"max\": 16.8,\n        \"num_unique_values\": 22,\n        \"samples\": [\n          13.0,\n          15.8,\n          12.6\n        ],\n        \"semantic_type\": \"\",\n        \"description\": \"\"\n      }\n    },\n    {\n      \"column\": \"2000\",\n      \"properties\": {\n        \"dtype\": \"number\",\n        \"std\": 1.5568078859161762,\n        \"min\": 6.1,\n        \"max\": 11.8,\n        \"num_unique_values\": 21,\n        \"samples\": [\n          7.3,\n          7.5,\n          6.8\n        ],\n        \"semantic_type\": \"\",\n        \"description\": \"\"\n      }\n    },\n    {\n      \"column\": \"2012\",\n      \"properties\": {\n        \"dtype\": \"number\",\n        \"std\": 1.636274481831878,\n        \"min\": 9.4,\n        \"max\": 15.9,\n        \"num_unique_values\": 23,\n        \"samples\": [\n          9.7,\n          9.6,\n          12.6\n        ],\n        \"semantic_type\": \"\",\n        \"description\": \"\"\n      }\n    },\n    {\n      \"column\": \"2014\",\n      \"properties\": {\n        \"dtype\": \"string\",\n        \"num_unique_values\": 23,\n        \"samples\": [\n          \"10.0\",\n          \"12.1\",\n          \"\\u2014\"\n        ],\n        \"semantic_type\": \"\",\n        \"description\": \"\"\n      }\n    },\n    {\n      \"column\": \"2019\",\n      \"properties\": {\n        \"dtype\": \"string\",\n        \"num_unique_values\": 18,\n        \"samples\": [\n          \"\\u2014\",\n          \"7.6\",\n          \"8.0\"\n        ],\n        \"semantic_type\": \"\",\n        \"description\": \"\"\n      }\n    }\n  ]\n}"
            }
          },
          "metadata": {},
          "execution_count": 5
        }
      ]
    },
    {
      "cell_type": "code",
      "source": [
        "df = df.replace(\"—\", np.NaN)\n",
        "print(\"Датафрейм без '—':\\n\", df)"
      ],
      "metadata": {
        "colab": {
          "base_uri": "https://localhost:8080/"
        },
        "id": "tVdCYvFRaHUZ",
        "outputId": "96889a9d-4170-4994-8334-aa3a842c3d38"
      },
      "execution_count": 6,
      "outputs": [
        {
          "output_type": "stream",
          "name": "stdout",
          "text": [
            "Датафрейм без '—':\n",
            "                Регіон  1950  1960  1970  1990  2000  2012  2014  2019\n",
            "0                Крим  23.0  20.6  16.0  13.0   7.3  12.6   NaN   NaN\n",
            "1           Вінницька  22.4  19.2  14.2  12.4   8.4  11.2  10.9   7.6\n",
            "2           Волинська  24.7  25.0  17.9  15.3  11.2  14.8  14.1  10.1\n",
            "3    Дніпропетровська  20.4  20.4  15.1  12.3   7.1  11.2  11.1   7.1\n",
            "4            Донецька  27.1  21.4  14.0  10.9   6.1   9.8   8.2   NaN\n",
            "5         Житомирська  26.1  22.3  15.9  12.9   8.9  12.2  12.0   7.9\n",
            "6        Закарпатська  31.4  27.3  20.7  16.8  11.5  15.1  14.6  10.4\n",
            "7          Запорізька  21.9  19.7  15.0  12.4   7.1  10.6  10.6   6.8\n",
            "8   Івано-Франківська  24.3  24.8  18.2  15.5  10.3  12.4  12.2   8.8\n",
            "9            Київська  20.4  18.9  15.6  12.3   7.3  12.2  12.1   8.0\n",
            "10     Кіровоградська  21.6  17.1  14.5  12.6   7.9  11.0  10.8   6.8\n",
            "11          Луганська  26.2  23.5  14.4  11.6   6.2   9.6   5.1   NaN\n",
            "12          Львівська  23.4  24.0  17.1  14.0   9.1  11.9  11.9   8.7\n",
            "13       Миколаївська  21.1  19.4  15.5  13.7   8.0  11.5  11.2   7.1\n",
            "14            Одеська  24.1  19.2  14.8  12.6   8.0  12.7  12.3   8.8\n",
            "15         Полтавська  18.6  16.3  13.1  11.8   7.0   9.9  10.0   6.5\n",
            "16         Рівненська  26.9  26.7  19.3  15.8  11.8  15.9  14.8  10.7\n",
            "17            Сумська  21.6  18.4  13.2  11.5   7.0   9.7   9.2   6.0\n",
            "18      Тернопільська  21.3  21.6  15.7  14.2   9.2  11.3  10.9   7.6\n",
            "19         Харківська  19.7  17.3  14.0  11.4   6.8   9.9  10.1   6.8\n",
            "20         Херсонська  20.8  21.4  16.6  14.3   8.5  11.7  11.5   8.1\n",
            "21        Хмельницька  23.4  19.8  14.8  12.9   8.5  11.3  11.2   7.9\n",
            "22          Черкаська  20.5  17.9  14.4  12.3   7.5  10.0   9.8   6.4\n",
            "23        Чернівецька  24.7  21.8  17.0  14.8  10.1  12.8  12.9   9.2\n",
            "24       Чернігівська  22.0  18.3  12.7  10.8   6.9   9.4   9.0   6.1\n",
            "25               Київ   NaN  17.4  15.9  12.0   7.3  12.0  12.1  11.0\n",
            "26        Севастополь   NaN   NaN   NaN  12.5   7.0  12.0   NaN   NaN\n",
            "27            Україна  22.8  20.5  15.2  12.6   7.8  11.4  11.1   8.1\n"
          ]
        }
      ]
    },
    {
      "cell_type": "markdown",
      "source": [
        "**4**"
      ],
      "metadata": {
        "id": "fi9bDZI9eeGq"
      }
    },
    {
      "cell_type": "code",
      "source": [
        "print('Типи всіх стовпців:\\n',df.dtypes)"
      ],
      "metadata": {
        "colab": {
          "base_uri": "https://localhost:8080/"
        },
        "id": "QxcQQFmRefYD",
        "outputId": "19a9d90c-c87d-45cb-ae45-ef18b91da7c5"
      },
      "execution_count": 7,
      "outputs": [
        {
          "output_type": "stream",
          "name": "stdout",
          "text": [
            "Типи всіх стовпців:\n",
            " Регіон     object\n",
            "1950      float64\n",
            "1960      float64\n",
            "1970      float64\n",
            "1990      float64\n",
            "2000      float64\n",
            "2012      float64\n",
            "2014       object\n",
            "2019       object\n",
            "dtype: object\n"
          ]
        }
      ]
    },
    {
      "cell_type": "markdown",
      "source": [
        "**5**"
      ],
      "metadata": {
        "id": "gnciHOpWfopG"
      }
    },
    {
      "cell_type": "code",
      "source": [
        "df[df.columns[df.isna().any()].tolist()] = df[df.columns[df.isna().any()].tolist()].apply(pd.to_numeric)\n",
        "print(df.dtypes)"
      ],
      "metadata": {
        "colab": {
          "base_uri": "https://localhost:8080/"
        },
        "id": "nQBsHrpGfpWG",
        "outputId": "d834d984-fe16-4b17-fa0a-c2a58bf9bd76"
      },
      "execution_count": 8,
      "outputs": [
        {
          "output_type": "stream",
          "name": "stdout",
          "text": [
            "Регіон     object\n",
            "1950      float64\n",
            "1960      float64\n",
            "1970      float64\n",
            "1990      float64\n",
            "2000      float64\n",
            "2012      float64\n",
            "2014      float64\n",
            "2019      float64\n",
            "dtype: object\n"
          ]
        }
      ]
    },
    {
      "cell_type": "markdown",
      "source": [
        "**6**"
      ],
      "metadata": {
        "id": "3bP9VnxK9BHo"
      }
    },
    {
      "cell_type": "code",
      "source": [
        "print(\"Кількість NaN у кожній колонці:\\n\", df.isnull().sum())"
      ],
      "metadata": {
        "colab": {
          "base_uri": "https://localhost:8080/"
        },
        "id": "v2GPCkOv9CMT",
        "outputId": "92978bf9-c65e-4596-a4af-2be3565adcad"
      },
      "execution_count": 9,
      "outputs": [
        {
          "output_type": "stream",
          "name": "stdout",
          "text": [
            "Кількість NaN у кожній колонці:\n",
            " Регіон    0\n",
            "1950      2\n",
            "1960      1\n",
            "1970      1\n",
            "1990      0\n",
            "2000      0\n",
            "2012      0\n",
            "2014      2\n",
            "2019      4\n",
            "dtype: int64\n"
          ]
        }
      ]
    },
    {
      "cell_type": "markdown",
      "source": [
        "**7**"
      ],
      "metadata": {
        "id": "wjKJbtk7XAQw"
      }
    },
    {
      "cell_type": "code",
      "source": [
        "df.drop(df.shape[0]-1, inplace=True)\n",
        "print(\"Без значення останнього рядка:\\n\",df)"
      ],
      "metadata": {
        "colab": {
          "base_uri": "https://localhost:8080/"
        },
        "id": "uE3ON7sBXA6Z",
        "outputId": "cd92345b-ddd7-4368-8cf8-9dadd9b456e5"
      },
      "execution_count": 10,
      "outputs": [
        {
          "output_type": "stream",
          "name": "stdout",
          "text": [
            "Без значення останнього рядка:\n",
            "                Регіон  1950  1960  1970  1990  2000  2012  2014  2019\n",
            "0                Крим  23.0  20.6  16.0  13.0   7.3  12.6   NaN   NaN\n",
            "1           Вінницька  22.4  19.2  14.2  12.4   8.4  11.2  10.9   7.6\n",
            "2           Волинська  24.7  25.0  17.9  15.3  11.2  14.8  14.1  10.1\n",
            "3    Дніпропетровська  20.4  20.4  15.1  12.3   7.1  11.2  11.1   7.1\n",
            "4            Донецька  27.1  21.4  14.0  10.9   6.1   9.8   8.2   NaN\n",
            "5         Житомирська  26.1  22.3  15.9  12.9   8.9  12.2  12.0   7.9\n",
            "6        Закарпатська  31.4  27.3  20.7  16.8  11.5  15.1  14.6  10.4\n",
            "7          Запорізька  21.9  19.7  15.0  12.4   7.1  10.6  10.6   6.8\n",
            "8   Івано-Франківська  24.3  24.8  18.2  15.5  10.3  12.4  12.2   8.8\n",
            "9            Київська  20.4  18.9  15.6  12.3   7.3  12.2  12.1   8.0\n",
            "10     Кіровоградська  21.6  17.1  14.5  12.6   7.9  11.0  10.8   6.8\n",
            "11          Луганська  26.2  23.5  14.4  11.6   6.2   9.6   5.1   NaN\n",
            "12          Львівська  23.4  24.0  17.1  14.0   9.1  11.9  11.9   8.7\n",
            "13       Миколаївська  21.1  19.4  15.5  13.7   8.0  11.5  11.2   7.1\n",
            "14            Одеська  24.1  19.2  14.8  12.6   8.0  12.7  12.3   8.8\n",
            "15         Полтавська  18.6  16.3  13.1  11.8   7.0   9.9  10.0   6.5\n",
            "16         Рівненська  26.9  26.7  19.3  15.8  11.8  15.9  14.8  10.7\n",
            "17            Сумська  21.6  18.4  13.2  11.5   7.0   9.7   9.2   6.0\n",
            "18      Тернопільська  21.3  21.6  15.7  14.2   9.2  11.3  10.9   7.6\n",
            "19         Харківська  19.7  17.3  14.0  11.4   6.8   9.9  10.1   6.8\n",
            "20         Херсонська  20.8  21.4  16.6  14.3   8.5  11.7  11.5   8.1\n",
            "21        Хмельницька  23.4  19.8  14.8  12.9   8.5  11.3  11.2   7.9\n",
            "22          Черкаська  20.5  17.9  14.4  12.3   7.5  10.0   9.8   6.4\n",
            "23        Чернівецька  24.7  21.8  17.0  14.8  10.1  12.8  12.9   9.2\n",
            "24       Чернігівська  22.0  18.3  12.7  10.8   6.9   9.4   9.0   6.1\n",
            "25               Київ   NaN  17.4  15.9  12.0   7.3  12.0  12.1  11.0\n",
            "26        Севастополь   NaN   NaN   NaN  12.5   7.0  12.0   NaN   NaN\n"
          ]
        }
      ]
    },
    {
      "cell_type": "markdown",
      "source": [
        "**8**"
      ],
      "metadata": {
        "id": "qho4-o8oaNQm"
      }
    },
    {
      "cell_type": "code",
      "source": [
        "df.iloc[:,1:] = df.iloc[:,1:].fillna(value=df.iloc[:,1:].mean())\n",
        "print(\"Колонки де не було значень заповнені середнім колонки:\\n\",df)"
      ],
      "metadata": {
        "colab": {
          "base_uri": "https://localhost:8080/"
        },
        "id": "Ao73s8THaOjp",
        "outputId": "a1e530c3-423e-472a-db25-38ed5b36fd79"
      },
      "execution_count": 11,
      "outputs": [
        {
          "output_type": "stream",
          "name": "stdout",
          "text": [
            "Колонки де не було значень заповнені середнім колонки:\n",
            "                Регіон    1950       1960  1970  1990  2000  2012    2014  \\\n",
            "0                Крим  23.000  20.600000  16.0  13.0   7.3  12.6  11.144   \n",
            "1           Вінницька  22.400  19.200000  14.2  12.4   8.4  11.2  10.900   \n",
            "2           Волинська  24.700  25.000000  17.9  15.3  11.2  14.8  14.100   \n",
            "3    Дніпропетровська  20.400  20.400000  15.1  12.3   7.1  11.2  11.100   \n",
            "4            Донецька  27.100  21.400000  14.0  10.9   6.1   9.8   8.200   \n",
            "5         Житомирська  26.100  22.300000  15.9  12.9   8.9  12.2  12.000   \n",
            "6        Закарпатська  31.400  27.300000  20.7  16.8  11.5  15.1  14.600   \n",
            "7          Запорізька  21.900  19.700000  15.0  12.4   7.1  10.6  10.600   \n",
            "8   Івано-Франківська  24.300  24.800000  18.2  15.5  10.3  12.4  12.200   \n",
            "9            Київська  20.400  18.900000  15.6  12.3   7.3  12.2  12.100   \n",
            "10     Кіровоградська  21.600  17.100000  14.5  12.6   7.9  11.0  10.800   \n",
            "11          Луганська  26.200  23.500000  14.4  11.6   6.2   9.6   5.100   \n",
            "12          Львівська  23.400  24.000000  17.1  14.0   9.1  11.9  11.900   \n",
            "13       Миколаївська  21.100  19.400000  15.5  13.7   8.0  11.5  11.200   \n",
            "14            Одеська  24.100  19.200000  14.8  12.6   8.0  12.7  12.300   \n",
            "15         Полтавська  18.600  16.300000  13.1  11.8   7.0   9.9  10.000   \n",
            "16         Рівненська  26.900  26.700000  19.3  15.8  11.8  15.9  14.800   \n",
            "17            Сумська  21.600  18.400000  13.2  11.5   7.0   9.7   9.200   \n",
            "18      Тернопільська  21.300  21.600000  15.7  14.2   9.2  11.3  10.900   \n",
            "19         Харківська  19.700  17.300000  14.0  11.4   6.8   9.9  10.100   \n",
            "20         Херсонська  20.800  21.400000  16.6  14.3   8.5  11.7  11.500   \n",
            "21        Хмельницька  23.400  19.800000  14.8  12.9   8.5  11.3  11.200   \n",
            "22          Черкаська  20.500  17.900000  14.4  12.3   7.5  10.0   9.800   \n",
            "23        Чернівецька  24.700  21.800000  17.0  14.8  10.1  12.8  12.900   \n",
            "24       Чернігівська  22.000  18.300000  12.7  10.8   6.9   9.4   9.000   \n",
            "25               Київ  23.104  17.400000  15.9  12.0   7.3  12.0  12.100   \n",
            "26        Севастополь  23.104  20.757692  15.6  12.5   7.0  12.0  11.144   \n",
            "\n",
            "         2019  \n",
            "0    8.017391  \n",
            "1    7.600000  \n",
            "2   10.100000  \n",
            "3    7.100000  \n",
            "4    8.017391  \n",
            "5    7.900000  \n",
            "6   10.400000  \n",
            "7    6.800000  \n",
            "8    8.800000  \n",
            "9    8.000000  \n",
            "10   6.800000  \n",
            "11   8.017391  \n",
            "12   8.700000  \n",
            "13   7.100000  \n",
            "14   8.800000  \n",
            "15   6.500000  \n",
            "16  10.700000  \n",
            "17   6.000000  \n",
            "18   7.600000  \n",
            "19   6.800000  \n",
            "20   8.100000  \n",
            "21   7.900000  \n",
            "22   6.400000  \n",
            "23   9.200000  \n",
            "24   6.100000  \n",
            "25  11.000000  \n",
            "26   8.017391  \n"
          ]
        }
      ]
    },
    {
      "cell_type": "markdown",
      "source": [
        "**9**"
      ],
      "metadata": {
        "id": "kyH_j_dff9_6"
      }
    },
    {
      "cell_type": "code",
      "source": [
        "print(\"Регіони, де народжуваність вища, за середню по Україні:\\n\",df[df['2019'] > df['2019'].mean()].iloc[:,0])"
      ],
      "metadata": {
        "colab": {
          "base_uri": "https://localhost:8080/"
        },
        "id": "ZHipcNpBf-_W",
        "outputId": "78a271ef-fe90-427d-f318-ef3ef4e4e745"
      },
      "execution_count": 12,
      "outputs": [
        {
          "output_type": "stream",
          "name": "stdout",
          "text": [
            "Регіони, де народжуваність вища, за середню по Україні:\n",
            " 2             Волинська\n",
            "6          Закарпатська\n",
            "8     Івано-Франківська\n",
            "12            Львівська\n",
            "14              Одеська\n",
            "16           Рівненська\n",
            "20           Херсонська\n",
            "23          Чернівецька\n",
            "25                 Київ\n",
            "Name: Регіон, dtype: object\n"
          ]
        }
      ]
    },
    {
      "cell_type": "markdown",
      "source": [
        "**10**"
      ],
      "metadata": {
        "id": "lLy_9bF8jL9z"
      }
    },
    {
      "cell_type": "code",
      "source": [
        "print(\"Регіон у якому була найвища народжуваність у 2014 році?:\\n\",df[df['2014'].values == df['2014'].max()])"
      ],
      "metadata": {
        "id": "sCO7_SyYjNMH",
        "colab": {
          "base_uri": "https://localhost:8080/"
        },
        "outputId": "8253e6fc-b38e-458c-a908-6a8dfb195fda"
      },
      "execution_count": 13,
      "outputs": [
        {
          "output_type": "stream",
          "name": "stdout",
          "text": [
            "Регіон у якому була найвища народжуваність у 2014 році?:\n",
            "         Регіон  1950  1960  1970  1990  2000  2012  2014  2019\n",
            "16  Рівненська  26.9  26.7  19.3  15.8  11.8  15.9  14.8  10.7\n"
          ]
        }
      ]
    },
    {
      "cell_type": "markdown",
      "source": [
        " **11**"
      ],
      "metadata": {
        "id": "ll60cOdrnLrT"
      }
    },
    {
      "cell_type": "code",
      "source": [
        "import numpy as np"
      ],
      "metadata": {
        "id": "s7Tp9biRJnUu"
      },
      "execution_count": 14,
      "outputs": []
    },
    {
      "cell_type": "code",
      "source": [
        "df['2019'].plot.bar()"
      ],
      "metadata": {
        "id": "NFmu85zVnMlD",
        "colab": {
          "base_uri": "https://localhost:8080/",
          "height": 451
        },
        "outputId": "d364e24e-75d8-42c4-e822-406d1bfdf035"
      },
      "execution_count": 15,
      "outputs": [
        {
          "output_type": "execute_result",
          "data": {
            "text/plain": [
              "<Axes: >"
            ]
          },
          "metadata": {},
          "execution_count": 15
        },
        {
          "output_type": "display_data",
          "data": {
            "text/plain": [
              "<Figure size 640x480 with 1 Axes>"
            ],
            "image/png": "[encoded data removed]"
          },
          "metadata": {}
        }
      ]
    },
    {
      "cell_type": "code",
      "source": [
        "new_df = df.agg('sum')\n",
        "new_df = new_df.reset_index()\n",
        "new_df = new_df.drop(0)\n",
        "x = df.columns.tolist()\n",
        "x.remove('Регіон')\n",
        "#new_df.columns.rename({0:'sum'})\n",
        "plt.plot(x, new_df[0])\n",
        "plt.xlabel('Роки')\n",
        "plt.ylabel('Кількість новороджених')"
      ],
      "metadata": {
        "colab": {
          "base_uri": "https://localhost:8080/",
          "height": 466
        },
        "id": "NUsLTO9KE7qY",
        "outputId": "0bc1721b-ce03-4298-ff27-dce7e42f44c3"
      },
      "execution_count": 35,
      "outputs": [
        {
          "output_type": "execute_result",
          "data": {
            "text/plain": [
              "Text(0, 0.5, 'Кількість новороджених')"
            ]
          },
          "metadata": {},
          "execution_count": 35
        },
        {
          "output_type": "display_data",
          "data": {
            "text/plain": [
              "<Figure size 640x480 with 1 Axes>"
            ],
            "image/png": "[encoded data removed]"
          },
          "metadata": {}
        }
      ]
    },
    {
      "cell_type": "code",
      "source": [
        "fig = plt.figure()\n",
        "ax = fig.add_subplot(projection=\"3d\")\n",
        "ax.plot(df['1950'], df['1960'])\n",
        "plt.title('Площина народжуваності у 1950 і 1960')\n",
        "plt.show()"
      ],
      "metadata": {
        "colab": {
          "base_uri": "https://localhost:8080/",
          "height": 441
        },
        "id": "34Ro57aSWrlk",
        "outputId": "0eeb43e8-427a-422c-a64a-5a66d9017936"
      },
      "execution_count": 40,
      "outputs": [
        {
          "output_type": "display_data",
          "data": {
            "text/plain": [
              "<Figure size 640x480 with 1 Axes>"
            ],
            "image/png": "[encoded data removed]"
          },
          "metadata": {}
        }
      ]
    },
    {
      "cell_type": "code",
      "source": [
        "fig = plt.figure()\n",
        "ax = fig.add_subplot(projection=\"3d\")\n",
        "\n",
        "x = df['2019']\n",
        "z = df['2014']\n",
        "y = df['2012']\n",
        "ax.scatter(x, y, z)\n",
        "plt.title('Діаграма розсіювання за 2012, 2014, 2019')\n",
        "plt.show()"
      ],
      "metadata": {
        "colab": {
          "base_uri": "https://localhost:8080/",
          "height": 438
        },
        "id": "vdT20nbMZPsR",
        "outputId": "dba9dc05-07d8-4035-9890-29bb311b41e1"
      },
      "execution_count": 45,
      "outputs": [
        {
          "output_type": "display_data",
          "data": {
            "text/plain": [
              "<Figure size 640x480 with 1 Axes>"
            ],
            "image/png": "[encoded data removed]"
          },
          "metadata": {}
        }
      ]
    }
  ]
}