{
  "nbformat": 4,
  "nbformat_minor": 0,
  "metadata": {
    "colab": {
      "provenance": [],
      "authorship_tag": "ABX9TyPfyHdjmXiglTrz5qfW2MZC",
      "include_colab_link": true
    },
    "kernelspec": {
      "name": "python3",
      "display_name": "Python 3"
    },
    "language_info": {
      "name": "python"
    }
  },
  "cells": [
    {
      "cell_type": "markdown",
      "metadata": {
        "id": "view-in-github",
        "colab_type": "text"
      },
      "source": [
        "<a href=\"https://colab.research.google.com/github/eughappy/HomeWork/blob/linear_hw/linear_hw.ipynb\" target=\"_parent\"><img src=\"https://colab.research.google.com/assets/colab-badge.svg\" alt=\"Open In Colab\"/></a>"
      ]
    },
    {
      "cell_type": "code",
      "source": [
        "import numpy as np"
      ],
      "metadata": {
        "id": "Yl-9iulKikp9"
      },
      "execution_count": null,
      "outputs": []
    },
    {
      "cell_type": "markdown",
      "source": [
        "# **1**"
      ],
      "metadata": {
        "id": "BIvvlPKIiouR"
      }
    },
    {
      "cell_type": "code",
      "execution_count": null,
      "metadata": {
        "colab": {
          "base_uri": "https://localhost:8080/"
        },
        "id": "4HaOjq7Ghy5H",
        "outputId": "896780ab-13a7-4505-d9c7-b3304598657e"
      },
      "outputs": [
        {
          "output_type": "stream",
          "name": "stdout",
          "text": [
            "[ 1  2  3  4  5  6  7  8  9 10]\n"
          ]
        }
      ],
      "source": [
        "a = np.arange(1,11, dtype = int)\n",
        "print(a)"
      ]
    },
    {
      "cell_type": "markdown",
      "source": [
        "# **2**"
      ],
      "metadata": {
        "id": "a6PlTblkir2I"
      }
    },
    {
      "cell_type": "code",
      "source": [
        "matrix = np.zeros((3,3), dtype=int)\n",
        "print(matrix)"
      ],
      "metadata": {
        "colab": {
          "base_uri": "https://localhost:8080/"
        },
        "id": "eWQLX89Sisgd",
        "outputId": "8b3e3658-aba5-4ae8-8625-e6516a3b8307"
      },
      "execution_count": null,
      "outputs": [
        {
          "output_type": "stream",
          "name": "stdout",
          "text": [
            "[[0 0 0]\n",
            " [0 0 0]\n",
            " [0 0 0]]\n"
          ]
        }
      ]
    },
    {
      "cell_type": "markdown",
      "source": [
        "# **3**"
      ],
      "metadata": {
        "id": "gGsLe2u7jdpG"
      }
    },
    {
      "cell_type": "code",
      "source": [
        "rand_m1 = np.random.randint(1,10,(5, 5))\n",
        "print(rand_m1)"
      ],
      "metadata": {
        "colab": {
          "base_uri": "https://localhost:8080/"
        },
        "id": "bbVCsquDjeay",
        "outputId": "f90fe94c-0521-4d64-9963-82117ee244b1"
      },
      "execution_count": null,
      "outputs": [
        {
          "output_type": "stream",
          "name": "stdout",
          "text": [
            "[[3 7 6 5 6]\n",
            " [8 4 1 8 9]\n",
            " [3 1 6 1 3]\n",
            " [2 7 1 4 8]\n",
            " [4 6 3 1 4]]\n"
          ]
        }
      ]
    },
    {
      "cell_type": "markdown",
      "source": [
        "# **4**"
      ],
      "metadata": {
        "id": "lSmmWXXhlt6u"
      }
    },
    {
      "cell_type": "code",
      "source": [
        "rand_m2 = np.random.random_sample((4,4))\n",
        "print(rand_m2)"
      ],
      "metadata": {
        "colab": {
          "base_uri": "https://localhost:8080/"
        },
        "id": "QU8jbC7Iluze",
        "outputId": "d642957d-4c52-4313-808b-3604a17b9fdc"
      },
      "execution_count": null,
      "outputs": [
        {
          "output_type": "stream",
          "name": "stdout",
          "text": [
            "[[0.85689553 0.47298399 0.66327705 0.80572861]\n",
            " [0.2529805  0.07957344 0.73276061 0.96139748]\n",
            " [0.95380473 0.49049905 0.63219206 0.73299502]\n",
            " [0.9024095  0.16224692 0.40588132 0.41709074]]\n"
          ]
        }
      ]
    },
    {
      "cell_type": "markdown",
      "source": [
        "# **5**"
      ],
      "metadata": {
        "id": "koTEM3QRmIva"
      }
    },
    {
      "cell_type": "code",
      "source": [
        "m1 = np.random.randint(1,10,(5, 5))\n",
        "m2 = np.random.randint(1,10,(5, 5))\n",
        "print(\"m1:\\n\",m1)\n",
        "print(\"m2:\\n\",m2,\"\\n\")\n",
        "print(\"m1+m2:\\n\", m1+m2)\n",
        "print(\"m1-m2:\\n\", m1-m2)\n",
        "print(\"m1*m2:\\n\", m1*m2)"
      ],
      "metadata": {
        "id": "4gR4T6yEmJde",
        "colab": {
          "base_uri": "https://localhost:8080/"
        },
        "outputId": "400392f2-cbcd-4160-f485-5883a2f53830"
      },
      "execution_count": null,
      "outputs": [
        {
          "output_type": "stream",
          "name": "stdout",
          "text": [
            "m1:\n",
            " [[4 3 4 2 1]\n",
            " [7 6 3 1 1]\n",
            " [2 6 3 4 7]\n",
            " [2 5 4 2 5]\n",
            " [5 6 7 4 5]]\n",
            "m2:\n",
            " [[4 8 8 3 5]\n",
            " [1 3 1 7 9]\n",
            " [2 6 7 5 7]\n",
            " [6 1 9 9 6]\n",
            " [4 3 9 8 2]] \n",
            "\n",
            "m1+m2:\n",
            " [[ 8 11 12  5  6]\n",
            " [ 8  9  4  8 10]\n",
            " [ 4 12 10  9 14]\n",
            " [ 8  6 13 11 11]\n",
            " [ 9  9 16 12  7]]\n",
            "m1-m2:\n",
            " [[ 0 -5 -4 -1 -4]\n",
            " [ 6  3  2 -6 -8]\n",
            " [ 0  0 -4 -1  0]\n",
            " [-4  4 -5 -7 -1]\n",
            " [ 1  3 -2 -4  3]]\n",
            "m1*m2:\n",
            " [[16 24 32  6  5]\n",
            " [ 7 18  3  7  9]\n",
            " [ 4 36 21 20 49]\n",
            " [12  5 36 18 30]\n",
            " [20 18 63 32 10]]\n"
          ]
        }
      ]
    },
    {
      "cell_type": "markdown",
      "source": [
        "# **6**"
      ],
      "metadata": {
        "id": "OklYnJb2nSyS"
      }
    },
    {
      "cell_type": "code",
      "source": [
        "v1 = np.linspace(1,7,7,dtype=int)\n",
        "v2 = np.random.randint(1,10,7)\n",
        "print(f\"|v1: {v1}\\n|v2: {v2}\\n|v1*v2: {np.dot(v1,v2)}\")"
      ],
      "metadata": {
        "colab": {
          "base_uri": "https://localhost:8080/"
        },
        "id": "luKG50-anTo-",
        "outputId": "be84aa5a-8536-4051-95f5-f52eb1890692"
      },
      "execution_count": null,
      "outputs": [
        {
          "output_type": "stream",
          "name": "stdout",
          "text": [
            "|v1: [1 2 3 4 5 6 7]\n",
            "|v2: [9 7 6 1 1 6 2]\n",
            "|v1*v2: 100\n"
          ]
        }
      ]
    },
    {
      "cell_type": "markdown",
      "source": [
        "# **7**"
      ],
      "metadata": {
        "id": "iXVFNj7coNmf"
      }
    },
    {
      "cell_type": "code",
      "source": [
        "m1 = np.random.randint(1,10,(2,2))\n",
        "m2 = np.random.randint(1,10,(2,3))\n",
        "print(\"m1:\\n\", m1 , \"\\nm2:\\n\", m2, \"\\nm1*m2:\\n\",np.dot(m1,m2))"
      ],
      "metadata": {
        "colab": {
          "base_uri": "https://localhost:8080/"
        },
        "id": "g5qzBAMUoOXr",
        "outputId": "dc122b83-c8c7-4545-978c-a69a80b3b264"
      },
      "execution_count": null,
      "outputs": [
        {
          "output_type": "stream",
          "name": "stdout",
          "text": [
            "m1:\n",
            " [[6 2]\n",
            " [2 1]] \n",
            "m2:\n",
            " [[4 7 8]\n",
            " [4 7 5]] \n",
            "m1*m2:\n",
            " [[32 56 58]\n",
            " [12 21 21]]\n"
          ]
        }
      ]
    },
    {
      "cell_type": "markdown",
      "source": [
        "# **8**"
      ],
      "metadata": {
        "id": "Ze7OFfSDpfpY"
      }
    },
    {
      "cell_type": "code",
      "source": [
        "m = np.random.randint(1,10,(3,3))\n",
        "print(\"m:\\n\", m, \"\\nОбернена:\\n\", np.linalg.inv(m))"
      ],
      "metadata": {
        "colab": {
          "base_uri": "https://localhost:8080/"
        },
        "id": "39T2nFwjpgm_",
        "outputId": "dc26170c-ec44-49e3-b8b9-1536dc934be5"
      },
      "execution_count": null,
      "outputs": [
        {
          "output_type": "stream",
          "name": "stdout",
          "text": [
            "m:\n",
            " [[6 7 5]\n",
            " [7 8 8]\n",
            " [4 1 3]] \n",
            "Обернена:\n",
            " [[ 0.33333333 -0.33333333  0.33333333]\n",
            " [ 0.22916667 -0.04166667 -0.27083333]\n",
            " [-0.52083333  0.45833333 -0.02083333]]\n"
          ]
        }
      ]
    },
    {
      "cell_type": "markdown",
      "source": [
        "# **9**"
      ],
      "metadata": {
        "id": "OKlOOU3vqF43"
      }
    },
    {
      "cell_type": "code",
      "source": [
        "m = np.random.random_sample((4,4))\n",
        "print(\"m:\\n\", m, \"\\nТранспонована:\\n\", m.T)"
      ],
      "metadata": {
        "colab": {
          "base_uri": "https://localhost:8080/"
        },
        "id": "joz9_NKDqGuX",
        "outputId": "3416d9ce-6c26-4825-8bd8-02bc11520149"
      },
      "execution_count": null,
      "outputs": [
        {
          "output_type": "stream",
          "name": "stdout",
          "text": [
            "m:\n",
            " [[0.21097842 0.36052525 0.54937526 0.27183085]\n",
            " [0.46060162 0.69616156 0.5003559  0.71607099]\n",
            " [0.52595594 0.00139902 0.39470029 0.49216697]\n",
            " [0.40288033 0.3542983  0.50061432 0.44517663]] \n",
            "Транспонована:\n",
            " [[0.21097842 0.46060162 0.52595594 0.40288033]\n",
            " [0.36052525 0.69616156 0.00139902 0.3542983 ]\n",
            " [0.54937526 0.5003559  0.39470029 0.50061432]\n",
            " [0.27183085 0.71607099 0.49216697 0.44517663]]\n"
          ]
        }
      ]
    },
    {
      "cell_type": "markdown",
      "source": [
        "# **10**"
      ],
      "metadata": {
        "id": "zv0p9l4dqX1v"
      }
    },
    {
      "cell_type": "code",
      "source": [
        "m = np.random.randint(1,10,(3,4))\n",
        "v = np.random.randint(1,10,4)\n",
        "print(\"m:\\n\", m, \"\\nv:\\n\", v, \"\\nm*v:\\n\",np.dot(m,v))"
      ],
      "metadata": {
        "colab": {
          "base_uri": "https://localhost:8080/"
        },
        "id": "yxCirONVqYhO",
        "outputId": "99064b99-5c81-4cda-ae63-4e417275ac25"
      },
      "execution_count": null,
      "outputs": [
        {
          "output_type": "stream",
          "name": "stdout",
          "text": [
            "m:\n",
            " [[3 1 6 4]\n",
            " [3 4 7 5]\n",
            " [2 4 2 5]] \n",
            "v:\n",
            " [9 9 3 3] \n",
            "m*v:\n",
            " [66 99 75]\n"
          ]
        }
      ]
    },
    {
      "cell_type": "markdown",
      "source": [
        "# **11**"
      ],
      "metadata": {
        "id": "ceQz8fMOrWu_"
      }
    },
    {
      "cell_type": "code",
      "source": [
        "m = np.random.random_sample((4,4))\n",
        "v = np.random.random_sample(4)\n",
        "print(\"m:\\n\", m, \"\\nv:\\n\", v, \"\\nm*v:\\n\",np.dot(m,v))"
      ],
      "metadata": {
        "colab": {
          "base_uri": "https://localhost:8080/"
        },
        "id": "YlYW9hPQrXee",
        "outputId": "9b2bfe5d-0da0-4b4e-af61-b179ddaf4a74"
      },
      "execution_count": null,
      "outputs": [
        {
          "output_type": "stream",
          "name": "stdout",
          "text": [
            "m:\n",
            " [[0.52803522 0.99215804 0.39503593 0.33559644]\n",
            " [0.80545054 0.75434899 0.31306644 0.63403668]\n",
            " [0.54040458 0.29679375 0.1107879  0.3126403 ]\n",
            " [0.45697913 0.65894007 0.25425752 0.64110126]] \n",
            "v:\n",
            " [0.20012361 0.65762481 0.77828922 0.7795984 ] \n",
            "m*v:\n",
            " [1.3272227  1.3952185  0.63328555 1.22247505]\n"
          ]
        }
      ]
    },
    {
      "cell_type": "markdown",
      "source": [
        "# **12**"
      ],
      "metadata": {
        "id": "MpQFlsdDrlH3"
      }
    },
    {
      "cell_type": "code",
      "source": [
        "m1 = np.random.randint(1,10,(2, 2))\n",
        "m2 = np.random.randint(1,10,(2, 2))\n",
        "print(\"m1:\\n\",m1)\n",
        "print(\"m2:\\n\",m2,\"\\n\")\n",
        "print(\"m1*m2:\\n\", m1*m2)"
      ],
      "metadata": {
        "colab": {
          "base_uri": "https://localhost:8080/"
        },
        "id": "d4l9ulegrmA_",
        "outputId": "f113dc69-0554-4c23-8e05-b294e51f7ef7"
      },
      "execution_count": null,
      "outputs": [
        {
          "output_type": "stream",
          "name": "stdout",
          "text": [
            "m1:\n",
            " [[7 7]\n",
            " [6 7]]\n",
            "m2:\n",
            " [[5 8]\n",
            " [4 3]] \n",
            "\n",
            "m1*m2:\n",
            " [[35 56]\n",
            " [24 21]]\n"
          ]
        }
      ]
    },
    {
      "cell_type": "markdown",
      "source": [
        "# **13**"
      ],
      "metadata": {
        "id": "NCBQFWCpsAP0"
      }
    },
    {
      "cell_type": "code",
      "source": [
        "m1 = np.random.randint(1,10,(2, 2))\n",
        "m2 = np.random.randint(1,10,(2, 2))\n",
        "print(\"m1:\\n\",m1)\n",
        "print(\"m2:\\n\",m2,\"\\n\")\n",
        "print(\"Добуток:\\n\", np.dot(m1,m2))"
      ],
      "metadata": {
        "colab": {
          "base_uri": "https://localhost:8080/"
        },
        "id": "Qdw1-nB3sA13",
        "outputId": "c04518bf-ab25-4c93-8577-c19521f53250"
      },
      "execution_count": null,
      "outputs": [
        {
          "output_type": "stream",
          "name": "stdout",
          "text": [
            "m1:\n",
            " [[5 3]\n",
            " [5 4]]\n",
            "m2:\n",
            " [[8 1]\n",
            " [1 6]] \n",
            "\n",
            "Добуток:\n",
            " [[43 23]\n",
            " [44 29]]\n"
          ]
        }
      ]
    },
    {
      "cell_type": "markdown",
      "source": [
        "# **14**"
      ],
      "metadata": {
        "id": "0Te_IcKdsXb7"
      }
    },
    {
      "cell_type": "code",
      "source": [
        "m = np.random.randint(1,100,(5, 5))\n",
        "print(\"m:\\n\", m, \"\\nСума:\\n\", np.sum(m))"
      ],
      "metadata": {
        "colab": {
          "base_uri": "https://localhost:8080/"
        },
        "id": "c2DNzQC5sZIA",
        "outputId": "006cd201-31ee-4821-b14c-cfda4827f250"
      },
      "execution_count": null,
      "outputs": [
        {
          "output_type": "stream",
          "name": "stdout",
          "text": [
            "m:\n",
            " [[61  4 49 53 44]\n",
            " [37  6 72 39 87]\n",
            " [95 99 43 85 96]\n",
            " [77 34 59 43 23]\n",
            " [ 1 56 99 20 54]] \n",
            "Сума:\n",
            " 1336\n"
          ]
        }
      ]
    },
    {
      "cell_type": "markdown",
      "source": [
        "# **15**"
      ],
      "metadata": {
        "id": "nD6rW9M5tC-u"
      }
    },
    {
      "cell_type": "code",
      "source": [
        "m1 = np.random.randint(1,10,(4, 4))\n",
        "m2 = np.random.randint(1,10,(4, 4))\n",
        "print(\"m1:\\n\",m1)\n",
        "print(\"m2:\\n\",m2,\"\\n\")\n",
        "print(\"Різниця:\\n\", m1-m2)"
      ],
      "metadata": {
        "colab": {
          "base_uri": "https://localhost:8080/"
        },
        "id": "ujSh613OtECc",
        "outputId": "330bc033-de62-4e43-d8c7-f2de88371162"
      },
      "execution_count": null,
      "outputs": [
        {
          "output_type": "stream",
          "name": "stdout",
          "text": [
            "m1:\n",
            " [[8 8 1 3]\n",
            " [4 3 6 9]\n",
            " [2 1 8 7]\n",
            " [3 1 9 3]]\n",
            "m2:\n",
            " [[6 2 9 2]\n",
            " [6 5 3 9]\n",
            " [4 6 1 4]\n",
            " [7 4 5 8]] \n",
            "\n",
            "Різниця:\n",
            " [[ 2  6 -8  1]\n",
            " [-2 -2  3  0]\n",
            " [-2 -5  7  3]\n",
            " [-4 -3  4 -5]]\n"
          ]
        }
      ]
    },
    {
      "cell_type": "markdown",
      "source": [
        "# **16**"
      ],
      "metadata": {
        "id": "Hc6W19pQti2u"
      }
    },
    {
      "cell_type": "code",
      "source": [
        "m = np.random.uniform(0,1,(3,3))\n",
        "print(m)\n",
        "print(m.sum(axis=1))"
      ],
      "metadata": {
        "colab": {
          "base_uri": "https://localhost:8080/"
        },
        "id": "uyBcwIBztkAy",
        "outputId": "e9a85782-399e-4c84-d2b3-7a7910b7aca6"
      },
      "execution_count": null,
      "outputs": [
        {
          "output_type": "stream",
          "name": "stdout",
          "text": [
            "[[0.60380454 0.10514769 0.38194344]\n",
            " [0.03647606 0.89041156 0.98092086]\n",
            " [0.05994199 0.89054594 0.5769015 ]]\n",
            "[1.09089567 1.90780848 1.52738943]\n"
          ]
        }
      ]
    },
    {
      "cell_type": "markdown",
      "source": [
        "# **17**"
      ],
      "metadata": {
        "id": "SUYon4rxLDVK"
      }
    },
    {
      "cell_type": "code",
      "source": [
        "m = np.random.randint(-100,100,(3, 4))\n",
        "m_m = m**2\n",
        "print(\"m:\\n\", m, \"\\nm^2:\\n\", m_m)"
      ],
      "metadata": {
        "colab": {
          "base_uri": "https://localhost:8080/"
        },
        "id": "PjwDiR1bLEve",
        "outputId": "7d96f64d-8b43-40f9-d7e5-4de833025417"
      },
      "execution_count": null,
      "outputs": [
        {
          "output_type": "stream",
          "name": "stdout",
          "text": [
            "m:\n",
            " [[ 41   0 -96  -9]\n",
            " [ 87 -33  35 -51]\n",
            " [ 75  93 -39 -86]] \n",
            "m^2:\n",
            " [[1681    0 9216   81]\n",
            " [7569 1089 1225 2601]\n",
            " [5625 8649 1521 7396]]\n"
          ]
        }
      ]
    },
    {
      "cell_type": "markdown",
      "source": [
        "# **18**"
      ],
      "metadata": {
        "id": "HPlqkeljLdNl"
      }
    },
    {
      "cell_type": "code",
      "source": [
        "m = np.random.randint(0,100,(3, 4))\n",
        "m_sqrt = np.sqrt(m)\n",
        "print(\"m:\\n\", m, \"\\nm^2:\\n\", m_sqrt)"
      ],
      "metadata": {
        "colab": {
          "base_uri": "https://localhost:8080/"
        },
        "id": "6phhB6xALemj",
        "outputId": "199be042-0cc0-40da-e69f-530375afd35b"
      },
      "execution_count": null,
      "outputs": [
        {
          "output_type": "stream",
          "name": "stdout",
          "text": [
            "m:\n",
            " [[41  9 47 85]\n",
            " [43 63 16 94]\n",
            " [74 74 56 37]] \n",
            "m^2:\n",
            " [[6.40312424 3.         6.8556546  9.21954446]\n",
            " [6.55743852 7.93725393 4.         9.69535971]\n",
            " [8.60232527 8.60232527 7.48331477 6.08276253]]\n"
          ]
        }
      ]
    },
    {
      "cell_type": "markdown",
      "source": [
        "# 2 **task**"
      ],
      "metadata": {
        "id": "yCSN_TJqOPZ3"
      }
    },
    {
      "cell_type": "markdown",
      "source": [
        "# **1**"
      ],
      "metadata": {
        "id": "CDmF5rv4ORW2"
      }
    },
    {
      "cell_type": "code",
      "source": [
        "arr = np.array([0, 1, 2, 3, 4, 5, 6, 7, 8, 9])\n",
        "arr[arr % 2 == 1] = -1\n",
        "print(arr)"
      ],
      "metadata": {
        "colab": {
          "base_uri": "https://localhost:8080/"
        },
        "id": "_nJLiT9AOSsD",
        "outputId": "4b6f2ef2-3061-4187-aa23-bd66db9b781c"
      },
      "execution_count": null,
      "outputs": [
        {
          "output_type": "stream",
          "name": "stdout",
          "text": [
            "[ 0 -1  2 -1  4 -1  6 -1  8 -1]\n"
          ]
        }
      ]
    },
    {
      "cell_type": "markdown",
      "source": [
        "# **2**"
      ],
      "metadata": {
        "id": "RcA-3FkROzx7"
      }
    },
    {
      "cell_type": "code",
      "source": [
        "m = np.random.randint(0,10,10)\n",
        "print(\"Before resize:\\n\", m)\n",
        "m.resize((2,5))\n",
        "print(\"After resize:\\n\", m)"
      ],
      "metadata": {
        "colab": {
          "base_uri": "https://localhost:8080/"
        },
        "id": "xRi-hi1cO1IT",
        "outputId": "c19905fa-ae26-4460-8f97-1e41bcd0d978"
      },
      "execution_count": null,
      "outputs": [
        {
          "output_type": "stream",
          "name": "stdout",
          "text": [
            "Before resize:\n",
            " [1 0 8 4 0 9 6 2 4 1]\n",
            "After resize:\n",
            " [[1 0 8 4 0]\n",
            " [9 6 2 4 1]]\n"
          ]
        }
      ]
    },
    {
      "cell_type": "markdown",
      "source": [
        "# **3**"
      ],
      "metadata": {
        "id": "Gw5LCmOlPdnO"
      }
    },
    {
      "cell_type": "code",
      "source": [
        "m1 = np.random.randint(0,10,(3,3))\n",
        "m2 = np.random.randint(0,10,(3,3))\n",
        "print(\"m1:\\n\", m1, \"\\nm2:\\n\", m2, \"\\nСкладені:\\n\", np.vstack((m1,m2)))"
      ],
      "metadata": {
        "colab": {
          "base_uri": "https://localhost:8080/"
        },
        "id": "lDgT8I3IPePZ",
        "outputId": "959e2943-f855-46b8-810a-5582d0d4a208"
      },
      "execution_count": null,
      "outputs": [
        {
          "output_type": "stream",
          "name": "stdout",
          "text": [
            "m1:\n",
            " [[2 5 8]\n",
            " [8 5 0]\n",
            " [1 6 7]] \n",
            "m2:\n",
            " [[4 1 7]\n",
            " [7 9 6]\n",
            " [4 7 3]] \n",
            "Складені:\n",
            " [[2 5 8]\n",
            " [8 5 0]\n",
            " [1 6 7]\n",
            " [4 1 7]\n",
            " [7 9 6]\n",
            " [4 7 3]]\n"
          ]
        }
      ]
    },
    {
      "cell_type": "markdown",
      "source": [
        "# **4**"
      ],
      "metadata": {
        "id": "-9dUfy8DhXGT"
      }
    },
    {
      "cell_type": "code",
      "source": [
        "a = np.array([1,2,3])\n",
        "a1 = np.repeat(a,3)\n",
        "a1 = np.hstack((a1,a))\n",
        "a1 = np.hstack((a1,a))\n",
        "print(a1)\n",
        "#array([1, 1, 1, 2, 2, 2, 3, 3, 3, 1, 2, 3, 1, 2, 3, 1, 2, 3])\n"
      ],
      "metadata": {
        "colab": {
          "base_uri": "https://localhost:8080/"
        },
        "id": "5nZDoPd7hYS6",
        "outputId": "080dc766-8766-4898-b2f0-8aa9c1c7ace9"
      },
      "execution_count": null,
      "outputs": [
        {
          "output_type": "stream",
          "name": "stdout",
          "text": [
            "[1 1 1 2 2 2 3 3 3 1 2 3 1 2 3]\n"
          ]
        }
      ]
    },
    {
      "cell_type": "markdown",
      "source": [
        "# **5**"
      ],
      "metadata": {
        "id": "yCag8GU-mqws"
      }
    },
    {
      "cell_type": "code",
      "source": [
        "a = np.array([1,2,3,2,3,4,3,4,5,6])\n",
        "b = np.array([7,2,10,2,7,4,9,4,9,8])\n",
        "print(np.intersect1d(a,b))"
      ],
      "metadata": {
        "colab": {
          "base_uri": "https://localhost:8080/"
        },
        "id": "zftHtLoBmraP",
        "outputId": "4d2025ba-ed88-43c2-f083-2cc6060222e7"
      },
      "execution_count": null,
      "outputs": [
        {
          "output_type": "stream",
          "name": "stdout",
          "text": [
            "[2 4]\n"
          ]
        }
      ]
    },
    {
      "cell_type": "markdown",
      "source": [
        "# **6**"
      ],
      "metadata": {
        "id": "mTKQ6wydnd37"
      }
    },
    {
      "cell_type": "code",
      "source": [
        "np.random.seed(100)\n",
        "a = np.random.uniform(1,50, 20)\n",
        "indices = np.argsort(-a)[0:5]\n",
        "print(\"a:\\n\",a,\"\\nindices:\\n\",indices)"
      ],
      "metadata": {
        "colab": {
          "base_uri": "https://localhost:8080/"
        },
        "id": "6y_D-AK9ne6J",
        "outputId": "128ceee0-5522-4755-8334-fd3083328578"
      },
      "execution_count": null,
      "outputs": [
        {
          "output_type": "stream",
          "name": "stdout",
          "text": [
            "a:\n",
            " [27.62684215 14.64009987 21.80136195 42.39403048  1.23122395  6.95688692\n",
            " 33.86670515 41.466785    7.69862289 29.17957314 44.67477576 11.25090398\n",
            " 10.08108276  6.31046763 11.76517714 48.95256545 40.77247431  9.42510962\n",
            " 40.99501269 14.42961361] \n",
            "indices:\n",
            " [15 10  3  7 18]\n"
          ]
        }
      ]
    },
    {
      "cell_type": "markdown",
      "source": [
        "# **7**"
      ],
      "metadata": {
        "id": "yjyAyVlfpgid"
      }
    },
    {
      "cell_type": "code",
      "source": [
        "f = np.array([1,2,3,np.nan,5,6,7,np.nan])\n",
        "print(f)\n",
        "f_new = np.delete(f, np.where(np.isnan(f)))\n",
        "print(\"Новий масив:\", f_new)"
      ],
      "metadata": {
        "colab": {
          "base_uri": "https://localhost:8080/"
        },
        "id": "ztXQWkP2ph3I",
        "outputId": "12246b68-516b-456c-b729-f1638f5d6382"
      },
      "execution_count": null,
      "outputs": [
        {
          "output_type": "stream",
          "name": "stdout",
          "text": [
            "[ 1.  2.  3. nan  5.  6.  7. nan]\n",
            "Новий масив: [1. 2. 3. 5. 6. 7.]\n"
          ]
        }
      ]
    },
    {
      "cell_type": "markdown",
      "source": [
        "# **8**"
      ],
      "metadata": {
        "id": "NkxXygMtrKyB"
      }
    },
    {
      "cell_type": "code",
      "source": [
        "a = np.array([1,2,3,4,5])\n",
        "b = np.array([4,5,6,7,8])\n",
        "print(\"Евклідова відстань: \",np.linalg.norm(a - b))"
      ],
      "metadata": {
        "colab": {
          "base_uri": "https://localhost:8080/"
        },
        "id": "n5hB27-BrLZq",
        "outputId": "ae760f99-bb14-4bf4-f426-527bf3a5ab5f"
      },
      "execution_count": null,
      "outputs": [
        {
          "output_type": "stream",
          "name": "stdout",
          "text": [
            "Евклідова відстань:  6.708203932499369\n"
          ]
        }
      ]
    },
    {
      "cell_type": "markdown",
      "source": [
        "# **9**"
      ],
      "metadata": {
        "id": "WXYSpgc2rqWB"
      }
    },
    {
      "cell_type": "code",
      "source": [
        "x = np.array([1, 2, 1, 1, 3, 4, 3, 1, 1, 2, 1, 1, 2])\n",
        "count = np.cumsum(x==1)\n",
        "idx = np.searchsorted(count, 5)\n",
        "print(\"Індекс 5-го входження: \", idx)"
      ],
      "metadata": {
        "colab": {
          "base_uri": "https://localhost:8080/"
        },
        "id": "K-3friUmrrC5",
        "outputId": "037d323d-5351-4084-faa3-bfb68ee0cbde"
      },
      "execution_count": null,
      "outputs": [
        {
          "output_type": "stream",
          "name": "stdout",
          "text": [
            "Індекс 5-го входження:  8\n"
          ]
        }
      ]
    },
    {
      "cell_type": "markdown",
      "source": [
        "# **10**"
      ],
      "metadata": {
        "id": "2TZNDAGKxf58"
      }
    },
    {
      "cell_type": "code",
      "source": [
        "np.random.seed(100)\n",
        "a = np.random.randint(0, 5, 10)\n",
        "print(\"Масив:\\n\",a)\n",
        "_, ix = np.unique(a, return_index=True)\n",
        "a = np.full(a.shape,True)\n",
        "a[ix] = False\n",
        "print(\"Новий масив:\\n\",a)"
      ],
      "metadata": {
        "colab": {
          "base_uri": "https://localhost:8080/"
        },
        "id": "Db1qzsiVxg2a",
        "outputId": "365674c6-9c79-4120-c29f-f31a8485dedc"
      },
      "execution_count": null,
      "outputs": [
        {
          "output_type": "stream",
          "name": "stdout",
          "text": [
            "Масив:\n",
            " [0 0 3 0 2 4 2 2 2 2]\n",
            "Новий масив:\n",
            " [False  True False  True False False  True  True  True  True]\n"
          ]
        }
      ]
    }
  ]
}