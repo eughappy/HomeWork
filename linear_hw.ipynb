{
  "nbformat": 4,
  "nbformat_minor": 0,
  "metadata": {
    "colab": {
      "provenance": [],
      "authorship_tag": "ABX9TyOELBAP25mr9YrQ2CdF1Rxk",
      "include_colab_link": true
    },
    "kernelspec": {
      "name": "python3",
      "display_name": "Python 3"
    },
    "language_info": {
      "name": "python"
    }
  },
  "cells": [
    {
      "cell_type": "markdown",
      "metadata": {
        "id": "view-in-github",
        "colab_type": "text"
      },
      "source": [
        "<a href=\"https://colab.research.google.com/github/eughappy/HomeWork/blob/linear_hw/linear_hw.ipynb\" target=\"_parent\"><img src=\"https://colab.research.google.com/assets/colab-badge.svg\" alt=\"Open In Colab\"/></a>"
      ]
    },
    {
      "cell_type": "code",
      "source": [
        "import numpy as np"
      ],
      "metadata": {
        "id": "Yl-9iulKikp9"
      },
      "execution_count": null,
      "outputs": []
    },
    {
      "cell_type": "markdown",
      "source": [
        "# **1**"
      ],
      "metadata": {
        "id": "BIvvlPKIiouR"
      }
    },
    {
      "cell_type": "code",
      "execution_count": null,
      "metadata": {
        "colab": {
          "base_uri": "https://localhost:8080/"
        },
        "id": "4HaOjq7Ghy5H",
        "outputId": "66e1982b-a619-479c-d28a-675cfd2dadda"
      },
      "outputs": [
        {
          "output_type": "stream",
          "name": "stdout",
          "text": [
            "[ 1  2  3  4  5  6  7  8  9 10]\n"
          ]
        }
      ],
      "source": [
        "a = np.arange(1,11, dtype = int)\n",
        "print(a)"
      ]
    },
    {
      "cell_type": "markdown",
      "source": [
        "# **2**"
      ],
      "metadata": {
        "id": "a6PlTblkir2I"
      }
    },
    {
      "cell_type": "code",
      "source": [
        "matrix = np.zeros((3,3), dtype=int)\n",
        "print(matrix)"
      ],
      "metadata": {
        "colab": {
          "base_uri": "https://localhost:8080/"
        },
        "id": "eWQLX89Sisgd",
        "outputId": "cddeda03-329d-4da8-b883-d74169c1a5ec"
      },
      "execution_count": null,
      "outputs": [
        {
          "output_type": "stream",
          "name": "stdout",
          "text": [
            "[[0 0 0]\n",
            " [0 0 0]\n",
            " [0 0 0]]\n"
          ]
        }
      ]
    },
    {
      "cell_type": "markdown",
      "source": [
        "# **3**"
      ],
      "metadata": {
        "id": "gGsLe2u7jdpG"
      }
    },
    {
      "cell_type": "code",
      "source": [
        "rand_m1 = np.random.randint(1,11,(5, 5))\n",
        "print(rand_m1)"
      ],
      "metadata": {
        "colab": {
          "base_uri": "https://localhost:8080/"
        },
        "id": "bbVCsquDjeay",
        "outputId": "c9578f80-7d46-4cba-a6a9-46d751ebb702"
      },
      "execution_count": null,
      "outputs": [
        {
          "output_type": "stream",
          "name": "stdout",
          "text": [
            "[[10  4  1  8  1]\n",
            " [ 9  6  9  2  2]\n",
            " [ 6  5  2  9  1]\n",
            " [ 8  6  4  3  8]\n",
            " [ 1 10  5  6  5]]\n"
          ]
        }
      ]
    },
    {
      "cell_type": "markdown",
      "source": [
        "# **4**"
      ],
      "metadata": {
        "id": "lSmmWXXhlt6u"
      }
    },
    {
      "cell_type": "code",
      "source": [
        "rand_m2 = np.random.random_sample((4,4))\n",
        "print(rand_m2)"
      ],
      "metadata": {
        "colab": {
          "base_uri": "https://localhost:8080/"
        },
        "id": "QU8jbC7Iluze",
        "outputId": "a7758e0e-c46a-42d0-cc8e-e1dcaa7c813d"
      },
      "execution_count": null,
      "outputs": [
        {
          "output_type": "stream",
          "name": "stdout",
          "text": [
            "[[0.75890043 0.93303042 0.18971056 0.2387415 ]\n",
            " [0.68645543 0.36644796 0.33077462 0.26040977]\n",
            " [0.98732047 0.57529954 0.66203737 0.89034603]\n",
            " [0.03248576 0.57102085 0.25504352 0.38711088]]\n"
          ]
        }
      ]
    },
    {
      "cell_type": "markdown",
      "source": [
        "# **5**"
      ],
      "metadata": {
        "id": "koTEM3QRmIva"
      }
    },
    {
      "cell_type": "code",
      "source": [
        "m1 = np.random.randint(1,11,(5, 5))\n",
        "m2 = np.random.randint(1,11,(5, 5))\n",
        "print(\"m1:\\n\",m1)\n",
        "print(\"m2:\\n\",m2,\"\\n\")\n",
        "print(\"m1+m2:\\n\", m1+m2)\n",
        "print(\"m1-m2:\\n\", m1-m2)\n",
        "print(\"m1*m2:\\n\", m1*m2)"
      ],
      "metadata": {
        "id": "4gR4T6yEmJde",
        "colab": {
          "base_uri": "https://localhost:8080/"
        },
        "outputId": "e54e3e31-c680-402e-f203-0ef255051e72"
      },
      "execution_count": null,
      "outputs": [
        {
          "output_type": "stream",
          "name": "stdout",
          "text": [
            "m1:\n",
            " [[ 2  7  9  8 10]\n",
            " [ 6  5  2  3  1]\n",
            " [ 2  9  4  1  2]\n",
            " [ 3  3  8  5 10]\n",
            " [ 2  7  9  2  5]]\n",
            "m2:\n",
            " [[3 9 7 3 1]\n",
            " [3 3 7 2 8]\n",
            " [7 8 8 4 9]\n",
            " [9 7 1 3 2]\n",
            " [5 7 3 8 4]] \n",
            "\n",
            "m1+m2:\n",
            " [[ 5 16 16 11 11]\n",
            " [ 9  8  9  5  9]\n",
            " [ 9 17 12  5 11]\n",
            " [12 10  9  8 12]\n",
            " [ 7 14 12 10  9]]\n",
            "m1-m2:\n",
            " [[-1 -2  2  5  9]\n",
            " [ 3  2 -5  1 -7]\n",
            " [-5  1 -4 -3 -7]\n",
            " [-6 -4  7  2  8]\n",
            " [-3  0  6 -6  1]]\n",
            "m1*m2:\n",
            " [[ 6 63 63 24 10]\n",
            " [18 15 14  6  8]\n",
            " [14 72 32  4 18]\n",
            " [27 21  8 15 20]\n",
            " [10 49 27 16 20]]\n"
          ]
        }
      ]
    },
    {
      "cell_type": "markdown",
      "source": [
        "# **6**"
      ],
      "metadata": {
        "id": "OklYnJb2nSyS"
      }
    },
    {
      "cell_type": "code",
      "source": [
        "v1 = np.linspace(1,7,7,dtype=int)\n",
        "v2 = np.random.randint(1,11,7)\n",
        "print(f\"|v1: {v1}\\n|v2: {v2}\\n|v1*v2: {np.dot(v1,v2)}\")"
      ],
      "metadata": {
        "colab": {
          "base_uri": "https://localhost:8080/"
        },
        "id": "luKG50-anTo-",
        "outputId": "bc77909a-b00a-4d8b-a4b8-68083e1e5497"
      },
      "execution_count": null,
      "outputs": [
        {
          "output_type": "stream",
          "name": "stdout",
          "text": [
            "|v1: [1 2 3 4 5 6 7]\n",
            "|v2: [2 9 6 8 5 1 4]\n",
            "|v1*v2: 129\n"
          ]
        }
      ]
    },
    {
      "cell_type": "markdown",
      "source": [
        "# **7**"
      ],
      "metadata": {
        "id": "iXVFNj7coNmf"
      }
    },
    {
      "cell_type": "code",
      "source": [
        "m1 = np.random.randint(1,11,(2,2))\n",
        "m2 = np.random.randint(1,11,(2,3))\n",
        "print(\"m1:\\n\", m1 , \"\\nm2:\\n\", m2, \"\\nm1*m2:\\n\",np.dot(m1,m2))"
      ],
      "metadata": {
        "colab": {
          "base_uri": "https://localhost:8080/"
        },
        "id": "g5qzBAMUoOXr",
        "outputId": "5deaddde-c85c-4718-eecb-d396366f96d4"
      },
      "execution_count": null,
      "outputs": [
        {
          "output_type": "stream",
          "name": "stdout",
          "text": [
            "m1:\n",
            " [[3 5]\n",
            " [3 9]] \n",
            "m2:\n",
            " [[4 1 4]\n",
            " [2 4 6]] \n",
            "m1*m2:\n",
            " [[22 23 42]\n",
            " [30 39 66]]\n"
          ]
        }
      ]
    },
    {
      "cell_type": "markdown",
      "source": [
        "# **8**"
      ],
      "metadata": {
        "id": "Ze7OFfSDpfpY"
      }
    },
    {
      "cell_type": "code",
      "source": [
        "m = np.random.randint(1,10,(3,3))\n",
        "print(\"m:\\n\", m, \"\\nОбернена:\\n\", np.linalg.inv(m))"
      ],
      "metadata": {
        "colab": {
          "base_uri": "https://localhost:8080/"
        },
        "id": "39T2nFwjpgm_",
        "outputId": "eec479a3-b0bf-4716-ecce-3dbf198096c0"
      },
      "execution_count": null,
      "outputs": [
        {
          "output_type": "stream",
          "name": "stdout",
          "text": [
            "m:\n",
            " [[6 4 9]\n",
            " [4 1 5]\n",
            " [1 7 8]] \n",
            "Обернена:\n",
            " [[ 1.         -1.14814815 -0.40740741]\n",
            " [ 1.         -1.44444444 -0.22222222]\n",
            " [-1.          1.40740741  0.37037037]]\n"
          ]
        }
      ]
    },
    {
      "cell_type": "markdown",
      "source": [
        "# **9**"
      ],
      "metadata": {
        "id": "OKlOOU3vqF43"
      }
    },
    {
      "cell_type": "code",
      "source": [
        "m = np.random.random_sample((4,4))\n",
        "print(\"m:\\n\", m, \"\\nТранспонована:\\n\", m.T)"
      ],
      "metadata": {
        "colab": {
          "base_uri": "https://localhost:8080/"
        },
        "id": "joz9_NKDqGuX",
        "outputId": "e9fd4b2d-4d9c-4a73-bb9b-c0ed85595a75"
      },
      "execution_count": null,
      "outputs": [
        {
          "output_type": "stream",
          "name": "stdout",
          "text": [
            "m:\n",
            " [[0.12409922 0.9803117  0.00918055 0.7359641 ]\n",
            " [0.98733689 0.94223848 0.48600361 0.69047166]\n",
            " [0.71021246 0.78295018 0.80421003 0.18859531]\n",
            " [0.67627484 0.52282413 0.23442841 0.3092219 ]] \n",
            "Транспонована:\n",
            " [[0.12409922 0.98733689 0.71021246 0.67627484]\n",
            " [0.9803117  0.94223848 0.78295018 0.52282413]\n",
            " [0.00918055 0.48600361 0.80421003 0.23442841]\n",
            " [0.7359641  0.69047166 0.18859531 0.3092219 ]]\n"
          ]
        }
      ]
    },
    {
      "cell_type": "markdown",
      "source": [
        "# **10**"
      ],
      "metadata": {
        "id": "zv0p9l4dqX1v"
      }
    },
    {
      "cell_type": "code",
      "source": [
        "m = np.random.randint(1,11,(3,4))\n",
        "v = np.random.randint(1,11,4)\n",
        "print(\"m:\\n\", m, \"\\nv:\\n\", v, \"\\nm*v:\\n\",np.dot(m,v))"
      ],
      "metadata": {
        "colab": {
          "base_uri": "https://localhost:8080/"
        },
        "id": "yxCirONVqYhO",
        "outputId": "baad9b62-7b34-41ea-a36b-919c2681eaf5"
      },
      "execution_count": null,
      "outputs": [
        {
          "output_type": "stream",
          "name": "stdout",
          "text": [
            "m:\n",
            " [[10  2  7  9]\n",
            " [10  9 10  4]\n",
            " [10  9  3  3]] \n",
            "v:\n",
            " [2 7 2 4] \n",
            "m*v:\n",
            " [ 84 119 101]\n"
          ]
        }
      ]
    },
    {
      "cell_type": "markdown",
      "source": [
        "# **11**"
      ],
      "metadata": {
        "id": "ceQz8fMOrWu_"
      }
    },
    {
      "cell_type": "code",
      "source": [
        "m = np.random.random_sample((4,4))\n",
        "v = np.random.random_sample(4)\n",
        "print(\"m:\\n\", m, \"\\nv:\\n\", v, \"\\nm*v:\\n\",np.dot(m,v))"
      ],
      "metadata": {
        "colab": {
          "base_uri": "https://localhost:8080/"
        },
        "id": "YlYW9hPQrXee",
        "outputId": "4bab1be7-c8b8-4804-f281-7aff22b584b3"
      },
      "execution_count": null,
      "outputs": [
        {
          "output_type": "stream",
          "name": "stdout",
          "text": [
            "m:\n",
            " [[0.85192822 0.14992877 0.31697178 0.4038566 ]\n",
            " [0.88108388 0.41599913 0.48123856 0.56489635]\n",
            " [0.94841531 0.45102395 0.12171267 0.84964519]\n",
            " [0.71817446 0.94313163 0.9322711  0.15749047]] \n",
            "v:\n",
            " [0.59674004 0.75798947 0.68279187 0.44055497] \n",
            "m*v:\n",
            " [1.01637089 1.41855466 1.36524863 1.84937763]\n"
          ]
        }
      ]
    },
    {
      "cell_type": "markdown",
      "source": [
        "# **12**"
      ],
      "metadata": {
        "id": "MpQFlsdDrlH3"
      }
    },
    {
      "cell_type": "code",
      "source": [
        "m1 = np.random.randint(1,11,(2, 2))\n",
        "m2 = np.random.randint(1,11,(2, 2))\n",
        "print(\"m1:\\n\",m1)\n",
        "print(\"m2:\\n\",m2,\"\\n\")\n",
        "print(\"m1*m2:\\n\", m1*m2)"
      ],
      "metadata": {
        "colab": {
          "base_uri": "https://localhost:8080/"
        },
        "id": "d4l9ulegrmA_",
        "outputId": "b66ccf5f-465e-46aa-a81d-819683aa0f63"
      },
      "execution_count": null,
      "outputs": [
        {
          "output_type": "stream",
          "name": "stdout",
          "text": [
            "m1:\n",
            " [[1 1]\n",
            " [4 6]]\n",
            "m2:\n",
            " [[ 6 10]\n",
            " [ 6  6]] \n",
            "\n",
            "m1*m2:\n",
            " [[ 6 10]\n",
            " [24 36]]\n"
          ]
        }
      ]
    },
    {
      "cell_type": "markdown",
      "source": [
        "# **13**"
      ],
      "metadata": {
        "id": "NCBQFWCpsAP0"
      }
    },
    {
      "cell_type": "code",
      "source": [
        "m1 = np.random.randint(1,11,(2, 2))\n",
        "m2 = np.random.randint(1,11,(2, 2))\n",
        "print(\"m1:\\n\",m1)\n",
        "print(\"m2:\\n\",m2,\"\\n\")\n",
        "print(\"Добуток:\\n\", np.dot(m1,m2))"
      ],
      "metadata": {
        "colab": {
          "base_uri": "https://localhost:8080/"
        },
        "id": "Qdw1-nB3sA13",
        "outputId": "5dc4671f-6acb-4876-81f0-74095e778215"
      },
      "execution_count": null,
      "outputs": [
        {
          "output_type": "stream",
          "name": "stdout",
          "text": [
            "m1:\n",
            " [[6 5]\n",
            " [6 2]]\n",
            "m2:\n",
            " [[ 8  7]\n",
            " [ 4 10]] \n",
            "\n",
            "Добуток:\n",
            " [[68 92]\n",
            " [56 62]]\n"
          ]
        }
      ]
    },
    {
      "cell_type": "markdown",
      "source": [
        "# **14**"
      ],
      "metadata": {
        "id": "0Te_IcKdsXb7"
      }
    },
    {
      "cell_type": "code",
      "source": [
        "m = np.random.randint(1,101,(5, 5))\n",
        "print(\"m:\\n\", m, \"\\nСума:\\n\", np.sum(m))"
      ],
      "metadata": {
        "colab": {
          "base_uri": "https://localhost:8080/"
        },
        "id": "c2DNzQC5sZIA",
        "outputId": "5d24ec76-474a-473a-f947-7874e195daed"
      },
      "execution_count": null,
      "outputs": [
        {
          "output_type": "stream",
          "name": "stdout",
          "text": [
            "m:\n",
            " [[80 66 35 92 26]\n",
            " [93 10 86 56 83]\n",
            " [17 63 74 46  1]\n",
            " [89 95 95 97 57]\n",
            " [28 69 28 77 35]] \n",
            "Сума:\n",
            " 1498\n"
          ]
        }
      ]
    },
    {
      "cell_type": "markdown",
      "source": [
        "# **15**"
      ],
      "metadata": {
        "id": "nD6rW9M5tC-u"
      }
    },
    {
      "cell_type": "code",
      "source": [
        "m1 = np.random.randint(1,11,(4, 4))\n",
        "m2 = np.random.randint(1,11,(4, 4))\n",
        "print(\"m1:\\n\",m1)\n",
        "print(\"m2:\\n\",m2,\"\\n\")\n",
        "print(\"Різниця:\\n\", m1-m2)"
      ],
      "metadata": {
        "colab": {
          "base_uri": "https://localhost:8080/"
        },
        "id": "ujSh613OtECc",
        "outputId": "9eec5c32-08fc-4553-8a36-081968be318b"
      },
      "execution_count": null,
      "outputs": [
        {
          "output_type": "stream",
          "name": "stdout",
          "text": [
            "m1:\n",
            " [[ 5 10  1  3]\n",
            " [10  7  9 10]\n",
            " [ 9  2  7  7]\n",
            " [ 8  6  4 10]]\n",
            "m2:\n",
            " [[ 9  3  5  5]\n",
            " [ 7  8  5  5]\n",
            " [ 6  5  7  8]\n",
            " [ 6  7 10  8]] \n",
            "\n",
            "Різниця:\n",
            " [[-4  7 -4 -2]\n",
            " [ 3 -1  4  5]\n",
            " [ 3 -3  0 -1]\n",
            " [ 2 -1 -6  2]]\n"
          ]
        }
      ]
    },
    {
      "cell_type": "markdown",
      "source": [
        "# **16**"
      ],
      "metadata": {
        "id": "Hc6W19pQti2u"
      }
    },
    {
      "cell_type": "code",
      "source": [
        "m = np.random.uniform(0,1,(3,3))\n",
        "print(\"m:\\n\",m)\n",
        "print(\"Vector:\\n\",np.reshape(m.sum(axis=1),(3,1)))"
      ],
      "metadata": {
        "colab": {
          "base_uri": "https://localhost:8080/"
        },
        "id": "uyBcwIBztkAy",
        "outputId": "fdff3dbf-3de1-4fb5-97eb-40ac1c69178f"
      },
      "execution_count": null,
      "outputs": [
        {
          "output_type": "stream",
          "name": "stdout",
          "text": [
            "m:\n",
            " [[0.21002658 0.54468488 0.76911517]\n",
            " [0.25069523 0.28589569 0.85239509]\n",
            " [0.97500649 0.88485329 0.35950784]]\n",
            "Vector:\n",
            " [[1.52382663]\n",
            " [1.38898601]\n",
            " [2.21936763]]\n"
          ]
        }
      ]
    },
    {
      "cell_type": "markdown",
      "source": [
        "# **17**"
      ],
      "metadata": {
        "id": "SUYon4rxLDVK"
      }
    },
    {
      "cell_type": "code",
      "source": [
        "m = np.random.randint(-100,101,(3, 4))\n",
        "m_m = m**2\n",
        "print(\"m:\\n\", m, \"\\nm^2:\\n\", m_m)"
      ],
      "metadata": {
        "colab": {
          "base_uri": "https://localhost:8080/"
        },
        "id": "PjwDiR1bLEve",
        "outputId": "4557e49e-be3a-4535-e30e-f1b162f44be9"
      },
      "execution_count": null,
      "outputs": [
        {
          "output_type": "stream",
          "name": "stdout",
          "text": [
            "m:\n",
            " [[ 65 -84  26 -48]\n",
            " [ 75  87 -56  -3]\n",
            " [  7 -95  43 -25]] \n",
            "m^2:\n",
            " [[4225 7056  676 2304]\n",
            " [5625 7569 3136    9]\n",
            " [  49 9025 1849  625]]\n"
          ]
        }
      ]
    },
    {
      "cell_type": "markdown",
      "source": [
        "# **18**"
      ],
      "metadata": {
        "id": "HPlqkeljLdNl"
      }
    },
    {
      "cell_type": "code",
      "source": [
        "m = np.random.randint(0,101,(3, 4))\n",
        "m_sqrt = np.sqrt(m)\n",
        "print(\"m:\\n\", m, \"\\nm^2:\\n\", m_sqrt)"
      ],
      "metadata": {
        "colab": {
          "base_uri": "https://localhost:8080/"
        },
        "id": "6phhB6xALemj",
        "outputId": "f9b80912-2484-4580-d6eb-d0260aabf0eb"
      },
      "execution_count": null,
      "outputs": [
        {
          "output_type": "stream",
          "name": "stdout",
          "text": [
            "m:\n",
            " [[70 49 57 46]\n",
            " [75 28 31 16]\n",
            " [ 1 42 24  1]] \n",
            "m^2:\n",
            " [[8.36660027 7.         7.54983444 6.78232998]\n",
            " [8.66025404 5.29150262 5.56776436 4.        ]\n",
            " [1.         6.4807407  4.89897949 1.        ]]\n"
          ]
        }
      ]
    },
    {
      "cell_type": "markdown",
      "source": [
        "# 2 **task**"
      ],
      "metadata": {
        "id": "yCSN_TJqOPZ3"
      }
    },
    {
      "cell_type": "markdown",
      "source": [
        "# **1**"
      ],
      "metadata": {
        "id": "CDmF5rv4ORW2"
      }
    },
    {
      "cell_type": "code",
      "source": [
        "arr = np.array([0, 1, 2, 3, 4, 5, 6, 7, 8, 9])\n",
        "arr[arr % 2 == 1] = -1\n",
        "print(arr)"
      ],
      "metadata": {
        "colab": {
          "base_uri": "https://localhost:8080/"
        },
        "id": "_nJLiT9AOSsD",
        "outputId": "7846639a-b8f3-44f1-f615-98caaee8d9fc"
      },
      "execution_count": null,
      "outputs": [
        {
          "output_type": "stream",
          "name": "stdout",
          "text": [
            "[ 0 -1  2 -1  4 -1  6 -1  8 -1]\n"
          ]
        }
      ]
    },
    {
      "cell_type": "markdown",
      "source": [
        "# **2**"
      ],
      "metadata": {
        "id": "RcA-3FkROzx7"
      }
    },
    {
      "cell_type": "code",
      "source": [
        "m = np.random.randint(0,11,10)\n",
        "print(\"Before resize:\\n\", m)\n",
        "m.resize((2,5))\n",
        "print(\"After resize:\\n\", m)"
      ],
      "metadata": {
        "colab": {
          "base_uri": "https://localhost:8080/"
        },
        "id": "xRi-hi1cO1IT",
        "outputId": "d7f8eda2-ebf0-405f-d13f-4ff33529122f"
      },
      "execution_count": null,
      "outputs": [
        {
          "output_type": "stream",
          "name": "stdout",
          "text": [
            "Before resize:\n",
            " [ 7 10  1  0  2  8 10  6  5  3]\n",
            "After resize:\n",
            " [[ 7 10  1  0  2]\n",
            " [ 8 10  6  5  3]]\n"
          ]
        }
      ]
    },
    {
      "cell_type": "markdown",
      "source": [
        "# **3**"
      ],
      "metadata": {
        "id": "Gw5LCmOlPdnO"
      }
    },
    {
      "cell_type": "code",
      "source": [
        "m1 = np.random.randint(0,11,(3,3))\n",
        "m2 = np.random.randint(0,11,(3,3))\n",
        "print(\"m1:\\n\", m1, \"\\nm2:\\n\", m2, \"\\nСкладені:\\n\", np.vstack((m1,m2)))"
      ],
      "metadata": {
        "colab": {
          "base_uri": "https://localhost:8080/"
        },
        "id": "lDgT8I3IPePZ",
        "outputId": "583dc520-6473-49d8-efd4-78c4cad0ad93"
      },
      "execution_count": null,
      "outputs": [
        {
          "output_type": "stream",
          "name": "stdout",
          "text": [
            "m1:\n",
            " [[9 2 0]\n",
            " [4 6 1]\n",
            " [4 9 4]] \n",
            "m2:\n",
            " [[9 8 6]\n",
            " [0 6 5]\n",
            " [7 3 0]] \n",
            "Складені:\n",
            " [[9 2 0]\n",
            " [4 6 1]\n",
            " [4 9 4]\n",
            " [9 8 6]\n",
            " [0 6 5]\n",
            " [7 3 0]]\n"
          ]
        }
      ]
    },
    {
      "cell_type": "markdown",
      "source": [
        "# **4**"
      ],
      "metadata": {
        "id": "-9dUfy8DhXGT"
      }
    },
    {
      "cell_type": "code",
      "source": [
        "a = np.array([1,2,3])\n",
        "a1 = np.repeat(a,3)\n",
        "a1 = np.hstack((a1,a))\n",
        "a1 = np.hstack((a1,a))\n",
        "a1 = np.hstack((a1,a))\n",
        "print(a1)\n",
        "#array([1, 1, 1, 2, 2, 2, 3, 3, 3, 1, 2, 3, 1, 2, 3, 1, 2, 3])\n"
      ],
      "metadata": {
        "colab": {
          "base_uri": "https://localhost:8080/"
        },
        "id": "5nZDoPd7hYS6",
        "outputId": "ab722454-68f0-4dc4-e169-968f318baadb"
      },
      "execution_count": null,
      "outputs": [
        {
          "output_type": "stream",
          "name": "stdout",
          "text": [
            "[1 1 1 2 2 2 3 3 3 1 2 3 1 2 3 1 2 3]\n"
          ]
        }
      ]
    },
    {
      "cell_type": "markdown",
      "source": [
        "# **5**"
      ],
      "metadata": {
        "id": "yCag8GU-mqws"
      }
    },
    {
      "cell_type": "code",
      "source": [
        "a = np.array([1,2,3,2,3,4,3,4,5,6])\n",
        "b = np.array([7,2,10,2,7,4,9,4,9,8])\n",
        "print(np.intersect1d(a,b))"
      ],
      "metadata": {
        "colab": {
          "base_uri": "https://localhost:8080/"
        },
        "id": "zftHtLoBmraP",
        "outputId": "e28f6645-d895-4723-ee77-02fb962ea731"
      },
      "execution_count": null,
      "outputs": [
        {
          "output_type": "stream",
          "name": "stdout",
          "text": [
            "[2 4]\n"
          ]
        }
      ]
    },
    {
      "cell_type": "markdown",
      "source": [
        "# **6**"
      ],
      "metadata": {
        "id": "mTKQ6wydnd37"
      }
    },
    {
      "cell_type": "code",
      "source": [
        "np.random.seed(100)\n",
        "a = np.random.uniform(1,50, 20)\n",
        "indices = np.argsort(-a)[0:5]\n",
        "print(\"a:\\n\",a,\"\\nindices:\\n\",indices)"
      ],
      "metadata": {
        "colab": {
          "base_uri": "https://localhost:8080/"
        },
        "id": "6y_D-AK9ne6J",
        "outputId": "d8bb0a2a-4e0c-4cfe-e2ce-0ed8ffe22e0d"
      },
      "execution_count": null,
      "outputs": [
        {
          "output_type": "stream",
          "name": "stdout",
          "text": [
            "a:\n",
            " [27.62684215 14.64009987 21.80136195 42.39403048  1.23122395  6.95688692\n",
            " 33.86670515 41.466785    7.69862289 29.17957314 44.67477576 11.25090398\n",
            " 10.08108276  6.31046763 11.76517714 48.95256545 40.77247431  9.42510962\n",
            " 40.99501269 14.42961361] \n",
            "indices:\n",
            " [15 10  3  7 18]\n"
          ]
        }
      ]
    },
    {
      "cell_type": "markdown",
      "source": [
        "# **7**"
      ],
      "metadata": {
        "id": "yjyAyVlfpgid"
      }
    },
    {
      "cell_type": "code",
      "source": [
        "f = np.array([1,2,3,np.nan,5,6,7,np.nan])\n",
        "print(f)\n",
        "f_new = np.delete(f, np.where(np.isnan(f)))\n",
        "print(\"Новий масив:\", f_new)"
      ],
      "metadata": {
        "colab": {
          "base_uri": "https://localhost:8080/"
        },
        "id": "ztXQWkP2ph3I",
        "outputId": "6af5f8f2-90f8-45a7-d79b-912ffa7e6556"
      },
      "execution_count": null,
      "outputs": [
        {
          "output_type": "stream",
          "name": "stdout",
          "text": [
            "[ 1.  2.  3. nan  5.  6.  7. nan]\n",
            "Новий масив: [1. 2. 3. 5. 6. 7.]\n"
          ]
        }
      ]
    },
    {
      "cell_type": "markdown",
      "source": [
        "# **8**"
      ],
      "metadata": {
        "id": "NkxXygMtrKyB"
      }
    },
    {
      "cell_type": "code",
      "source": [
        "a = np.array([1,2,3,4,5])\n",
        "b = np.array([4,5,6,7,8])\n",
        "print(\"Евклідова відстань: \",np.linalg.norm(a - b))"
      ],
      "metadata": {
        "colab": {
          "base_uri": "https://localhost:8080/"
        },
        "id": "n5hB27-BrLZq",
        "outputId": "cb7872ce-1e89-4f80-e826-2bcca481200e"
      },
      "execution_count": null,
      "outputs": [
        {
          "output_type": "stream",
          "name": "stdout",
          "text": [
            "Евклідова відстань:  6.708203932499369\n"
          ]
        }
      ]
    },
    {
      "cell_type": "markdown",
      "source": [
        "# **9**"
      ],
      "metadata": {
        "id": "WXYSpgc2rqWB"
      }
    },
    {
      "cell_type": "code",
      "source": [
        "x = np.array([1, 2, 1, 1, 3, 4, 3, 1, 1, 2, 1, 1, 2])\n",
        "count = np.cumsum(x==1)\n",
        "idx = np.searchsorted(count, 5)\n",
        "print(\"Індекс 5-го входження: \", idx)"
      ],
      "metadata": {
        "colab": {
          "base_uri": "https://localhost:8080/"
        },
        "id": "K-3friUmrrC5",
        "outputId": "90669e3a-4f91-4d5b-fc59-c393d4ac0f36"
      },
      "execution_count": null,
      "outputs": [
        {
          "output_type": "stream",
          "name": "stdout",
          "text": [
            "Індекс 5-го входження:  8\n"
          ]
        }
      ]
    },
    {
      "cell_type": "markdown",
      "source": [
        "# **10**"
      ],
      "metadata": {
        "id": "2TZNDAGKxf58"
      }
    },
    {
      "cell_type": "code",
      "source": [
        "np.random.seed(100)\n",
        "a = np.random.randint(0, 5, 10)\n",
        "print(\"Масив:\\n\",a)\n",
        "_, ix = np.unique(a, return_index=True)\n",
        "a = np.full(a.shape,True)\n",
        "a[ix] = False\n",
        "print(\"Новий масив:\\n\",a)"
      ],
      "metadata": {
        "colab": {
          "base_uri": "https://localhost:8080/"
        },
        "id": "Db1qzsiVxg2a",
        "outputId": "f5043c80-a814-4493-8add-dc4523df7c3b"
      },
      "execution_count": null,
      "outputs": [
        {
          "output_type": "stream",
          "name": "stdout",
          "text": [
            "Масив:\n",
            " [0 0 3 0 2 4 2 2 2 2]\n",
            "Новий масив:\n",
            " [False  True False  True False False  True  True  True  True]\n"
          ]
        }
      ]
    }
  ]
}