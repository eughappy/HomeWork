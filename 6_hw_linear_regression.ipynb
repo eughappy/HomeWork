{
  "nbformat": 4,
  "nbformat_minor": 0,
  "metadata": {
    "colab": {
      "provenance": [],
      "authorship_tag": "ABX9TyM4kQACNiC70+GkUmHILnI+",
      "include_colab_link": true
    },
    "kernelspec": {
      "name": "python3",
      "display_name": "Python 3"
    },
    "language_info": {
      "name": "python"
    }
  },
  "cells": [
    {
      "cell_type": "markdown",
      "metadata": {
        "id": "view-in-github",
        "colab_type": "text"
      },
      "source": [
        "<a href=\"https://colab.research.google.com/github/eughappy/HomeWork/blob/linear_regression/6_hw_linear_regression.ipynb\" target=\"_parent\"><img src=\"https://colab.research.google.com/assets/colab-badge.svg\" alt=\"Open In Colab\"/></a>"
      ]
    },
    {
      "cell_type": "code",
      "source": [
        "import numpy as np\n",
        "from sklearn.linear_model import LinearRegression\n",
        "import matplotlib.pyplot as plt\n",
        "import pandas as pd\n",
        "from sklearn.preprocessing import StandardScaler\n"
      ],
      "metadata": {
        "id": "xMRgxp-IlN5-"
      },
      "execution_count": 2,
      "outputs": []
    },
    {
      "cell_type": "code",
      "source": [
        "df = pd.read_csv('Housing.csv')"
      ],
      "metadata": {
        "id": "-oEQJHHIrY_A"
      },
      "execution_count": 5,
      "outputs": []
    },
    {
      "cell_type": "code",
      "execution_count": 6,
      "metadata": {
        "id": "t8vaUNFvkzW-"
      },
      "outputs": [],
      "source": [
        "def linear_predict(a, x, b=0):\n",
        "    return np.dot(a, x.T) + b"
      ]
    },
    {
      "cell_type": "code",
      "source": [
        "def loss(a, x, y):\n",
        "    m = len(y)  # Number of training examples\n",
        "    predicted_values = linear_predict(a, x)  # Predicted values for all examples\n",
        "    loss = np.sum((predicted_values - y) ** 2) / (2 * m)  # Mean squared error loss\n",
        "    return loss"
      ],
      "metadata": {
        "id": "f7fPinIwwvho"
      },
      "execution_count": 7,
      "outputs": []
    },
    {
      "cell_type": "code",
      "source": [
        "def gradient_descent_step(x, y, a, learning_rate):\n",
        "    m = len(y)  # Кількість прикладів\n",
        "    gradient = np.dot(x.T, (linear_predict(a, x) - y)) / m  # Обчислюємо градієнт\n",
        "    a -= learning_rate * gradient  # Оновлюємо параметри\n",
        "    return a"
      ],
      "metadata": {
        "id": "vUC07nT7GPyy"
      },
      "execution_count": 4,
      "outputs": []
    },
    {
      "cell_type": "code",
      "source": [
        "x = df[['area', 'bedrooms', 'bathrooms']].values\n",
        "a = np.zeros(x.shape[1])\n",
        "y = df['price'].values\n",
        "print(loss(a,x,y))"
      ],
      "metadata": {
        "colab": {
          "base_uri": "https://localhost:8080/"
        },
        "id": "KjO2WhAgw5Gr",
        "outputId": "a7b65e22-f1a5-4d47-ab1a-a3b8a6c0be79"
      },
      "execution_count": 13,
      "outputs": [
        {
          "output_type": "stream",
          "name": "stdout",
          "text": [
            "13106916364659.266\n"
          ]
        }
      ]
    },
    {
      "cell_type": "code",
      "source": [
        "scaler = StandardScaler()\n",
        "x_scaled = scaler.fit_transform(x)\n",
        "learning_rate = 0.01\n",
        "num_iterations = 1000\n",
        "for i in range(num_iterations):\n",
        "    a = gradient_descent_step(x_scaled, y, a, learning_rate)\n",
        "\n",
        "print(\"Найкращі параметри w за градієнтним спуском:\", a)\n",
        "\n",
        "w_analytical = np.linalg.inv(x_scaled.T @ x_scaled) @ x_scaled.T @ y\n",
        "print(\"Параметри за допомогою аналітичного рішення:\", w_analytical)\n",
        "\n",
        "model = LinearRegression()\n",
        "model.fit(x_scaled, y)\n",
        "print(\"Параметри, отримані з використанням LinearRegression:\", model.coef_)"
      ],
      "metadata": {
        "colab": {
          "base_uri": "https://localhost:8080/"
        },
        "id": "0V-S63pA9bQG",
        "outputId": "2bde85c4-16f2-4f44-e71e-c76f218fbec9"
      },
      "execution_count": 16,
      "outputs": [
        {
          "output_type": "stream",
          "name": "stdout",
          "text": [
            "Найкращі параметри w за градієнтним спуском: [821214.14365057 299983.5721532  695808.52158054]\n",
            "Параметри за допомогою аналітичного рішення: [821214.14349519 299983.57107963 695808.52272537]\n",
            "Параметри, отримані з використанням LinearRegression: [821214.14349519 299983.57107963 695808.52272537]\n"
          ]
        }
      ]
    },
    {
      "cell_type": "markdown",
      "source": [
        "Параметри майже однакові у всіх випадках."
      ],
      "metadata": {
        "id": "2AXGNc6q5e_T"
      }
    }
  ]
}