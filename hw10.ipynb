{
  "nbformat": 4,
  "nbformat_minor": 0,
  "metadata": {
    "colab": {
      "provenance": [],
      "authorship_tag": "ABX9TyP5RMxNugllXbPqi/yro8A7",
      "include_colab_link": true
    },
    "kernelspec": {
      "name": "python3",
      "display_name": "Python 3"
    },
    "language_info": {
      "name": "python"
    }
  },
  "cells": [
    {
      "cell_type": "markdown",
      "metadata": {
        "id": "view-in-github",
        "colab_type": "text"
      },
      "source": [
        "<a href=\"https://colab.research.google.com/github/eughappy/HomeWork/blob/recommend_systems/hw10.ipynb\" target=\"_parent\"><img src=\"https://colab.research.google.com/assets/colab-badge.svg\" alt=\"Open In Colab\"/></a>"
      ]
    },
    {
      "cell_type": "markdown",
      "source": [
        "Встановлюємо деякі бібліотеки для роботи з ДЗ."
      ],
      "metadata": {
        "id": "kvyEEVOfETF-"
      }
    },
    {
      "cell_type": "code",
      "source": [
        "!pip install patool\n",
        "!pip install scikit-surprise"
      ],
      "metadata": {
        "id": "4t3s_qqH2eHZ",
        "colab": {
          "base_uri": "https://localhost:8080/"
        },
        "outputId": "fd282ea1-3618-4e04-d654-0989dec398f3"
      },
      "execution_count": 1,
      "outputs": [
        {
          "output_type": "stream",
          "name": "stdout",
          "text": [
            "Requirement already satisfied: patool in /usr/local/lib/python3.10/dist-packages (2.2.0)\n",
            "Requirement already satisfied: scikit-surprise in /usr/local/lib/python3.10/dist-packages (1.1.4)\n",
            "Requirement already satisfied: joblib>=1.2.0 in /usr/local/lib/python3.10/dist-packages (from scikit-surprise) (1.4.2)\n",
            "Requirement already satisfied: numpy>=1.19.5 in /usr/local/lib/python3.10/dist-packages (from scikit-surprise) (1.25.2)\n",
            "Requirement already satisfied: scipy>=1.6.0 in /usr/local/lib/python3.10/dist-packages (from scikit-surprise) (1.11.4)\n"
          ]
        }
      ]
    },
    {
      "cell_type": "markdown",
      "source": [
        "Імпорт потрібних модулів"
      ],
      "metadata": {
        "id": "AEyG3O8MEZOA"
      }
    },
    {
      "cell_type": "code",
      "execution_count": 14,
      "metadata": {
        "id": "rnPDKZO50Fi5"
      },
      "outputs": [],
      "source": [
        "import numpy as np\n",
        "import pandas as pd\n",
        "import matplotlib.pyplot as plt\n",
        "import patoolib\n",
        "from surprise import Dataset, Reader, SVD, NMF, SVDpp\n",
        "from surprise.model_selection import cross_validate\n",
        "from surprise.model_selection import train_test_split\n",
        "from surprise import accuracy\n",
        "from surprise.model_selection import GridSearchCV"
      ]
    },
    {
      "cell_type": "markdown",
      "source": [
        "Розпаковуємо архів"
      ],
      "metadata": {
        "id": "4a_c-9mkEcy8"
      }
    },
    {
      "cell_type": "code",
      "source": [
        "patoolib.extract_archive('ml-latest-small.zip')"
      ],
      "metadata": {
        "id": "RF59Ed-g0bh6",
        "colab": {
          "base_uri": "https://localhost:8080/",
          "height": 174
        },
        "outputId": "f6e91b1c-45bf-4878-e33f-1a45e0071f9d"
      },
      "execution_count": 4,
      "outputs": [
        {
          "output_type": "stream",
          "name": "stderr",
          "text": [
            "INFO patool: Extracting ml-latest-small.zip ...\n",
            "INFO:patool:Extracting ml-latest-small.zip ...\n",
            "INFO patool: running /usr/bin/7z x -o./Unpack_spvplqk6 -- ml-latest-small.zip\n",
            "INFO:patool:running /usr/bin/7z x -o./Unpack_spvplqk6 -- ml-latest-small.zip\n",
            "INFO patool:     with input=''\n",
            "INFO:patool:    with input=''\n",
            "INFO patool: ... ml-latest-small.zip extracted to `ml-latest-small2' (local file exists).\n",
            "INFO:patool:... ml-latest-small.zip extracted to `ml-latest-small2' (local file exists).\n"
          ]
        },
        {
          "output_type": "execute_result",
          "data": {
            "text/plain": [
              "'ml-latest-small2'"
            ],
            "application/vnd.google.colaboratory.intrinsic+json": {
              "type": "string"
            }
          },
          "metadata": {},
          "execution_count": 4
        }
      ]
    },
    {
      "cell_type": "markdown",
      "source": [
        "Створюємо об'єкт рідер та об'єкт датасету, для подальшої роботи з ним"
      ],
      "metadata": {
        "id": "ZKiN9wJXEe4U"
      }
    },
    {
      "cell_type": "code",
      "source": [
        "reader = Reader(line_format = 'user item rating' , sep = ',', skip_lines=1, rating_scale = (0.5,5))\n",
        "ds = Dataset.load_from_file('/content/ml-latest-small/ratings.csv',reader=reader)"
      ],
      "metadata": {
        "id": "VO4M7cuM4GNg"
      },
      "execution_count": 5,
      "outputs": []
    },
    {
      "cell_type": "markdown",
      "source": [
        "Створюємо нашу модель матричної факторизації"
      ],
      "metadata": {
        "id": "LPmf1m9REw1E"
      }
    },
    {
      "cell_type": "code",
      "source": [
        "svd = SVD()"
      ],
      "metadata": {
        "id": "oBCvbkgi8Zf8"
      },
      "execution_count": 6,
      "outputs": []
    },
    {
      "cell_type": "code",
      "source": [
        "cross_validate(svd, ds, measures=['RMSE', 'MAE'], cv=5, verbose=True)"
      ],
      "metadata": {
        "id": "wPGFh8jv9ejn",
        "colab": {
          "base_uri": "https://localhost:8080/"
        },
        "outputId": "cf71cc6d-979f-4852-c4a1-35a803e80492"
      },
      "execution_count": 7,
      "outputs": [
        {
          "output_type": "stream",
          "name": "stdout",
          "text": [
            "Evaluating RMSE, MAE of algorithm SVD on 5 split(s).\n",
            "\n",
            "                  Fold 1  Fold 2  Fold 3  Fold 4  Fold 5  Mean    Std     \n",
            "RMSE (testset)    0.8720  0.8682  0.8829  0.8763  0.8689  0.8737  0.0054  \n",
            "MAE (testset)     0.6708  0.6674  0.6798  0.6706  0.6684  0.6714  0.0044  \n",
            "Fit time          2.01    2.74    3.14    2.22    1.43    2.31    0.59    \n",
            "Test time         0.56    0.23    0.47    0.12    0.12    0.30    0.18    \n"
          ]
        },
        {
          "output_type": "execute_result",
          "data": {
            "text/plain": [
              "{'test_rmse': array([0.87204234, 0.86817064, 0.8829176 , 0.87626992, 0.8688863 ]),\n",
              " 'test_mae': array([0.67080479, 0.66741654, 0.67977547, 0.67058332, 0.66843924]),\n",
              " 'fit_time': (2.0109643936157227,\n",
              "  2.7440013885498047,\n",
              "  3.135277509689331,\n",
              "  2.216446876525879,\n",
              "  1.4264984130859375),\n",
              " 'test_time': (0.5633409023284912,\n",
              "  0.23215627670288086,\n",
              "  0.4669461250305176,\n",
              "  0.12061715126037598,\n",
              "  0.12234020233154297)}"
            ]
          },
          "metadata": {},
          "execution_count": 7
        }
      ]
    },
    {
      "cell_type": "markdown",
      "source": [
        "Підбираємо параметри для SVD"
      ],
      "metadata": {
        "id": "MJTnlmxALj-J"
      }
    },
    {
      "cell_type": "code",
      "source": [
        "params = {'n_factors': [20, 50, 100], 'n_epochs': [5, 10, 20] }\n",
        "gs = GridSearchCV(SVD, params, measures=['rmse', 'mae'], cv=10)\n",
        "gs.fit(ds)\n",
        "print(gs.best_score['rmse'])\n",
        "print(gs.best_params['rmse'])"
      ],
      "metadata": {
        "id": "R0WCqZBVGWwN",
        "colab": {
          "base_uri": "https://localhost:8080/"
        },
        "outputId": "d56c8ce6-912b-41da-9520-723151c2e810"
      },
      "execution_count": 8,
      "outputs": [
        {
          "output_type": "stream",
          "name": "stdout",
          "text": [
            "0.8655253156807685\n",
            "{'n_factors': 20, 'n_epochs': 20}\n"
          ]
        }
      ]
    },
    {
      "cell_type": "markdown",
      "source": [
        "Cтворюємо NMF модель"
      ],
      "metadata": {
        "id": "RHY8EjUuYV_1"
      }
    },
    {
      "cell_type": "code",
      "source": [
        "nmf = NMF()"
      ],
      "metadata": {
        "id": "zPxZ-WQLLpZg"
      },
      "execution_count": 11,
      "outputs": []
    },
    {
      "cell_type": "code",
      "source": [
        "cross_validate(nmf, ds, measures=['RMSE', 'MAE'], cv=5, verbose=True)"
      ],
      "metadata": {
        "colab": {
          "base_uri": "https://localhost:8080/"
        },
        "id": "_TdIsHWQLt2w",
        "outputId": "fe8f777c-8184-498b-f613-99aacf1752fc"
      },
      "execution_count": 12,
      "outputs": [
        {
          "output_type": "stream",
          "name": "stdout",
          "text": [
            "Evaluating RMSE, MAE of algorithm NMF on 5 split(s).\n",
            "\n",
            "                  Fold 1  Fold 2  Fold 3  Fold 4  Fold 5  Mean    Std     \n",
            "RMSE (testset)    0.9252  0.9222  0.9249  0.9172  0.9268  0.9233  0.0034  \n",
            "MAE (testset)     0.7088  0.7094  0.7043  0.7021  0.7107  0.7071  0.0033  \n",
            "Fit time          2.57    2.93    3.94    2.56    2.61    2.92    0.53    \n",
            "Test time         0.23    0.23    0.34    0.11    0.22    0.23    0.07    \n"
          ]
        },
        {
          "output_type": "execute_result",
          "data": {
            "text/plain": [
              "{'test_rmse': array([0.92523003, 0.92220984, 0.92494998, 0.91722778, 0.92680469]),\n",
              " 'test_mae': array([0.70878952, 0.70942533, 0.70426396, 0.70207631, 0.71074319]),\n",
              " 'fit_time': (2.5664865970611572,\n",
              "  2.932262420654297,\n",
              "  3.93656325340271,\n",
              "  2.5566818714141846,\n",
              "  2.611300468444824),\n",
              " 'test_time': (0.2340850830078125,\n",
              "  0.22584199905395508,\n",
              "  0.3356931209564209,\n",
              "  0.10665130615234375,\n",
              "  0.2237708568572998)}"
            ]
          },
          "metadata": {},
          "execution_count": 12
        }
      ]
    },
    {
      "cell_type": "markdown",
      "source": [
        "Підбираємо оптимальні параметри для NMF"
      ],
      "metadata": {
        "id": "D7n4qB_kYY_9"
      }
    },
    {
      "cell_type": "code",
      "source": [
        "params = {'n_factors': [20, 50, 100], 'n_epochs': [5, 10, 20] }\n",
        "gs = GridSearchCV(NMF, params, measures=['rmse', 'mae'], cv=10)\n",
        "gs.fit(ds)\n",
        "print(gs.best_score['rmse'])\n",
        "print(gs.best_params['rmse'])"
      ],
      "metadata": {
        "id": "SGj_4_FkOEig",
        "colab": {
          "base_uri": "https://localhost:8080/"
        },
        "outputId": "1eb25401-d0dc-4ecb-f6ab-086a0b6663a4"
      },
      "execution_count": 13,
      "outputs": [
        {
          "output_type": "stream",
          "name": "stdout",
          "text": [
            "1.039377038272806\n",
            "{'n_factors': 20, 'n_epochs': 20}\n"
          ]
        }
      ]
    },
    {
      "cell_type": "markdown",
      "source": [
        "**Висновок: Як можна побачити, то SVD має менші RMSE та MAE, що означає, шо SVD краще спрвавляється з передбаченням ніж NMF\n",
        "найкращі параметри для обох алгоритмів виявилися: {'n_factors': 20, 'n_epochs': 20}**"
      ],
      "metadata": {
        "id": "Kcfb0G0mXv_w"
      }
    }
  ]
}