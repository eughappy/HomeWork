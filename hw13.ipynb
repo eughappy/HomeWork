{
  "nbformat": 4,
  "nbformat_minor": 0,
  "metadata": {
    "colab": {
      "provenance": [],
      "authorship_tag": "ABX9TyP3vBrgJDSt+I1n0NI5Pjq1",
      "include_colab_link": true
    },
    "kernelspec": {
      "name": "python3",
      "display_name": "Python 3"
    },
    "language_info": {
      "name": "python"
    }
  },
  "cells": [
    {
      "cell_type": "markdown",
      "metadata": {
        "id": "view-in-github",
        "colab_type": "text"
      },
      "source": [
        "<a href=\"https://colab.research.google.com/github/eughappy/HomeWork/blob/CNN/hw13.ipynb\" target=\"_parent\"><img src=\"https://colab.research.google.com/assets/colab-badge.svg\" alt=\"Open In Colab\"/></a>"
      ]
    },
    {
      "cell_type": "markdown",
      "source": [
        "# 1 part"
      ],
      "metadata": {
        "id": "tGSPR-wjujgp"
      }
    },
    {
      "cell_type": "code",
      "source": [
        "import numpy as np\n",
        "import tensorflow as tf\n",
        "from tensorflow.keras.datasets import fashion_mnist\n",
        "from tensorflow.keras.models import Sequential\n",
        "from tensorflow.keras.layers import Conv2D, MaxPooling2D, Flatten, Dense, Dropout, BatchNormalization, GlobalAveragePooling2D\n",
        "from tensorflow.keras.optimizers import Adam\n",
        "from tensorflow.keras.callbacks import EarlyStopping, ReduceLROnPlateau\n",
        "import matplotlib.pyplot as plt\n",
        "from tensorflow.keras.applications import VGG16\n",
        "from tensorflow.keras.utils import to_categorical"
      ],
      "metadata": {
        "id": "ZUXufRmrpUfk"
      },
      "execution_count": 21,
      "outputs": []
    },
    {
      "cell_type": "code",
      "source": [
        "(x_train, y_train), (x_test, y_test) = fashion_mnist.load_data()\n",
        "\n",
        "x_train = x_train.reshape((60000, 28, 28, 1))\n",
        "x_train= x_train.astype(\"float32\") / 255\n",
        "x_test = x_test.reshape((10000, 28, 28, 1))\n",
        "x_test = x_test.astype(\"float32\") / 255\n",
        "y_train = to_categorical(y_train)\n",
        "y_test = to_categorical(y_test)"
      ],
      "metadata": {
        "id": "1PiPKO-gpV1v"
      },
      "execution_count": 29,
      "outputs": []
    },
    {
      "cell_type": "code",
      "execution_count": 7,
      "metadata": {
        "id": "yp-5OM2lyxnH"
      },
      "outputs": [],
      "source": [
        "model1 = Sequential([\n",
        "    Conv2D(32, kernel_size=(3, 3), activation='relu', input_shape=(28, 28, 1)),\n",
        "    MaxPooling2D(pool_size=(2, 2)),\n",
        "    Dropout(0.2),\n",
        "    Conv2D(64, kernel_size=(3, 3), activation='relu'),\n",
        "    MaxPooling2D(pool_size=(2, 2)),\n",
        "    Dropout(0.2),\n",
        "    Conv2D(128, kernel_size=(3, 3), activation='relu'),\n",
        "    Flatten(),\n",
        "    Dense(128, activation='relu'),\n",
        "    Dropout(0.5),\n",
        "    Dense(10, activation='softmax')\n",
        "])"
      ]
    },
    {
      "cell_type": "code",
      "source": [
        "model1.compile(optimizer=\"rmsprop\",loss=\"categorical_crossentropy\",metrics=[\"accuracy\"])"
      ],
      "metadata": {
        "id": "so5qPOUxq744"
      },
      "execution_count": 8,
      "outputs": []
    },
    {
      "cell_type": "code",
      "source": [
        "history = model1.fit(x_train, y_train, validation_data=(x_test,y_test), epochs=5, batch_size=64)"
      ],
      "metadata": {
        "colab": {
          "base_uri": "https://localhost:8080/"
        },
        "id": "bFG7Vwo5q9TA",
        "outputId": "1d3b21c2-ee2d-44a9-8036-c5eed773b847"
      },
      "execution_count": 9,
      "outputs": [
        {
          "output_type": "stream",
          "name": "stdout",
          "text": [
            "Epoch 1/5\n",
            "938/938 [==============================] - 70s 74ms/step - loss: 0.6352 - accuracy: 0.7674 - val_loss: 0.3949 - val_accuracy: 0.8569\n",
            "Epoch 2/5\n",
            "938/938 [==============================] - 64s 69ms/step - loss: 0.3898 - accuracy: 0.8596 - val_loss: 0.3367 - val_accuracy: 0.8789\n",
            "Epoch 3/5\n",
            "938/938 [==============================] - 65s 70ms/step - loss: 0.3363 - accuracy: 0.8802 - val_loss: 0.3026 - val_accuracy: 0.8907\n",
            "Epoch 4/5\n",
            "938/938 [==============================] - 67s 71ms/step - loss: 0.3101 - accuracy: 0.8893 - val_loss: 0.2882 - val_accuracy: 0.8985\n",
            "Epoch 5/5\n",
            "938/938 [==============================] - 66s 71ms/step - loss: 0.2940 - accuracy: 0.8975 - val_loss: 0.2854 - val_accuracy: 0.9011\n"
          ]
        }
      ]
    },
    {
      "cell_type": "code",
      "source": [
        "model2 = Sequential([\n",
        "    Conv2D(32, kernel_size=(3, 3), activation='relu', input_shape=(28, 28, 1)),\n",
        "    BatchNormalization(),\n",
        "    MaxPooling2D(pool_size=(2, 2)),\n",
        "    Dropout(0.2),\n",
        "\n",
        "    Conv2D(64, kernel_size=(3, 3), activation='relu'),\n",
        "    BatchNormalization(),\n",
        "    MaxPooling2D(pool_size=(2, 2)),\n",
        "    Dropout(0.2),\n",
        "\n",
        "    Conv2D(128, kernel_size=(3, 3), activation='relu'),\n",
        "    BatchNormalization(),\n",
        "    Flatten(),\n",
        "\n",
        "    Dense(128, activation='relu'),\n",
        "    BatchNormalization(),\n",
        "    Dropout(0.5),\n",
        "\n",
        "    Dense(10, activation='softmax')\n",
        "])"
      ],
      "metadata": {
        "id": "gktbBgVGuSH3"
      },
      "execution_count": 10,
      "outputs": []
    },
    {
      "cell_type": "code",
      "source": [
        "model2.compile(optimizer=\"rmsprop\",loss=\"categorical_crossentropy\",metrics=[\"accuracy\"])"
      ],
      "metadata": {
        "id": "HZht4gaeuaUM"
      },
      "execution_count": 11,
      "outputs": []
    },
    {
      "cell_type": "code",
      "source": [
        "history2 = model2.fit(x_train, y_train, validation_data=(x_test,y_test), epochs=5, batch_size=64)"
      ],
      "metadata": {
        "colab": {
          "base_uri": "https://localhost:8080/"
        },
        "id": "269fqJQgub_U",
        "outputId": "666843b9-fcf5-49f0-d71c-13d40e158ae3"
      },
      "execution_count": null,
      "outputs": [
        {
          "output_type": "stream",
          "name": "stdout",
          "text": [
            "Epoch 1/5\n",
            "938/938 [==============================] - 86s 90ms/step - loss: 0.5225 - accuracy: 0.8171 - val_loss: 0.3486 - val_accuracy: 0.8692\n",
            "Epoch 2/5\n",
            "938/938 [==============================] - 86s 92ms/step - loss: 0.3485 - accuracy: 0.8765 - val_loss: 0.4092 - val_accuracy: 0.8545\n",
            "Epoch 3/5\n",
            "938/938 [==============================] - 86s 92ms/step - loss: 0.3075 - accuracy: 0.8905 - val_loss: 0.3036 - val_accuracy: 0.8891\n",
            "Epoch 4/5\n",
            "938/938 [==============================] - 84s 89ms/step - loss: 0.2816 - accuracy: 0.9007 - val_loss: 0.3098 - val_accuracy: 0.8885\n",
            "Epoch 5/5\n",
            "938/938 [==============================] - 84s 89ms/step - loss: 0.2652 - accuracy: 0.9051 - val_loss: 0.2827 - val_accuracy: 0.8991\n"
          ]
        }
      ]
    },
    {
      "cell_type": "markdown",
      "source": [
        "Найкращою виявилась модель у якій застосовано BatchNormalization окрім дропаутів.\n",
        "\n",
        "Порівняння результатів багатошарової нейронної мережі (MLP) та згорткової нейронної мережі (CNN):\n",
        "\n",
        "Результати багатошарової нейронної мережі після навчання: 82.31%\n",
        "Втрати після навчання: 0.4009\n",
        "\n",
        "\n",
        "Результати згорткової нейронної мережі (CNN) після навчання: 90.51%\n",
        "Втрати після навчання: 0.2652\n",
        "\n",
        "Згорткова нейронна мережа  показала вищу точність на тестових даних (90.51%) у порівнянні з багатошаровою нейронною мережею  (82.31%). Проте навчається така модель довше: 7 хвилин, коли багатошарова нейронна мережа навчилася лише за 2-3 хвилини."
      ],
      "metadata": {
        "id": "UVaRljfTiUId"
      }
    },
    {
      "cell_type": "markdown",
      "source": [
        "# PART 2"
      ],
      "metadata": {
        "id": "4RiK8zwe-YGY"
      }
    },
    {
      "cell_type": "code",
      "source": [
        "(x_train, y_train), (x_test, y_test) = fashion_mnist.load_data()"
      ],
      "metadata": {
        "id": "zgP1c78VBpBc"
      },
      "execution_count": 36,
      "outputs": []
    },
    {
      "cell_type": "code",
      "source": [
        "x_train = x_train.reshape(-1, 28, 28, 1)\n",
        "x_test = x_test.reshape(-1, 28, 28, 1)"
      ],
      "metadata": {
        "id": "WOjhCrZeBrbL"
      },
      "execution_count": 37,
      "outputs": []
    },
    {
      "cell_type": "code",
      "source": [
        "x_train = np.repeat(x_train, 3, axis=3)\n",
        "x_test = np.repeat(x_test, 3, axis=3)"
      ],
      "metadata": {
        "id": "PJIG3a1IA7eD"
      },
      "execution_count": 38,
      "outputs": []
    },
    {
      "cell_type": "code",
      "source": [
        "x_train = tf.image.resize(x_train, [32, 32])\n",
        "x_test = tf.image.resize(x_test, [32, 32])"
      ],
      "metadata": {
        "id": "8StPA1rb_47f"
      },
      "execution_count": 39,
      "outputs": []
    },
    {
      "cell_type": "code",
      "source": [
        "vgg16_base = VGG16(weights='imagenet', include_top=False, input_shape=(32, 32, 3))\n",
        "vgg16_base.trainable = False"
      ],
      "metadata": {
        "id": "fpe9ySMV73Bh"
      },
      "execution_count": 40,
      "outputs": []
    },
    {
      "cell_type": "code",
      "source": [
        "model = Sequential([\n",
        "    vgg16_base,\n",
        "    GlobalAveragePooling2D(),\n",
        "    Dense(256, activation='relu'),\n",
        "    Dropout(0.5),\n",
        "    Dense(10, activation='softmax')\n",
        "])"
      ],
      "metadata": {
        "id": "1eul1aEy-T66"
      },
      "execution_count": 41,
      "outputs": []
    },
    {
      "cell_type": "code",
      "source": [
        "model.compile(optimizer=Adam(learning_rate=0.001),\n",
        "              loss='sparse_categorical_crossentropy',\n",
        "              metrics=['accuracy'])\n",
        "\n",
        "early_stopping = EarlyStopping(monitor='val_loss', patience=3)\n",
        "reduce_lr = ReduceLROnPlateau(monitor='val_loss', factor=0.2, patience=2, min_lr=0.0001)"
      ],
      "metadata": {
        "id": "8MCUfr4h-XKG"
      },
      "execution_count": 42,
      "outputs": []
    },
    {
      "cell_type": "code",
      "source": [
        "history = model.fit(x_train, y_train, epochs=10, batch_size=256, validation_split=0.2, callbacks=[early_stopping, reduce_lr])"
      ],
      "metadata": {
        "colab": {
          "base_uri": "https://localhost:8080/"
        },
        "id": "qLtmnygHAKl3",
        "outputId": "3828a06e-97c9-43bb-cc67-7a6054b14085"
      },
      "execution_count": 43,
      "outputs": [
        {
          "output_type": "stream",
          "name": "stdout",
          "text": [
            "Epoch 1/10\n",
            "188/188 [==============================] - 791s 4s/step - loss: 2.3773 - accuracy: 0.6733 - val_loss: 0.6143 - val_accuracy: 0.7923 - lr: 0.0010\n",
            "Epoch 2/10\n",
            "188/188 [==============================] - 780s 4s/step - loss: 0.7052 - accuracy: 0.7622 - val_loss: 0.5336 - val_accuracy: 0.8152 - lr: 0.0010\n",
            "Epoch 3/10\n",
            "188/188 [==============================] - 719s 4s/step - loss: 0.5919 - accuracy: 0.7945 - val_loss: 0.4987 - val_accuracy: 0.8268 - lr: 0.0010\n",
            "Epoch 4/10\n",
            "188/188 [==============================] - 779s 4s/step - loss: 0.5321 - accuracy: 0.8084 - val_loss: 0.4775 - val_accuracy: 0.8319 - lr: 0.0010\n",
            "Epoch 5/10\n",
            "188/188 [==============================] - 780s 4s/step - loss: 0.4934 - accuracy: 0.8219 - val_loss: 0.4599 - val_accuracy: 0.8378 - lr: 0.0010\n",
            "Epoch 6/10\n",
            "188/188 [==============================] - 727s 4s/step - loss: 0.4705 - accuracy: 0.8294 - val_loss: 0.4491 - val_accuracy: 0.8441 - lr: 0.0010\n",
            "Epoch 7/10\n",
            "188/188 [==============================] - 783s 4s/step - loss: 0.4492 - accuracy: 0.8366 - val_loss: 0.4436 - val_accuracy: 0.8428 - lr: 0.0010\n",
            "Epoch 8/10\n",
            "188/188 [==============================] - 782s 4s/step - loss: 0.4302 - accuracy: 0.8420 - val_loss: 0.4325 - val_accuracy: 0.8491 - lr: 0.0010\n",
            "Epoch 9/10\n",
            "188/188 [==============================] - 784s 4s/step - loss: 0.4131 - accuracy: 0.8483 - val_loss: 0.4377 - val_accuracy: 0.8462 - lr: 0.0010\n",
            "Epoch 10/10\n",
            "188/188 [==============================] - 782s 4s/step - loss: 0.4027 - accuracy: 0.8514 - val_loss: 0.4263 - val_accuracy: 0.8532 - lr: 0.0010\n"
          ]
        }
      ]
    },
    {
      "cell_type": "code",
      "source": [
        "for layer in vgg16_base.layers[-4:]:\n",
        "    layer.trainable = True"
      ],
      "metadata": {
        "id": "xBxH-p23AQEW"
      },
      "execution_count": 44,
      "outputs": []
    },
    {
      "cell_type": "code",
      "source": [
        "model.compile(optimizer=Adam(learning_rate=0.0001),\n",
        "              loss='sparse_categorical_crossentropy',\n",
        "              metrics=['accuracy'])"
      ],
      "metadata": {
        "id": "Xn_75LTylX3g"
      },
      "execution_count": 45,
      "outputs": []
    },
    {
      "cell_type": "code",
      "source": [
        "history_fine = model.fit(x_train, y_train, epochs=2, batch_size=512,\n",
        "                         validation_split=0.2, callbacks=[early_stopping, reduce_lr])"
      ],
      "metadata": {
        "colab": {
          "base_uri": "https://localhost:8080/"
        },
        "id": "bseGpCADlbx8",
        "outputId": "0d79d116-dce0-4a57-a988-fd0ad445f1fb"
      },
      "execution_count": 50,
      "outputs": [
        {
          "output_type": "stream",
          "name": "stdout",
          "text": [
            "Epoch 1/2\n",
            "94/94 [==============================] - 728s 8s/step - loss: 0.3665 - accuracy: 0.8632 - val_loss: 0.4220 - val_accuracy: 0.8560 - lr: 1.0000e-04\n",
            "Epoch 2/2\n",
            "94/94 [==============================] - 730s 8s/step - loss: 0.3568 - accuracy: 0.8670 - val_loss: 0.4194 - val_accuracy: 0.8577 - lr: 1.0000e-04\n"
          ]
        }
      ]
    },
    {
      "cell_type": "markdown",
      "source": [
        "Порівняння результатів багатошарової нейронної мережі (MLP) та згорткової нейронної мережі (CNN на VGG16):\n",
        "\n",
        "Результати багатошарової нейронної мережі після навчання: 82.31%\n",
        "Втрати після навчання: 0.4009\n",
        "\n",
        "\n",
        "Результати згорткової нейронної мережі (CNN на VGG16) після навчання та донавчання: 85.77%\n",
        "Втрати після навчання: 0.3568\n",
        "\n",
        "Згорткова нейронна мережа  показала вищу точність на тестових даних (85.77%) у порівнянні з багатошаровою нейронною мережею  (82.31%).\n",
        "Згорткова модель на VGG16 навчаэтсья у рази довше, близько години,а результати не дуже кращі. Також ця згорткова нейронна мережа споживає більше пам'яті, ніж багатошарова нейронна мережа, через свою складну архітектуру."
      ],
      "metadata": {
        "id": "ZnofIuhHvQSu"
      }
    }
  ]
}